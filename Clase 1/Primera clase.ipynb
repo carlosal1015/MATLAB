{
 "cells": [
  {
   "cell_type": "markdown",
   "metadata": {},
   "source": [
    "# Introducción a Matlab (Octave) #\n",
    "\n",
    "## ¿Qué es Matlab? ##\n",
    "\n",
    "- Es un entorno matemático multiparadigma.\n",
    "- Es un lenguaje de programación.\n",
    "- Escrito en C, C++ y Java.\n",
    "- Se creó en **1984**.\n",
    "- Es un software privativo, patentado por *Mathworks*.\n",
    "- Cleve Barry Moler es el padre del programa.\n",
    "- [Sitio web oficial de Matlab]()\n",
    "\n",
    "<p align=\"center\">\n",
    "  <img src=\"https://upload.wikimedia.org/wikipedia/commons/2/21/Matlab_Logo.png\" width=\"250\">\n",
    "</p>\n",
    "\n",
    "## ¿Qué es GNU Octave? ##\n",
    "\n",
    "- Fue creado en **1988**.\n",
    "- Es un software libre (con licencia GPL).\n",
    "- Escrito en C, C++, Fortran.\n",
    "- Se le reconoce como padre a John W. Eaton.\n",
    "- Se llama en honor al ingeniero químico *Octave Levenspiel*.\n",
    "- [Sitio web oficial de GNU Octave](https://www.gnu.org/software/octave)\n",
    "- Si no desea instalar Octave en su ordenador, puede probar la versión cloud [aquí](https://www.verbosus.com)\n",
    "\n",
    "<p align=\"center\">\n",
    "  <img src=\"https://www.gnu.org/software/octave/img/octave-logo.svg\"  width=\"250\">\n",
    "</p>\n",
    "\n",
    "### Aspectos en común ###\n",
    "\n",
    "- Se usan en la enseñanza de **álgebra lineal**, **análisis numérico**, entre otros.\n",
    "- Ambos programas ejecutan ficheros con extensión `.m` (Sí y solo sí la sintáxis es común en ambos, esto se comentará a lo largo de los apuntes).\n",
    "\n",
    "### Diferencias ###\n",
    "\n",
    "- Octave admite operadores de autoincrementación y asignación de estilo C. (Si está llevando el curso CC101 *Introducción a la Ciencia de la Computación* o CC102 *Introducción a la Programación*).\n",
    "- MATLAB no permite espacios en blanco antes del operador de trasposición, pero Octave sí (es solo un operador como otros).\n",
    "- MATLAB siempre requiere ... para la continuación de línea.\n",
    "- Más diferencias se mostrará en los próximos apuntes :smile:\n",
    "\n",
    "### Otros competidores de Matlab ###\n",
    "\n",
    "Sus competidores naturales son los programas [Maple](https://www.maplesoft.com/products/Maple), [Mathematica](https://www.wolfram.com/mathematica), [SageMath](https://www.sagemath.org), [Scilab](https://www.scilab.org), [Freemat](http://freemat.sourceforge.net/), [Julia](https://julialang.org/), [R](https://www.r-project.org), [Perl](http://pdl.perl.org), así como las librerías [Numpy](http://www.numpy.org), [SciPy](https://www.scipy.org), [matplotlib](https://matplotlib.org) para Python, [SciLua](http://scilua.org) y [torch](http://torch.ch) para Lua, [SciRuby](http://sciruby.com) para Ruby y [Numeric.js](http://www.numericjs.com) para Javascript.\n",
    "\n",
    "## Compatibilidad de GNU Octave con Matlab ##\n",
    "\n",
    "1. Matrices como tipo de datos fundamentales.\n",
    "2. Soporte integrado para números complejos.\n",
    "3. Potentes funciones integradas de matemáticas y extensas bibliotecas de funciones.\n",
    "4. Extensibilidad en forma de funciones definidas por el usuario.\n",
    "\n",
    "En Matlab el `;` (semicolon) al final del comando indica que la acción se ejecutará, mas no se imprimirá. Sin embargo en GNU Octave se mostrará la salida."
   ]
  },
  {
   "cell_type": "code",
   "execution_count": 9,
   "metadata": {},
   "outputs": [
    {
     "name": "stdout",
     "output_type": "stream",
     "text": [
      "Hola mundo\n"
     ]
    }
   ],
   "source": [
    "# hola mundo. Comentario del tipo I. (Works with GNU Octave)\n",
    "% hola mundo. Comentario del tipo II. (Works both Matlab or GNU Octave)\n",
    "%{\n",
    "Este es un comentario\n",
    "multilínea, análogo al /*foo*/\n",
    "en C.\n",
    "%}\n",
    "disp('Hola mundo');"
   ]
  },
  {
   "cell_type": "markdown",
   "metadata": {},
   "source": [
    "Para ver la versión, escribiremos desde el **Command Window**, en el caso de Matlab también mostrará los *Toolbox's*"
   ]
  },
  {
   "cell_type": "code",
   "execution_count": 10,
   "metadata": {},
   "outputs": [
    {
     "name": "stdout",
     "output_type": "stream",
     "text": [
      "----------------------------------------------------------------------\n",
      "GNU Octave Version: 4.2.1\n",
      "GNU Octave License: GNU General Public License\n",
      "Operating System: Linux 4.10.0-42-generic #46~16.04.1-Ubuntu SMP Mon Dec 4 15:57:59 UTC 2017 x86_64\n",
      "----------------------------------------------------------------------\n",
      "no packages installed.\n"
     ]
    }
   ],
   "source": [
    "ver"
   ]
  },
  {
   "cell_type": "markdown",
   "metadata": {},
   "source": [
    "Escriba version y verá en el *Workspace* que se guarda en la variable ans de clase *char*."
   ]
  },
  {
   "cell_type": "code",
   "execution_count": 11,
   "metadata": {},
   "outputs": [
    {
     "name": "stdout",
     "output_type": "stream",
     "text": [
      "ans = 4.2.1\n"
     ]
    }
   ],
   "source": [
    "version"
   ]
  },
  {
   "cell_type": "markdown",
   "metadata": {},
   "source": [
    "Para limpiar el **Window Command** en tanto en Matlab como Octave digite `clc`, pero también puede usar la combinación de teclas `Ctrl+l` (solo en GNU Octave).\n",
    "\n",
    "Los objetos con los que trabajaremos serán **_matrices_**, un número real o complejo (escalar) es una matriz de orden 1, un vector columna y un vector fila también son matrices.\n",
    "\n",
    "$$\\mathbf{A}= \n",
    " \\begin{bmatrix}\n",
    " a_{11} & a_{12} & \\cdots & a_{1n} \\\\\n",
    " a_{21} & a_{22} & \\cdots & a_{2n} \\\\\n",
    " \\vdots & \\vdots & \\ddots & \\vdots \\\\\n",
    " a_{m1} & a_{m2} & \\cdots & a_{mn}\n",
    " \\end{bmatrix}= \n",
    "\\left( \\begin{array}{rrrr}\n",
    " a_{11} & a_{12} & \\cdots & a_{1n} \\\\\n",
    " a_{21} & a_{22} & \\cdots & a_{2n} \\\\\n",
    " \\vdots & \\vdots & \\ddots & \\vdots \\\\\n",
    " a_{m1} & a_{m2} & \\cdots & a_{mn}\n",
    " \\end{array}\\right)=\\left(a_{ij}\\right)\\in\\mathbb{K}^{m\\times n}.$$"
   ]
  },
  {
   "cell_type": "markdown",
   "metadata": {},
   "source": [
    "Definimos la matriz $\\mathbf{A}= \n",
    " \\begin{bmatrix}\n",
    " 1 & 2 & 3 & 4 & 5\\\\\n",
    " 6 & 7 & 8 & 9 & 10\\\\\n",
    " 11 & 12 & 13 & 14 & 15\\\\\n",
    " 16 & 17 & 18 & 19 & 20\n",
    " \\end{bmatrix}$ con el siguiente comando:"
   ]
  },
  {
   "cell_type": "markdown",
   "metadata": {},
   "source": [
    "Para cambiar el formato de los números usaremos el comando `format`. Veamos la siguiente tabla:\n",
    "\n",
    "| Formato de salida | Definición |\n",
    "| :---:     \t\t| :---:\t     |\n",
    "|short\t            |cuatro cifras decimales|\n",
    "|long               | 15 decimales          |\n",
    "| hex               | cifras hexadecimales|\n",
    "| bank  | dos cifras decimales|\n",
    "| shor e | notación científica con cuatro decimales|\n",
    "| long e| notación científica con 15 decimales|\n",
    "| rational | expresa como fracciones|"
   ]
  },
  {
   "cell_type": "code",
   "execution_count": 12,
   "metadata": {},
   "outputs": [
    {
     "name": "stdout",
     "output_type": "stream",
     "text": [
      "ans =  3.14159265358979\n",
      "ans =  3.1416\n",
      "ans = 355/113\n"
     ]
    }
   ],
   "source": [
    "format long # Formato con 15 decimales.\n",
    "pi\n",
    "format # Regresa al formato short de 4 decimales.\n",
    "pi\n",
    "format rat # Formato como fracción.\n",
    "pi"
   ]
  },
  {
   "cell_type": "code",
   "execution_count": 13,
   "metadata": {},
   "outputs": [
    {
     "name": "stdout",
     "output_type": "stream",
     "text": [
      "A =\n",
      "\n",
      "          1          2          3          4          5\n",
      "          6          7          8          9         10\n",
      "         11         12         13         14         15\n",
      "         16         17         18         19         20\n",
      "\n"
     ]
    }
   ],
   "source": [
    "A = [1:5;6:10;11:15;16:20] # Matriz A de orden 4 x 5."
   ]
  },
  {
   "cell_type": "markdown",
   "metadata": {},
   "source": [
    "## Matriz traspuesta ##\n",
    "Se llama *matriz traspuesta* de una matriz cualquiera $\\mathbf{A}$ y la representamos por $\\mathbf{A}^{\\prime}$, a aquella obtenido de la $\\mathbf{A}$, cambiando ordenadamente sus filas por sus columnas; es decir, si $\\mathbf{A}=(a_{ij}), \\mathbf{A}^{\\prime}={({a}_{ij})}^{\\prime}=({a}_{ij})$.\n",
    "Para hallar la matriz traspuesta del ejemplo, simplemente escribimos:"
   ]
  },
  {
   "cell_type": "code",
   "execution_count": 14,
   "metadata": {
    "scrolled": true
   },
   "outputs": [
    {
     "name": "stdout",
     "output_type": "stream",
     "text": [
      "ans =\n",
      "\n",
      "          1          6         11         16\n",
      "          2          7         12         17\n",
      "          3          8         13         18\n",
      "          4          9         14         19\n",
      "          5         10         15         20\n",
      "\n"
     ]
    }
   ],
   "source": [
    "A'"
   ]
  },
  {
   "cell_type": "markdown",
   "metadata": {},
   "source": [
    "## Propiedades de la matriz transpuesta ##\n",
    "1. La traspuesta de la transpuesta de una matriz $\\mathbf{A}=({a}_{ij})$ es ella misma.\n",
    "2. La traspuesta de una suma de matrices es la suma de las traspuestas de dichas matrices.\n",
    "3. La traspuesta del producto de matrices es el producto de las traspuestas, permutando los factores; es decir:\n",
    "$${(A_{m\\times n}\\cdot B_{n\\times p})}^{\\prime}={B}^{\\prime}_{p\\times n}\\cdot{A}^{\\prime}_{n\\times m}$$"
   ]
  },
  {
   "cell_type": "markdown",
   "metadata": {},
   "source": [
    "## Matriz simétrica ##\n",
    "\n",
    "Se denomina *matriz simétrica* a aquella matriz $\\mathbf{A}$ tal que ${\\mathbf{A}}^{\\prime}=\\mathbf{A}$, o lo que es lo mismo, a aquella matriz tal que ${a}_{ij}={a}_{ji}\\,\\forall i,j$.\n",
    "\n",
    "Claro está que una condición necesaria es que la matriz sea **cuadrada**.\n",
    "\n",
    "## Matriz antisimétrica ##\n",
    "\n",
    "Se dice que la matriz $A$ es una *matriz antisimétrica* si ${\\mathbf{A}}^{\\prime}=-\\mathbf{A}$, es decir, si ${a}_{ij}={-a}_{ji}\\,\\forall i,j$.\n",
    "\n",
    "Necesariamente, los elementos $a_{ii}$ de la diagonal principal de una matriz antisimétrica deberán ser nulos, ya que como $a_{ii}={-a}_{ii}$, se tendrá que $2{a}_{ii}=0 \\implies a_{ii}=0$.\n",
    "\n",
    "### Propiedades ###\n",
    "1. Si $\\mathbf{A}$ es una matriz simétrica y $\\alpha\\in\\mathbb{K}$, entonces $\\alpha\\cdot\\mathbf{A}$ es simétrica.\n",
    "2. Si $\\mathbf{A}$ es una matriz cuadrada, entonces las matrices $\\mathbf{A}+{\\mathbf{A}}^{\\prime}$ y $\\mathbf{A}\\cdot{\\mathbf{A}}^{\\prime}$ son simétricas, y la matriz $\\mathbf{A}-{\\mathbf{A}}^{\\prime}$ es antisimétrica.\n",
    "3. Cualquier matriz cuadrada $\\mathbf{A}$ puede descomponerse de forma única, en suma de una matriz simétrica más otra matriz antisimétrica."
   ]
  },
  {
   "cell_type": "markdown",
   "metadata": {},
   "source": [
    "## Operaciones de rutina ##\n",
    "Para asignar una definir una variable, digite:"
   ]
  },
  {
   "cell_type": "code",
   "execution_count": 15,
   "metadata": {},
   "outputs": [
    {
     "name": "stdout",
     "output_type": "stream",
     "text": [
      "a = 389/36\n",
      "B =\n",
      "\n",
      "          1          2\n",
      "          3          4\n",
      "\n",
      "C =\n",
      "\n",
      "          3 +         2i         -5 +         0i         -0 -         1i\n",
      "          4 -     31/10i         14 +         0i          0 +         0i\n",
      "\n"
     ]
    }
   ],
   "source": [
    "a = 15 + 0.25-16/3.6\n",
    "B = [1 2 ; 3 4] % Nótese que los 'semicolon' indican el final de la fila.\n",
    "C = [3+2i -5 -i ; 4-3.1i 14 0] % También podemos ingresar valores complejos."
   ]
  },
  {
   "cell_type": "markdown",
   "metadata": {},
   "source": [
    "## El comando who y whos ##\n",
    "En Command Window escriba `who` para listar las variables utilizadas durante su sesión de estudio, si desea conocer más detalles, como por ejemplo, el espacio de memoria ocupada, el tipo de dato\n",
    "Para 'eliminar una variable' digite `clear nombre_de_la_variable` y verá que desaparece de la lista en el Workspace, pero si desea eliminar todas las variables digite `clear` o `clear all`."
   ]
  },
  {
   "cell_type": "code",
   "execution_count": 16,
   "metadata": {},
   "outputs": [
    {
     "name": "stdout",
     "output_type": "stream",
     "text": [
      "A =\n",
      "\n",
      "         17         24          1          8         15\n",
      "         23          5          7         14         16\n",
      "          4          6         13         20         22\n",
      "         10         12         19         21          3\n",
      "         11         18         25          2          9\n",
      "\n",
      "ans = 0\n",
      "Variables in the current scope:\n",
      "\n",
      "A    B    C    a    ans  n\n",
      "\n",
      "Variables in the current scope:\n",
      "\n",
      "   Attr Name        Size                     Bytes  Class\n",
      "   ==== ====        ====                     =====  ===== \n",
      "        A           5x5                        200  double\n",
      "        B           2x2                         32  double\n",
      "   c    C           2x3                         96  double\n",
      "        a           1x1                          8  double\n",
      "        ans         1x1                          8  double\n",
      "        n           1x1                          8  double\n",
      "\n",
      "Total is 38 elements using 352 bytes\n",
      "\n"
     ]
    }
   ],
   "source": [
    "A = magic(5) # Matriz mágica de orden 5.\n",
    "eps # Número positivo tal que al ser sumado 1, eps supera a 1.\n",
    "who # Nos lista las variables en el alcance actual.\n",
    "whos # Nos lista las variables, pero con detalles como el tamaño de la matriz, bytes y clase; y el total en espacio."
   ]
  },
  {
   "cell_type": "markdown",
   "metadata": {},
   "source": [
    "## Funciones elementales ##\n",
    "Las funciones definidas por el usuario la podemos ver con el comando\n",
    "\n",
    "**Ejercicio 1:**\n",
    "Calcule:\n",
    "\n",
    "$$\\displaystyle I=\\int_{1}^{e}\\frac{\\mathrm{d}x}{x}$$\n",
    "\n",
    "**Solución**\n",
    "Por el Primer teorema fundamental del cálculo, una antiderivada es log x. Y del segundo teorema fundamental del cálculo resulta:"
   ]
  },
  {
   "cell_type": "code",
   "execution_count": 17,
   "metadata": {
    "scrolled": true
   },
   "outputs": [
    {
     "name": "stdout",
     "output_type": "stream",
     "text": [
      "I = 1\n"
     ]
    }
   ],
   "source": [
    "# Ejercicio 1. Una antiderivada de f(x)=1/x es log(x).\n",
    "I = log(exp(1)) - log(exp(0))"
   ]
  },
  {
   "cell_type": "markdown",
   "metadata": {},
   "source": [
    "### Ingreso de datos ###\n",
    "\n",
    "Otra manera de asignar es con el comando `input`, veamos un ejemplo:"
   ]
  },
  {
   "cell_type": "code",
   "execution_count": 18,
   "metadata": {
    "scrolled": true
   },
   "outputs": [
    {
     "name": "stdout",
     "output_type": "stream",
     "text": [
      " Ingrese un valor:20\n"
     ]
    }
   ],
   "source": [
    "n = input (' Ingrese un valor: ' ); # Como el scanf en C :)"
   ]
  },
  {
   "cell_type": "markdown",
   "metadata": {},
   "source": [
    "### Extra ###\n",
    "En algunas universidades de Brasil usan Matlab para su curso de Matemática Básica 2 (cuyo estudio son las matrices y transformaciones lineales) y en algunas universidades de Ginebra se enseña Matlab desde el primer ciclo.\n",
    "\n",
    "[¡Vamos a la segunda clase!](https://github.com/carlosal1015/MATLAB/blob/master/Clase%201/Primera%20clase.ipynb)"
   ]
  }
 ],
 "metadata": {
  "kernelspec": {
   "display_name": "Octave",
   "language": "octave",
   "name": "octave"
  },
  "language_info": {
   "file_extension": ".m",
   "help_links": [
    {
     "text": "GNU Octave",
     "url": "https://www.gnu.org/software/octave/support.html"
    },
    {
     "text": "Octave Kernel",
     "url": "https://github.com/Calysto/octave_kernel"
    },
    {
     "text": "MetaKernel Magics",
     "url": "https://github.com/calysto/metakernel/blob/master/metakernel/magics/README.md"
    }
   ],
   "mimetype": "text/x-octave",
   "name": "octave",
   "version": "4.2.1"
  }
 },
 "nbformat": 4,
 "nbformat_minor": 2
}
