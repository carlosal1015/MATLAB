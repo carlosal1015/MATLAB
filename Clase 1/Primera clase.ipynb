{
 "cells": [
  {
   "cell_type": "markdown",
   "metadata": {},
   "source": [
    "# Introducción a Matlab (Octave) #\n",
    "\n",
    "## ¿Qué es Matlab? ##\n",
    "\n",
    "- Es un entorno matemático multiparadigma.\n",
    "- Es un lenguaje de programación.\n",
    "- Escrito en C, C++ y Java.\n",
    "- Se creó en **1984**.\n",
    "- Es un software privativo, patentado por *Mathworks*.\n",
    "- Cleve Barry Moler es el padre del programa.\n",
    "- [Sitio web oficial de Matlab]()\n",
    "\n",
    "<p align=\"center\">\n",
    "  <img src=\"https://upload.wikimedia.org/wikipedia/commons/2/21/Matlab_Logo.png\">\n",
    "</p>\n",
    "\n",
    "## ¿Qué es GNU Octave? ##\n",
    "\n",
    "- Fue creado en **1988**.\n",
    "- Es un software libre (con licencia GPL).\n",
    "- Escrito en C, C++, Fortran.\n",
    "- Se le reconoce como padre a John W. Eaton.\n",
    "- Se llama en honor al ingeniero químico *Octave Levenspiel*.\n",
    "- [Sitio web oficial de GNU Octave](https://www.gnu.org/software/octave)\n",
    "\n",
    "<p align=\"center\">\n",
    "  <img src=\"https://www.gnu.org/software/octave/img/octave-logo.svg\">\n",
    "</p>\n",
    "\n",
    "### Aspectos en común ###\n",
    "\n",
    "- Se usan en la enseñanza de **álgebra lineal**, **análisis numérico**, entre otros.\n",
    "- Ambos programas ejecutan ficheros con extensión `.m`\n",
    "\n",
    "### Otros competidores de Matlab ###\n",
    "\n",
    "Sus competidores naturales son los programas [Maple](https://www.maplesoft.com/products/Maple), [Mathematica](https://www.wolfram.com/mathematica), [SageMath](https://www.sagemath.org), [Scilab](https://www.scilab.org), [Freemat](http://freemat.sourceforge.net/), [Julia](https://julialang.org/), [R](https://www.r-project.org), [Perl](http://pdl.perl.org), así como las librerías [Numpy](http://www.numpy.org), [SciPy](https://www.scipy.org), [matplotlib](https://matplotlib.org) para Python, [SciLua](http://scilua.org) y [torch](http://torch.ch) para Lua, [SciRuby](http://sciruby.com) para Ruby y [Numeric.js](http://www.numericjs.com) para Javascript.\n",
    "\n",
    "## Compatibilidad de GNU Octave con Matlab ##\n",
    "1. Matrices como tipo de datos fundamentales.\n",
    "2. Soporte integrado para números complejos.\n",
    "3. Potentes funciones integradas de matemáticas y extensas bibliotecas de funciones.\n",
    "4. Extensibilidad en forma de funciones definidas por el usuario.\n",
    "\n",
    "En Matlab `;` indica que la acción se ejecutará, mas no se imprimirá. En GNU Octave, `;` produce un error."
   ]
  },
  {
   "cell_type": "code",
   "execution_count": 6,
   "metadata": {},
   "outputs": [
    {
     "name": "stdout",
     "output_type": "stream",
     "text": [
      "Hola mundo\n"
     ]
    }
   ],
   "source": [
    "# hola mundo. Comentario del tipo I.\n",
    "% hola mundo. Comentario del tipo II.\n",
    "disp('Hola mundo')"
   ]
  },
  {
   "cell_type": "markdown",
   "metadata": {},
   "source": [
    "Para ver la versión, escribiremos desde el **Command Window**:"
   ]
  },
  {
   "cell_type": "code",
   "execution_count": 1,
   "metadata": {},
   "outputs": [
    {
     "name": "stdout",
     "output_type": "stream",
     "text": [
      "----------------------------------------------------------------------\n",
      "GNU Octave Version: 4.2.1\n",
      "GNU Octave License: GNU General Public License\n",
      "Operating System: Linux 4.10.0-42-generic #46~16.04.1-Ubuntu SMP Mon Dec 4 15:57:59 UTC 2017 x86_64\n",
      "----------------------------------------------------------------------\n",
      "no packages installed.\n"
     ]
    }
   ],
   "source": [
    "ver"
   ]
  },
  {
   "cell_type": "markdown",
   "metadata": {},
   "source": [
    "Escriba version y verá que se guarda en la variable ans."
   ]
  },
  {
   "cell_type": "code",
   "execution_count": 2,
   "metadata": {},
   "outputs": [
    {
     "name": "stdout",
     "output_type": "stream",
     "text": [
      "ans = 4.2.1\n"
     ]
    }
   ],
   "source": [
    "version"
   ]
  },
  {
   "cell_type": "markdown",
   "metadata": {},
   "source": [
    "Los objetos con los que trabajaremos serán **_matrices_**, un número real o complejo (escalar) es una matriz de orden 1, un vector columna y un vector fila también son matrices.\n",
    "\n",
    "$$\\mathbf{A}= \n",
    " \\begin{bmatrix}\n",
    " a_{11} & a_{12} & \\cdots & a_{1n} \\\\\n",
    " a_{21} & a_{22} & \\cdots & a_{2n} \\\\\n",
    " \\vdots & \\vdots & \\ddots & \\vdots \\\\\n",
    " a_{m1} & a_{m2} & \\cdots & a_{mn}\n",
    " \\end{bmatrix}= \n",
    "\\left( \\begin{array}{rrrr}\n",
    " a_{11} & a_{12} & \\cdots & a_{1n} \\\\\n",
    " a_{21} & a_{22} & \\cdots & a_{2n} \\\\\n",
    " \\vdots & \\vdots & \\ddots & \\vdots \\\\\n",
    " a_{m1} & a_{m2} & \\cdots & a_{mn}\n",
    " \\end{array}\\right)=\\left(a_{ij}\\right)\\in\\mathbb{K}^{m\\times n}.$$"
   ]
  },
  {
   "cell_type": "markdown",
   "metadata": {},
   "source": [
    "Definimos la matriz $\\mathbf{A}= \n",
    " \\begin{bmatrix}\n",
    " 1 & 2 & 3 & 4 & 5\\\\\n",
    " 6 & 7 & 8 & 9 & 10\\\\\n",
    " 11 & 12 & 13 & 14 & 15\\\\\n",
    " 16 & 17 & 18 & 19 & 20\n",
    " \\end{bmatrix}$ con el siguiente comando:"
   ]
  },
  {
   "cell_type": "markdown",
   "metadata": {},
   "source": [
    "Para cambiar el formato de los números usaremos el comando `format`. Veamos la siguiente tabla:\n",
    "\n",
    "| Formato de salida | Definición |\n",
    "| :---:     \t\t| :---:\t     |\n",
    "|short\t            |cuatro cifras decimales|\n",
    "|long               | 15 decimales          |\n",
    "| hex               | cifras hexadecimales|\n",
    "| bank  | dos cifras decimales|\n",
    "| shor e | notación científica con cuatro decimales|\n",
    "| long e| notación científica con 15 decimales|\n",
    "| rational | expresa como fracciones|"
   ]
  },
  {
   "cell_type": "code",
   "execution_count": 1,
   "metadata": {},
   "outputs": [
    {
     "name": "stdout",
     "output_type": "stream",
     "text": [
      "ans =  3.14159265358979\n",
      "ans =  3.1416\n",
      "ans = 355/113\n"
     ]
    }
   ],
   "source": [
    "format long # 15 decimales\n",
    "pi\n",
    "format # Regresa al formato de 4 decimales\n",
    "pi\n",
    "format rat # Formato como fracción\n",
    "pi"
   ]
  },
  {
   "cell_type": "code",
   "execution_count": 2,
   "metadata": {},
   "outputs": [
    {
     "name": "stdout",
     "output_type": "stream",
     "text": [
      "A =\n",
      "\n",
      "          1          2          3          4          5\n",
      "          6          7          8          9         10\n",
      "         11         12         13         14         15\n",
      "         16         17         18         19         20\n",
      "\n"
     ]
    }
   ],
   "source": [
    "A = [1:5;6:10;11:15;16:20] #Matriz de 4 x 5"
   ]
  },
  {
   "cell_type": "markdown",
   "metadata": {},
   "source": [
    "## Matriz traspuesta ##\n",
    "Se llama *matriz traspuesta* de una matriz cualquiera $\\mathbf{A}$ y la representamos por $\\mathbf{A}^{\\prime}$, a aquella obtenido de la $\\mathbf{A}$, cambiando ordenadamente sus filas por sus columnas; es decir, si $\\mathbf{A}=(a_{ij}), \\mathbf{A}^{\\prime}={({a}_{ij})}^{\\prime}=({a}_{ij})$.\n",
    "Para hallar la matriz traspuesta del ejemplo, simplemente escribimos:"
   ]
  },
  {
   "cell_type": "code",
   "execution_count": 5,
   "metadata": {
    "scrolled": true
   },
   "outputs": [
    {
     "name": "stdout",
     "output_type": "stream",
     "text": [
      "ans =\n",
      "\n",
      "          1          6         11         16\n",
      "          2          7         12         17\n",
      "          3          8         13         18\n",
      "          4          9         14         19\n",
      "          5         10         15         20\n",
      "\n"
     ]
    }
   ],
   "source": [
    "A'"
   ]
  },
  {
   "cell_type": "markdown",
   "metadata": {},
   "source": [
    "## Propiedades de la matriz transpuesta ##\n",
    "1. La traspuesta de la transpuesta de una matriz $\\mathbf{A}=({a}_{ij})$ es ella misma.\n",
    "2. La traspuesta de una suma de matrices es la suma de las traspuestas de dichas matrices.\n",
    "3. La traspuesta del producto de matrices es el producto de las traspuestas, permutando los factores; es decir:\n",
    "$${(A_{m\\times n}\\cdot B_{n\\times p})}^{\\prime}={B}^{\\prime}_{p\\times n}\\cdot{A}^{\\prime}_{n\\times m}$$"
   ]
  },
  {
   "cell_type": "markdown",
   "metadata": {},
   "source": [
    "## Matriz simétrica ##\n",
    "\n",
    "Se denomina *matriz simétrica* a aquella matriz $\\mathbf{A}$ tal que ${\\mathbf{A}}^{\\prime}=\\mathbf{A}$, o lo que es lo mismo, a aquella matriz tal que ${a}_{ij}={a}_{ji}\\,\\forall i,j$.\n",
    "\n",
    "Claro está que una condición necesaria es que la matriz sea **cuadrada**.\n",
    "\n",
    "## Matriz antisimétrica ##\n",
    "\n",
    "Se dice que la matriz $A$ es una *matriz antisimétrica* si ${\\mathbf{A}}^{\\prime}=-\\mathbf{A}$, es decir, si ${a}_{ij}={-a}_{ji}\\,\\forall i,j$.\n",
    "\n",
    "Necesariamente, los elementos $a_{ii}$ de la diagonal principal de una matriz antisimétrica deberán ser nulos, ya que como $a_{ii}={-a}_{ii}$, se tendrá que $2{a}_{ii}=0 \\implies a_{ii}=0$.\n",
    "\n",
    "### Propiedades ###\n",
    "1. Si $\\mathbf{A}$ es una matriz simétrica y $\\alpha\\in\\mathbb{K}$, entonces $\\alpha\\cdot\\mathbb{K}$.\n",
    "2. Si $\\mathbf{A}$ es una matriz cuadrada, entonces las matrices $\\mathbf{A}+{\\mathbf{A}}^{\\prime}$ y $\\mathbf{A}\\cdot{\\mathbf{A}}^{\\prime}$ son simétricas, y la matriz $\\mathbf{A}-{\\mathbf{A}}^{\\prime}$ es antisimétrica.\n",
    "3. Cualquier matriz cuadrada $\\mathbf{A}$ puede descomponerse de forma única, en suma de una matriz simétrica más otra matriz antisimétrica."
   ]
  },
  {
   "cell_type": "markdown",
   "metadata": {},
   "source": [
    "## Funciones elementales ##\n",
    "Las funciones definidas por el usuario la podemos ver con el comando\n",
    "\n",
    "**Ejercicio 1:**\n",
    "Calcule:\n",
    "$$\\int_{1}^{e}\\frac{dx}{x}$$"
   ]
  },
  {
   "cell_type": "code",
   "execution_count": 4,
   "metadata": {},
   "outputs": [
    {
     "name": "stdout",
     "output_type": "stream",
     "text": [
      "ans = 1\n"
     ]
    }
   ],
   "source": [
    "# Ejercicio 1. Una antiderivada de Ian\n",
    "log(exp(1))"
   ]
  }
 ],
 "metadata": {
  "kernelspec": {
   "display_name": "Octave",
   "language": "octave",
   "name": "octave"
  },
  "language_info": {
   "file_extension": ".m",
   "help_links": [
    {
     "text": "GNU Octave",
     "url": "https://www.gnu.org/software/octave/support.html"
    },
    {
     "text": "Octave Kernel",
     "url": "https://github.com/Calysto/octave_kernel"
    },
    {
     "text": "MetaKernel Magics",
     "url": "https://github.com/calysto/metakernel/blob/master/metakernel/magics/README.md"
    }
   ],
   "mimetype": "text/x-octave",
   "name": "octave",
   "version": "4.2.1"
  }
 },
 "nbformat": 4,
 "nbformat_minor": 2
}
