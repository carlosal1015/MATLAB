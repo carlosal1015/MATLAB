{
 "cells": [
  {
   "cell_type": "markdown",
   "metadata": {},
   "source": [
    "# Introducción a Matlab (Octave) #\n",
    "\n",
    "## ¿Qué es Matlab? ##\n",
    "\n",
    "- Es un entorno matemático multiparadigma.\n",
    "- Es un lenguaje de programación.\n",
    "- Fue creado con C, C++ y Java.\n",
    "- Se creó en **1984**.\n",
    "- Es un software privativo, patentado por *Mathworks*.\n",
    "- Cleve Barry Moler es el padre del programa.\n",
    "- [Sitio web oficial de Matlab]()\n",
    "\n",
    "<p align=\"center\">\n",
    "  <img src=\"https://upload.wikimedia.org/wikipedia/commons/2/21/Matlab_Logo.png\">\n",
    "</p>\n",
    "\n",
    "## ¿Qué es GNU Octave? ##\n",
    "\n",
    "- Fue creado en **1988**.\n",
    "- Es un software libre (con licencia GPL).\n",
    "- Se le reconoce como padre a John W. Eaton.\n",
    "- [Sitio web oficial de GNU Octave](https://www.gnu.org/software/octave)\n",
    "\n",
    "<p align=\"center\">\n",
    "  <img src=\"https://www.gnu.org/software/octave/img/octave-logo.svg\">\n",
    "</p>\n",
    "\n",
    "### Aspectos en común ###\n",
    "\n",
    "- Se usan en la enseñanza de **álgebra lineal**, **análisis numérico**, entre otros.\n",
    "- Ambos programas \n",
    "\n",
    "### Otros competidores de Matlab ###\n",
    "\n",
    "Sus competidores naturales son los programas [Maple](https://www.maplesoft.com/products/Maple), [Mathematica](https://www.wolfram.com/mathematica), [SageMath](https://www.sagemath.org), [Scilab](https://www.scilab.org), [Freemat](http://freemat.sourceforge.net/), [Julia](https://julialang.org/), [R](https://www.r-project.org), [Perl](http://pdl.perl.org), así como las librerías [Numpy](http://www.numpy.org), [SciPy](https://www.scipy.org), [matplotlib](https://matplotlib.org) para Python, [SciLua](http://scilua.org) y [torch](http://torch.ch) para Lua, [SciRuby](http://sciruby.com) para Ruby y [Numeric.js](http://www.numericjs.com) para Javascript."
   ]
  },
  {
   "cell_type": "markdown",
   "metadata": {},
   "source": [
    "Para ver la versión, escribiremos desde el **Command Window**:"
   ]
  },
  {
   "cell_type": "code",
   "execution_count": 1,
   "metadata": {},
   "outputs": [
    {
     "name": "stdout",
     "output_type": "stream",
     "text": [
      "----------------------------------------------------------------------\n",
      "GNU Octave Version: 4.2.1\n",
      "GNU Octave License: GNU General Public License\n",
      "Operating System: Linux 4.10.0-42-generic #46~16.04.1-Ubuntu SMP Mon Dec 4 15:57:59 UTC 2017 x86_64\n",
      "----------------------------------------------------------------------\n",
      "no packages installed.\n"
     ]
    }
   ],
   "source": [
    "ver"
   ]
  },
  {
   "cell_type": "markdown",
   "metadata": {},
   "source": [
    "Escriba version y verá que se guarda en la variable ans."
   ]
  },
  {
   "cell_type": "code",
   "execution_count": 2,
   "metadata": {},
   "outputs": [
    {
     "name": "stdout",
     "output_type": "stream",
     "text": [
      "ans = 4.2.1\n"
     ]
    }
   ],
   "source": [
    "version"
   ]
  },
  {
   "cell_type": "markdown",
   "metadata": {},
   "source": [
    "Los objetos con los que trabajaremos serán **_matrices_**, un número real o complejo (escalar) es una matriz de orden 1, un vector columna y un vector fila también son matrices.\n",
    "\n",
    "$$\\mathbf{A} = \n",
    " \\begin{bmatrix}\n",
    " a_{11} & a_{12} & \\cdots & a_{1n} \\\\\n",
    " a_{21} & a_{22} & \\cdots & a_{2n} \\\\\n",
    " \\vdots & \\vdots & \\ddots & \\vdots \\\\\n",
    " a_{m1} & a_{m2} & \\cdots & a_{mn}\n",
    " \\end{bmatrix} = \n",
    "\\left( \\begin{array}{rrrr}\n",
    " a_{11} & a_{12} & \\cdots & a_{1n} \\\\\n",
    " a_{21} & a_{22} & \\cdots & a_{2n} \\\\\n",
    " \\vdots & \\vdots & \\ddots & \\vdots \\\\\n",
    " a_{m1} & a_{m2} & \\cdots & a_{mn}\n",
    " \\end{array} \\right) =\\left(a_{ij}\\right) \\in \\mathbb{K}^{m \\times n}.$$"
   ]
  }
 ],
 "metadata": {
  "kernelspec": {
   "display_name": "Octave",
   "language": "octave",
   "name": "octave"
  },
  "language_info": {
   "file_extension": ".m",
   "help_links": [
    {
     "text": "GNU Octave",
     "url": "https://www.gnu.org/software/octave/support.html"
    },
    {
     "text": "Octave Kernel",
     "url": "https://github.com/Calysto/octave_kernel"
    },
    {
     "text": "MetaKernel Magics",
     "url": "https://github.com/calysto/metakernel/blob/master/metakernel/magics/README.md"
    }
   ],
   "mimetype": "text/x-octave",
   "name": "octave",
   "version": "4.2.1"
  }
 },
 "nbformat": 4,
 "nbformat_minor": 2
}
