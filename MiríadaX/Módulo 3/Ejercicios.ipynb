{
 "cells": [
  {
   "cell_type": "markdown",
   "metadata": {},
   "source": [
    "### Ejercicio 3.5.1\n",
    "\n",
    "Diseñar un programa que pida un vector cualquiera por teclado y calcule el máximo y mínimo de los valores de sus componentes. \n",
    "\n",
    "Además debe escribir en pantalla la información de cada elemento y los valores máximos y mínimos (usando las funciones `max` y `min`) tal como se indica a continuación:\n"
   ]
  },
  {
   "cell_type": "markdown",
   "metadata": {},
   "source": [
    "### Ejercicio 3.5.2\n",
    "Diseñar un programa que pida un vector cualquiera por teclado, y calcule el valor máximo de sus elementos mediante el uso del bucle `for`. No se puede usar la función `max`."
   ]
  },
  {
   "cell_type": "markdown",
   "metadata": {},
   "source": [
    "### Ejercicio 3.5.3\n",
    "\n",
    "Realizar el mismo proceso que en el ejercicio anterior pero en este caso se introducirá por teclado una matriz. Realizar una primera solución en la que intervengan dos bucles for anidados. En otra solución alternativa se debe vectorizar la matriz y continuar como en el ejercicio 3.5.2."
   ]
  },
  {
   "cell_type": "code",
   "execution_count": null,
   "metadata": {},
   "outputs": [],
   "source": [
    "clear all, clc;\n",
    "\n"
   ]
  },
  {
   "cell_type": "markdown",
   "metadata": {},
   "source": [
    "### Ejercicio 3.5.4\n",
    "\n",
    "- a) Escribir una programa que lea un vector por teclado y que realice con él un proceso idéntico al que ejecutan las funciones de librería `fliplr` o `flipud`. Es decir, si se introduce el vector $v=[1,\\,2,\\,3,\\,4]$, al finalizar el programa se tiene $v=[4,\\,3,\\,2,\\,1]$. De igual manera, si se introduce el vector columna w=[1,2,3]', al finalizar el programa se tiene el vector columna $w=[3,\\,2,\\,1]$.\n",
    "\n",
    "- b) Modificar el programa anterior para conseguir voltear cada columna de una matriz cualquiera leída por teclado. Es decir, si tenemos la matriz\n",
    "\n",
    "$$\n",
    "A=\n",
    "\\begin{pmatrix}\n",
    "1&3&8\\\\\n",
    "5&7&9\\\\\n",
    "-4&2&10\n",
    "\\end{pmatrix}\n",
    "$$\n",
    "se convertirá en la matriz\n",
    "\n",
    "$$\n",
    "A=\n",
    "\\begin{pmatrix}\n",
    "-4&2&10\\\\\n",
    "5&7&9\\\\\n",
    "1&3&8\\\\\n",
    "\\end{pmatrix}.\n",
    "$$\n"
   ]
  },
  {
   "cell_type": "markdown",
   "metadata": {},
   "source": [
    "### Ejercicio 3.5.5\n",
    "\n",
    "Escribir un programa que conteste a la siguiente pregunta: \n",
    "\n",
    "¿Cuántas veces hemos de lanzar una moneda al aire para que el número de caras menos el número de cruces sea igual a 5?\n",
    "\n",
    "El suceso de lanzar una moneda se puede simular mediante la utilización de la función rand. Si el resultado obtenido es menor que 0.5 podemos suponer, por ejemplo, que se ha obtenido cara y en otro caso cruz."
   ]
  },
  {
   "cell_type": "markdown",
   "metadata": {},
   "source": [
    "### Ejercicio 3.5.6\n",
    "\n",
    "Diseñar un programa que comience obteniendo un entero aleatorio entre 1 y 10. Llámese $x$ a ese dato. A continuación pregunte al usuario del programa, un número $n$ entre 1 y 10, y si éste\n",
    "no coincide con el seleccionado previamente por el ordenador, vuelva a hacer la pregunta las veces necesarias hasta que se produzca la coincidencia. Se contabilizará la cantidad de intentos necesaria para adivinar el número.\n",
    "Al final, el programa escribirá en pantalla la frase:\n"
   ]
  },
  {
   "cell_type": "code",
   "execution_count": null,
   "metadata": {},
   "outputs": [],
   "source": []
  }
 ],
 "metadata": {
  "kernelspec": {
   "display_name": "Octave",
   "language": "octave",
   "name": "octave"
  },
  "language_info": {
   "file_extension": ".m",
   "help_links": [
    {
     "text": "GNU Octave",
     "url": "https://www.gnu.org/software/octave/support.html"
    },
    {
     "text": "Octave Kernel",
     "url": "https://github.com/Calysto/octave_kernel"
    },
    {
     "text": "MetaKernel Magics",
     "url": "https://github.com/calysto/metakernel/blob/master/metakernel/magics/README.md"
    }
   ],
   "mimetype": "text/x-octave",
   "name": "octave",
   "version": "4.2.1"
  }
 },
 "nbformat": 4,
 "nbformat_minor": 2
}
