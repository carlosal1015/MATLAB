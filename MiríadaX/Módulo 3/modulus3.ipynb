{
 "cells": [
  {
   "cell_type": "markdown",
   "metadata": {
    "collapsed": true
   },
   "source": [
    "## 3.1 Funciones de biblioteca\n",
    "\n",
    "### Concepto de función. Parámetros o argumentos\n",
    "\n",
    "Una función es un módulo independiente programado para realizar una tarea específica. Internamente está constituida por un conjunto de instrucciones y puede utilizarse desde cualquier sentencia escrita en la ventana de comandos, desde cualquier programa realizado por el usuario, así como desde otra función.\n",
    "\n",
    "MATLAB y Octave disponen de gran cantidad de funciones propias (intrínsecas o que vienen con el propio software) que facilitan la realización de cálculos y programas.\n",
    "\n",
    "Una función puede considerarse como una entidad que en general, recibe unos datos, (parámetros o argumentos de entrada), realiza operaciones con éstos, generando unos resultados (parámetros o argumentos de salida).\n",
    "\n",
    "Para llamar a una función de biblioteca, en primer lugar se debe conocer los argumentos de entrada que necesita y los resultados que va a devolver. Para ello es útil utilizar el comando `help` referido a la función.\n",
    "\n",
    "Supongamos una función de nombre nombrefuncion, la llamada a esta función se realizaría de la forma:\n",
    "\n",
    "$$ [s_1,s_2,...]=\\text{nombrefuncion }( \\text{arg}_1, \\text{arg}_2, ...) $$\n",
    "\n",
    "donde:\n",
    "- $\\text{arg}_i$ son los datos que queremos enviar a la función. Se denominan argumentos\n",
    "reales o actuales. Se transmiten pasando una copia de su valor a los argumentos de\n",
    "entrada de la función (argumentos formales).\n",
    "\n",
    "- $\\text{s}_i$ son las variables que reciben los datos de salida de la función.\n",
    "\n",
    "Cuando una función es aplicable a escalares, si se aplica a una matriz realizará la operación elemento a elemento: f([$A$])= [f($A_{ij}$)].\n",
    "\n",
    "En los módulos anteriores se han estudiado algunas funciones de biblioteca, se analizan a\n",
    "continuación otras, divididas en diferentes categorías, que pueden ser de utilidad en el uso del\n",
    "lenguaje M. Estas funciones sólo son una pequeña parte de la totalidad de las funciones\n",
    "existentes. El alumno puede investigar otras fácilmente a través de la ayuda del programa.\n",
    "\n",
    "### Funciones matemáticas\n",
    "\n",
    "|expresión           |acción                                          |\n",
    "|:------------------:|:----------------------------------------------:|\n",
    "|$\\text{abs}(x)$     |obtiene el valor absoluto de $x$                |\n",
    "|$\\text{rem}(x,y)$   |obtiene el resto de la división de $x$ entre $y$|\n",
    "|$\\text{log}(x)$     |obtiene el logaritmo neperiano de $x$           |\n",
    "|$\\text{log}2(x)$    |obtiene el logaritmo base 2 de $x$              |\n",
    "|$\\text{log}10(x)$   |obtiene el logaritmo base 10 de $x$             |\n",
    "|$\\exp(x)$           |obtiene la exponencial de $x$ ($e^x$)           |\n",
    "|$\\text{sign}(x)$    |retorna 1 si $x>0$, 0 si $x=0$, y -1 si $x<0$   |\n",
    "\n",
    "### Funciones para cálculos básicos estadísticos\n",
    "\n",
    "|expresión           |acción                                                    |\n",
    "|:------------------:|:--------------------------------------------------------:|\n",
    "|$\\text{mean}(x)$    |calcula la media de los valores del vector $x$            |\n",
    "|$\\text{std}(x)$     |calcula la desviación típica de los valores del vector $x$|\n"
   ]
  },
  {
   "cell_type": "code",
   "execution_count": 1,
   "metadata": {},
   "outputs": [
    {
     "name": "stdout",
     "output_type": "stream",
     "text": [
      "ans =  1.7321\n",
      "ans =  0.00000 + 1.73205i\n",
      "ans =  2.7183\n",
      "ans =  5\n",
      "v =\n",
      "\n",
      "   4   5   2   3   3   2   5   2   3   6\n",
      "\n",
      "ans =  3.5000\n"
     ]
    }
   ],
   "source": [
    "sqrt(3)\n",
    "sqrt(-3) % El resultado es un número complejo.\n",
    "exp(1)\n",
    "A=1;\n",
    "B=6;\n",
    "round(A+(B-A)*rand()) % Genera un número pseudo aleatorio entre 1 y 6.\n",
    "v=round(A+(B-A)*rand(1,10)) % Genera un lista de posibles resultados de un dado normal.\n",
    "mean(v)"
   ]
  },
  {
   "cell_type": "markdown",
   "metadata": {},
   "source": [
    "### Funciones trigonométricas\n",
    "\n",
    "Obtienen las siguientes razones trigonométricas de $x$:\n",
    "\n",
    "|expresión        |acción                        |\n",
    "|:---------------:|:----------------------------:|\n",
    "|$\\sin(x)$        |seno trigonométrico           |\n",
    "|$\\sinh(x)$       |seno hiperbólico              |\n",
    "|$\\cos(x)$        |coseno trigonométrico         |\n",
    "|$\\cosh(x)$       |coseno hiperbólico            |\n",
    "|$\\tan(x)$        |tangente trigonométrico       |\n",
    "|$\\tanh(x)$       |tangente hiperbólico          |\n",
    "|$\\cot(x)$        |cotangente trigonométrico     |\n",
    "|$\\coth(x)$       |cotangente hiperbólico        |\n",
    "|$\\csc(x)$        |cosecante trigonométrico      |\n",
    "|$\\text{csch}(x)$ |cosecante hiperbólico         |\n",
    "|$\\sec(x)$        |secante trigonométrico        |\n",
    "|$\\text{sech}(x)$ |secante hiperbólico           |\n",
    "|$\\text{asin}(x)$ |arco seno trigonométrico      |\n",
    "|$\\text{asinh}(x)$|arco seno hiperbólico         |\n",
    "|$\\text{acos}(x)$ |arco coseno trigonométrico    |\n",
    "|$\\text{acosh}(x)$|arco coseno hiperbólico       |\n",
    "|$\\text{atan}(x)$ |arco tangente trigonométrico  |\n",
    "|$\\text{atanh}(x)$|arco tangente hiperbólico     |\n",
    "|$\\text{acot}(x)$ |arco cotangente trigonométrico|\n",
    "|$\\text{acoth}(x)$|arco cotangente hiperbólico   |\n",
    "|$\\text{acsc}(x)$ |arco cosecante trigonométrico |\n",
    "|$\\text{acsch}(x)$|arco cosecante hiperbólico    |\n",
    "|$\\text{asec}(x)$ |arco secante trigonométrico   |\n",
    "|$\\text{asech}(x)$|arco secante hiperbólico      |"
   ]
  },
  {
   "cell_type": "code",
   "execution_count": 2,
   "metadata": {},
   "outputs": [
    {
     "name": "stdout",
     "output_type": "stream",
     "text": [
      "ans =  0.70711\n",
      "ans =  0.70711\n",
      "ans =  1.00000\n"
     ]
    }
   ],
   "source": [
    "sin(45*pi/180)\n",
    "sind(45)\n",
    "tand(45)"
   ]
  },
  {
   "cell_type": "markdown",
   "metadata": {},
   "source": [
    "### Funciones de redondeo\n",
    "\n",
    "|expresión        |acción                                     |\n",
    "|:---------------:|:-----------------------------------------:|\n",
    "|$\\text{fix}(x)$  |elimina la parte decimal del dato $x$      |\n",
    "|$\\text{floor}(x)$|obtiene el mayor entero menor o igual a $x$|\n",
    "|$\\text{ceil}(x)$|obtiene el menor entero por encima de $x$   |\n",
    "|$\\text{round}(x)$|redondea $x$ al entero más cercano         |"
   ]
  },
  {
   "cell_type": "code",
   "execution_count": 3,
   "metadata": {},
   "outputs": [
    {
     "name": "stdout",
     "output_type": "stream",
     "text": [
      "ans =  2\n",
      "ans =  3\n",
      "ans =  3\n",
      "ans =  2\n",
      "ans =  3\n",
      "ans =  2\n",
      "ans =  2\n",
      "ans =  2\n",
      "ans = 0\n",
      "n =  7\n",
      "ans = 1\n"
     ]
    }
   ],
   "source": [
    "round(2.3)\n",
    "round(2.7)\n",
    "round(2.5)\n",
    "floor(2.7)\n",
    "ceil(2.3)\n",
    "fix(2.3)\n",
    "fix(2.7)\n",
    "fix(2.5)\n",
    "fix(2.5) == 2.5\n",
    "n=7.0\n",
    "fix(n) == n"
   ]
  },
  {
   "cell_type": "code",
   "execution_count": 4,
   "metadata": {},
   "outputs": [
    {
     "name": "stdout",
     "output_type": "stream",
     "text": [
      "x =\n",
      "\n",
      "   1   4   7\n",
      "\n",
      "ans = 0\n",
      "A =\n",
      "\n",
      "   1   2   3\n",
      "  -1   7   2\n",
      "   6   1   3\n",
      "\n",
      "ans =\n",
      "\n",
      "  1  0  0\n",
      "\n",
      "ans = 1\n",
      "ans =\n",
      "\n",
      "  0  1  1\n",
      "\n",
      "ans =\n",
      "\n",
      "   1   2   3\n",
      "\n",
      "ans =  2\n"
     ]
    }
   ],
   "source": [
    "x=[1 4 7]\n",
    "any(x<0)\n",
    "A=[1 2 3;-1 7 2;6 1 3]\n",
    "any(A<0)\n",
    "all(x>0)\n",
    "all(A>0)\n",
    "find(x>0)\n",
    "find(A<0)"
   ]
  },
  {
   "cell_type": "markdown",
   "metadata": {},
   "source": [
    "### Funciones para trabajar con polinomios\n",
    "\n",
    "El lenguaje M dispone de varias funciones para realizar operaciones estándar con polinomios como por ejemplo: la búsqueda de raíces, evaluación, interpolación, ....\n",
    "\n",
    "Cualquier **vector** puede ser interpretado como los coeficientes de un polinomio.\n",
    "\n",
    "> Un vector de dimensión $n$ se interpreta como un polinomio de grado $n-1$.\n",
    "\n",
    "El primer elemento del vector se interpreta como el coeficiente de la máxima potencia del polinomio.\n",
    "\n",
    "#### Ejemplo\n",
    "\n",
    "El vector $p=[1\\,2\\,3]$ equivaldría al polinomio $p(x)=x^2+2x+3$.\n",
    "\n",
    "|expresión             |acción                                                                     |\n",
    "|:--------------------:|:-------------------------------------------------------------------------:|\n",
    "|$\\text{polyval}(p,x)$ |evalúa el polinomio de coeficientes $p$ en $x$.                            |\n",
    "|$\\text{polyvalm}(p,x)$|Si $x$ es una matriz evalúa el polinomio en cada elemento de $x$.          |\n",
    "|$\\text{roots}(p)$   |obtiene un vector columna con las raíces del polinomio de coeficientes $p$.|\n",
    "|$\\text{poly}(r)$      |obtiene un vector con los coeficientes del polinomio de raíces $r$ graficar|\n",
    "|$\\text{polyder}(p)$   |obtiene un vector con los coeficientes del polinomio resultado de derivar $p$|\n",
    "|$\\text{conv}(u,v)$    |obtiene los coeficientes del polinomio resultado de multiplicar los polinomios de coeficientes $u$ y $v$.|\n",
    "|$[p,q]=\\text{deconv}(u,v)$|devuelve los polinomios cociente y resto de la división de los polinomios $u$ entre $v$.|\n",
    "|$\\text{polyfit}(x,y,n)$|devuelve el polinomio de grado $n$ que ajusta los puntos $(x,y)$ en el sentido de mínimos cuadrados.|"
   ]
  },
  {
   "cell_type": "code",
   "execution_count": 5,
   "metadata": {},
   "outputs": [
    {
     "name": "stdout",
     "output_type": "stream",
     "text": [
      "ans =  1\n",
      "r =\n",
      "\n",
      "   0\n",
      "   0\n",
      "\n",
      "ans =\n",
      "\n",
      "   1   0   0\n",
      "\n",
      "ans =\n",
      "\n",
      "   2   0\n",
      "\n",
      "ans =\n",
      "\n",
      "   -2.00000   -1.00000   12.40000    6.20000    0.00000\n",
      "\n",
      "p = -2\n",
      "q =\n",
      "\n",
      "    0.00000    1.00000   12.40000\n",
      "\n",
      "ans =\n",
      "\n",
      "   1  -0   0\n",
      "\n"
     ]
    }
   ],
   "source": [
    "clear all, clc;\n",
    "p=[1 0 0]; # Polinomio: x^2=0\n",
    "x=1;\n",
    "A=magic(2);\n",
    "polyval(p,x)\n",
    "r=roots(p)\n",
    "poly(r) %poly(r)==p (siempre verdadero)\n",
    "polyder(p)\n",
    "u=[2 1 0];\n",
    "v=[-1 0 6.2];\n",
    "conv(u,v) %convolución de u y v.\n",
    "[p q] = deconv(u,v)\n",
    "x1=[1 2 3];\n",
    "y1=[1 4 9];\n",
    "round(polyfit(x1,y1,2))"
   ]
  },
  {
   "cell_type": "markdown",
   "metadata": {},
   "source": [
    "### Funciones para búsqueda de condiciones lógicas\n",
    "\n",
    "|expresión             |acción                                                                     |\n",
    "|:--------------------:|:-------------------------------------------------------------------------:|\n",
    "|`any(condición)`      |si en la condición interviene un vector, la función devuelve 1 si esta condición se cumple al menos en un elemento del vector, cero en caso contrario. Si en la condición interviene una matriz, se aplica la función a cada columna de ésta dando como resultado un vector de 0 y 1.|\n",
    "|`all(condición)`|similar a la anterior, pero en este caso se chequea si todos los elementos cumplen la condición, en ese caso devuelve cierto.|\n",
    "|`find(condición)`|realiza la búsqueda de los elementos que cumplen la condición. El resultado es un vector columna con los índices de los elementos que cumplan la condición. Si en la condición interviene una matriz, el resultado también es un vector columna, al considerar la matriz como una columna detrás de otra.|\n",
    "\n",
    "Veamos a continuación unos ejemplos de utilización:"
   ]
  },
  {
   "cell_type": "code",
   "execution_count": 6,
   "metadata": {},
   "outputs": [
    {
     "name": "stdout",
     "output_type": "stream",
     "text": [
      "ans = 1\n",
      "ans = 1\n",
      "ans =\n",
      "\n",
      "   3   4\n",
      "\n",
      "A =\n",
      "\n",
      "   1   0   1\n",
      "   2   3  -2\n",
      "   5   1   0\n",
      "\n",
      "ans =\n",
      "\n",
      "  0  0  1\n",
      "\n",
      "ans =\n",
      "\n",
      "  1  0  0\n",
      "\n",
      "ans =  8\n"
     ]
    }
   ],
   "source": [
    "v=[1 4 6 8 10 12];\n",
    "% ¿Algún elemento de v es mayor que 6?\n",
    "any(v>6) % Salida TRUE (1) or FALSE (0)\n",
    "% ¿Todos los elementos de v son positivos?\n",
    "all(v>0) % Salida TRUE (1) or FALSE (0)\n",
    "% ¿Qué índices ocupan los elementos mayores que dos y menores que cinco?\n",
    "find(v>4 & v<10) % Salida, los índices numerados de izquierda a derecha o de arriba hacia abajo.\n",
    "A = [1 0 1; 2 3 -2; 5 1 0]\n",
    "%¿Hay algún elemento negativo en A?\n",
    "any(A<0) % Salida vector fila, donde cada entrada representa a cada columna de A. TRUE (1) or FALSE (0).\n",
    "% ¿Son positivos todos los elementos de A?\n",
    "all(A>0) % Salida vector fila, donde cada entrada representa a cada columna de A. TRUE (1) or FALSE (0).\n",
    "% ¿Cuáles son los elementos negativos de A?\n",
    "find(A<0) % Salida, muestra los índices (o  el índice) de las entradas de la matriz numeradas por columnas de arriba hacia abajo. "
   ]
  },
  {
   "cell_type": "markdown",
   "metadata": {},
   "source": [
    "### 3.2 Estructura repetitiva for\n",
    "\n",
    "Una estructura repetitiva o bucle se utiliza cuando se quiere repetir un conjunto de sentencias un número determinado de veces o mientras se mantenga el cumplimiento de una condición.\n",
    "\n",
    "> El bucle for utiliza la primera opción usando una variable numérica capaz de controlar el número de iteraciones. Esta variable es conocida como variable de control.\n",
    "\n",
    "Su sintaxis es la siguiente:\n",
    "\n",
    "```matlab\n",
    "for variable = inicio:fin\n",
    "    Sentencias\n",
    "end\n",
    "```\n",
    "\n",
    "La utilización del operador (:) en la cabecera del bucle es la conocida hasta el momento. La variable de la cabecera va tomando sucesivamente cada uno de los valores asignados (no es un vector), y para cada uno de ellos se repiten las sentencias asociadas al bucle. En el caso anterior el incremento de la variable que controla el bucle es 1. Para incrementos distintos se debe utilizar:\n",
    "\n",
    "```matlab\n",
    "for variable = inicio:incremento:fin\n",
    "    Sentencias\n",
    "end\n",
    "```\n",
    "\n",
    "También puede darse a la variable una sucesión de valores cualesquiera, sin necesidad de utilizar el operador (:). La variable que controla el bucle irá tomando cada uno de los valores indicados efectuando para cada uno una iteración.\n",
    "\n",
    "```matlab\n",
    "for variable=[valor1,valor2,valor3,......]\n",
    "    Sentencias\n",
    "end\n",
    "```\n",
    "\n",
    "Véanse a continuación unos ejemplos en los que se utilizan bucles ordinarios."
   ]
  },
  {
   "cell_type": "markdown",
   "metadata": {},
   "source": [
    "En el siguiente programa se inicializan al valor 1 las n primeras componentes de un vector."
   ]
  },
  {
   "cell_type": "code",
   "execution_count": 7,
   "metadata": {
    "scrolled": true
   },
   "outputs": [
    {
     "name": "stdout",
     "output_type": "stream",
     "text": [
      "Introduce un número natural:5\n",
      "v =  1\n",
      "v =\n",
      "\n",
      "   1   1\n",
      "\n",
      "v =\n",
      "\n",
      "   1   1   1\n",
      "\n",
      "v =\n",
      "\n",
      "   1   1   1   1\n",
      "\n",
      "v =\n",
      "\n",
      "   1   1   1   1   1\n",
      "\n"
     ]
    }
   ],
   "source": [
    "clc,clear all;\n",
    "n=input('Introduce un número natural:');\n",
    "\n",
    "for i = 1 : n\n",
    "    v(i) = 1\n",
    "end"
   ]
  },
  {
   "cell_type": "markdown",
   "metadata": {},
   "source": [
    "En el siguiente programa se crea la matriz de Hilbert de tamaño $m\\times n$, cuyos campos constituyen una fracción de la unidad, es decir:\n",
    "\n",
    "$H_{ij} = \\frac{1}{i+j-1}, \\ \\ \\ i,j =1 ... n$\n",
    "\n",
    "Por ejemplo:"
   ]
  },
  {
   "cell_type": "code",
   "execution_count": 8,
   "metadata": {},
   "outputs": [
    {
     "name": "stdout",
     "output_type": "stream",
     "text": [
      "Introduce el número de filas:2\n",
      "Introduce el número de columnas:1\n",
      "A =\n",
      "\n",
      "          1\n",
      "        1/2\n",
      "\n"
     ]
    }
   ],
   "source": [
    "clc, clear all;\n",
    "format rat;\n",
    "m=input('Introduce el número de filas:');\n",
    "n=input('Introduce el número de columnas:');\n",
    "for i=1:m\n",
    "    for j=1:n\n",
    "        A(i,j)=1/(i+j-1);\n",
    "    end\n",
    "end\n",
    "A"
   ]
  },
  {
   "cell_type": "markdown",
   "metadata": {},
   "source": [
    "El siguiente programa pide por teclado cada elemento de una matriz $4\\times 3$ con un mensaje adecuado a cada uno."
   ]
  },
  {
   "cell_type": "code",
   "execution_count": 9,
   "metadata": {},
   "outputs": [
    {
     "name": "stdout",
     "output_type": "stream",
     "text": [
      "Elemento [1,1]\n",
      "Introduce dato1\n",
      "Elemento [1,2]\n",
      "Introduce dato2\n",
      "Elemento [1,3]\n",
      "Introduce dato3\n",
      "Elemento [2,1]\n",
      "Introduce dato4\n",
      "Elemento [2,2]\n",
      "Introduce dato5\n",
      "Elemento [2,3]\n",
      "Introduce dato6\n",
      "Elemento [3,1]\n",
      "Introduce dato7\n",
      "Elemento [3,2]\n",
      "Introduce dato1\n",
      "Elemento [3,3]\n",
      "Introduce dato2\n",
      "Elemento [4,1]\n",
      "Introduce dato0\n",
      "Elemento [4,2]\n",
      "Introduce dato2\n",
      "Elemento [4,3]\n",
      "Introduce dato1\n",
      "A =\n",
      "\n",
      "   1   2   3\n",
      "   4   5   6\n",
      "   7   1   2\n",
      "   0   2   1\n",
      "\n"
     ]
    }
   ],
   "source": [
    "clear all, clc;\n",
    "format\n",
    "for i=1:4\n",
    "    for j=1:3\n",
    "    fprintf('Elemento [%d,%d]\\n',i,j);\n",
    "    A(i,j)=input('Introduce dato');\n",
    "    end\n",
    "end\n",
    "A"
   ]
  },
  {
   "cell_type": "markdown",
   "metadata": {},
   "source": [
    "En los dos últimos programas aparecen bucles anidados. Expliquemos con detalle el último de\n",
    "ellos. Para cada valor de la variable `i`, se ejecuta el bucle `j` para los valores 1, 2, 3. En cada\n",
    "iteración se genera un texto con fprintf que sirve como mensaje previo a la petición del\n",
    "dato en la sentencia posterior, en la que se lee un escalar que se guarda en $A(i,j)$. Por el\n",
    "orden en el que están dispuestos los bucles los datos leídos se guardan en el orden de las filas\n",
    "de A. El orden de lectura sería: $A(1,1)$, $A(1,2)$, $A(1,3)$, $A(2,1)$, $A(2,2)$,\n",
    "$A(2,3)$, $A(3,1)$, $A(3,2)$, $A(3,3)$, $A(4,1)$, $A(4,2)$, $A(4,3)$."
   ]
  },
  {
   "cell_type": "code",
   "execution_count": 10,
   "metadata": {},
   "outputs": [
    {
     "name": "stdout",
     "output_type": "stream",
     "text": [
      " 1\n",
      " 2\n",
      " 3\n",
      "Ha terminado\n"
     ]
    }
   ],
   "source": [
    "for i = 1 : 3\n",
    "    disp(i)\n",
    "end\n",
    "disp('Ha terminado')"
   ]
  },
  {
   "cell_type": "markdown",
   "metadata": {},
   "source": [
    "## Bucles for: Utilización\n",
    "\n",
    "La variable toma los valores del vector que se le asigna, puede ser un **operador dos puntos** o un **vector explícito**."
   ]
  },
  {
   "cell_type": "code",
   "execution_count": 11,
   "metadata": {
    "scrolled": true
   },
   "outputs": [
    {
     "name": "stdout",
     "output_type": "stream",
     "text": [
      " 1\n",
      " 7\n",
      " 10\n",
      " 9\n"
     ]
    }
   ],
   "source": [
    "for i = [1 7 10 9]\n",
    "    disp(i)\n",
    "end"
   ]
  },
  {
   "cell_type": "markdown",
   "metadata": {},
   "source": [
    "## Bucles anidados\n",
    "\n",
    "Dentro de un bucle puede haber otro bucle. En ese caso se dicen que están **anidados**. Todos los valores del bucle interior se ejecutarán para cada valor del bucle exterior."
   ]
  },
  {
   "cell_type": "code",
   "execution_count": 12,
   "metadata": {
    "scrolled": true
   },
   "outputs": [
    {
     "name": "stdout",
     "output_type": "stream",
     "text": [
      "i=1 j=1\n",
      "i=1 j=2\n",
      "i=1 j=3\n",
      "i=2 j=1\n",
      "i=2 j=2\n",
      "i=2 j=3\n",
      "i=3 j=1\n",
      "i=3 j=2\n",
      "i=3 j=3\n"
     ]
    }
   ],
   "source": [
    "for i = 1 : 3\n",
    "    for j = 1 : 3\n",
    "        fprintf('i=%d j=%d\\n',i,j)\n",
    "    end\n",
    "end"
   ]
  },
  {
   "cell_type": "markdown",
   "metadata": {},
   "source": [
    "## 3.3 Estructura repetitiva _while_\n",
    "\n",
    "Cuando el control de las iteraciones de un bucle se realiza mediante el valor de una expresión lógica se debe utilizar el bucle `while`.\n",
    "\n",
    "En la cabecera del bucle aparece una expresión lógica que, en cada iteración, debe evaluarse como cierta o falsa. Si se evalúa como cierta se realiza la ejecución de las instrucciones asociadas al bucle, sin embargo, la primera vez que se evalúe como falsa se interrumpe el bucle y el programa prosigue en la sentencia posterior a `end`. Su sintaxis es:\n",
    "\n",
    "```matlab\n",
    "while expresión lógica\n",
    "       sentencias\n",
    "end\n",
    "```\n",
    "\n",
    "#### Ejemplo"
   ]
  },
  {
   "cell_type": "code",
   "execution_count": 13,
   "metadata": {},
   "outputs": [
    {
     "name": "stdout",
     "output_type": "stream",
     "text": [
      " 1\n",
      " 2\n",
      " 3\n",
      " 4\n",
      " 5\n",
      " 6\n"
     ]
    }
   ],
   "source": [
    "v=1:9;\n",
    "i=1;\n",
    "while v(i)<7\n",
    "    disp(v(i));\n",
    "i=i+1;\n",
    "end"
   ]
  },
  {
   "cell_type": "markdown",
   "metadata": {},
   "source": [
    "La ejecución de este programa produce la siguiente salida a pantalla, en forma de vector\n",
    "columna: 1 2 3 4 5 6.\n",
    "\n",
    "En el siguiente ejemplo, aparece un fragmento de programa en el que se utiliza un bucle `while` y la función `isempty` para conseguir que el programa no prosiga si el usuario no introduce un dato. La condición del bucle while puede completarse con otras para que el dato introducido además cumpla ciertos criterios."
   ]
  },
  {
   "cell_type": "code",
   "execution_count": 14,
   "metadata": {},
   "outputs": [
    {
     "name": "stdout",
     "output_type": "stream",
     "text": [
      "Introduce una matrizmagic(4)\n",
      "A =\n",
      "\n",
      "   16    2    3   13\n",
      "    5   11   10    8\n",
      "    9    7    6   12\n",
      "    4   14   15    1\n",
      "\n"
     ]
    }
   ],
   "source": [
    "A=input('Introduce una matriz');\n",
    "while isempty(A)\n",
    "        A=input('Debes introducir un dato. Introduce una matriz:');\n",
    "end\n",
    "A"
   ]
  },
  {
   "cell_type": "markdown",
   "metadata": {},
   "source": [
    "Como ejemplo de lo visto en esta sección, pedimos que el alumno piense en una solución para el siguiente problema:\n",
    "\n",
    "Se quiere escribir un programa que pida una matriz cualquiera $A$ por teclado y no permita que el usuario no introduzca una respuesta. A continuación debe solicitar un número entero $n$ que se identificará con un número de fila de la matriz. Si el número introducido no cumple las condiciones (entero y ser un número de fila de la matriz) se debe volver a pedir las veces necesarias. Con estos datos, se escribirá en pantalla la matriz $A$ con la fila $n$ eliminada de su posición y situada como última fila.\n",
    "\n",
    "Una solución válida al problema es:"
   ]
  },
  {
   "cell_type": "code",
   "execution_count": 15,
   "metadata": {},
   "outputs": [
    {
     "name": "stdout",
     "output_type": "stream",
     "text": [
      "Introduce una matriz:magic(4)\n",
      "Introduce número de fila3\n",
      "   16    2    3   13\n",
      "    5   11   10    8\n",
      "    4   14   15    1\n",
      "    9    7    6   12\n"
     ]
    }
   ],
   "source": [
    "A=input('Introduce una matriz:');\n",
    "\n",
    "while isempty(A)\n",
    "    A=input('Debes introducir un dato. Introduce una matriz');\n",
    "end\n",
    "\n",
    "filas=size(A,1);\n",
    "\n",
    "n=input('Introduce número de fila');\n",
    "\n",
    "while n~=fix(n)|n>filas|n<1\n",
    "    n=input('Dato Erróneo.Introduce número de fila');\n",
    "end\n",
    "\n",
    "v=A(n,:); % Obtiene la fila deseada\n",
    "A(n,:)=[]; % Elimina fila deseada\n",
    "A=[A;v]; % Agrega la fila como fila final de la matriz A.\n",
    "disp(A)"
   ]
  },
  {
   "cell_type": "code",
   "execution_count": 16,
   "metadata": {},
   "outputs": [
    {
     "name": "stdout",
     "output_type": "stream",
     "text": [
      "0\n",
      " 1\n",
      " 2\n",
      " 3\n",
      " 4\n",
      "Fin\n"
     ]
    }
   ],
   "source": [
    "n = 0;\n",
    "while n < 5\n",
    "    disp(n);\n",
    "    n = n + 1;\n",
    "end\n",
    "\n",
    "disp('Fin')"
   ]
  },
  {
   "cell_type": "markdown",
   "metadata": {},
   "source": [
    "### Bucles while: Utilización\n",
    "\n",
    "> Un caso frecuente de uso de los bucles _while_ se da en el chequeo de la validez de los valores que se piden al usuario."
   ]
  },
  {
   "cell_type": "code",
   "execution_count": 17,
   "metadata": {},
   "outputs": [
    {
     "name": "stdout",
     "output_type": "stream",
     "text": [
      "Digite un entero positivo:5\n",
      "El número tecleado es: 5 \n"
     ]
    }
   ],
   "source": [
    "clc, clear all;\n",
    "n=-1;\n",
    "while (n<0 || n~=fix(n))\n",
    "    n = input('Digite un entero positivo:');\n",
    "end\n",
    "\n",
    "fprintf('El número tecleado es: %d \\n', n);"
   ]
  },
  {
   "cell_type": "markdown",
   "metadata": {},
   "source": [
    "### La función `isempty()`\n",
    "\n",
    "La función `isempty()` devuelve `TRUE` si la variable que recibe como parámetro está vacía. En combinación con un bucle `while`, es útil para chequear las entradas de usuario."
   ]
  },
  {
   "cell_type": "code",
   "execution_count": 18,
   "metadata": {},
   "outputs": [
    {
     "name": "stdout",
     "output_type": "stream",
     "text": [
      "Digite un vector no vacío\n",
      "Digite un vector no vacío\n",
      "Digite un vector no vacío\n",
      "Digite un vector no vacío0\n",
      "Fin del programa.\n"
     ]
    }
   ],
   "source": [
    "v = [];\n",
    "while isempty(v)\n",
    "    v = input('Digite un vector no vacío');\n",
    "end\n",
    "\n",
    "fprintf('Fin del programa.\\n');"
   ]
  },
  {
   "cell_type": "markdown",
   "metadata": {},
   "source": [
    "## 3.4 Interrupciones de bucles y programas\n",
    "\n",
    "### La sentencia break\n",
    "\n",
    "La instrucción break, ejecutada dentro de un bucle `for` o de un bucle `while` provoca la interrupción del bucle y que el programa se continue ejecutando en la sentencia siguiente al `end` que cierra el bucle."
   ]
  },
  {
   "cell_type": "code",
   "execution_count": 25,
   "metadata": {},
   "outputs": [
    {
     "name": "stdout",
     "output_type": "stream",
     "text": [
      "Teclee un número positivo-2\n",
      "n = -2\n",
      "Teclee un número positivo-1\n",
      "n = -1\n",
      "Teclee un número positivo-3\n",
      "n = -3\n",
      "Teclee un número positivo0\n",
      "n = 0\n",
      "Teclee un número positivo4\n",
      "n =  4\n",
      "n=4.000000\n"
     ]
    }
   ],
   "source": [
    "while true\n",
    "    n = input('Teclee un número positivo')\n",
    "    if n>0\n",
    "        break;\n",
    "    end\n",
    "end\n",
    "fprintf('n=%f\\n',n);"
   ]
  },
  {
   "cell_type": "markdown",
   "metadata": {},
   "source": [
    "La sentencia `break` se puede utilizar únicamente en el interior de cualquiera de los bucles del lenguaje M. Permite interrumpir el bucle desde cualquier punto de su cuerpo. Cuando se ejecute el comando `break`, el bucle termina inmediatamente y el programa continúa en la sentencia que sigue a éste. Por ejemplo, este programa imprime los números del 1 al 100."
   ]
  },
  {
   "cell_type": "code",
   "execution_count": 19,
   "metadata": {},
   "outputs": [
    {
     "name": "stdout",
     "output_type": "stream",
     "text": [
      " 1\n",
      " 2\n",
      " 3\n",
      " 4\n",
      " 5\n",
      " 6\n",
      " 7\n",
      " 8\n",
      " 9\n",
      " 10\n"
     ]
    }
   ],
   "source": [
    "for i=1:100\n",
    "    if (i==11),break,end\n",
    "    disp(i);\n",
    "end"
   ]
  },
  {
   "cell_type": "markdown",
   "metadata": {},
   "source": [
    "Cuando `i` toma el valor 11, la condición asociada a `if` es cierta y se ejecuta `break`; en ese momento se interrumpe el bucle (no se imprime el valor 11 ni los siguientes). Si no se hubiera escrito la línea de comando `break`, se imprimirían los números del 1 al 100.\n",
    "\n",
    "Si `break` pertenece a un bucle que es interior a otro, sólo produce la interrupción del bucle al\n",
    "que pertenece, siguiendo el programa en el bucle exterior."
   ]
  },
  {
   "cell_type": "markdown",
   "metadata": {},
   "source": [
    "### La sentencia continue\n",
    "\n",
    "La instrucción `continue`, ejecutada dentro de un bucle `for` o de un bucle `while` provoca que la ejecución del programa pase inmediatamente a la siguiente iteración del bucle."
   ]
  },
  {
   "cell_type": "code",
   "execution_count": 38,
   "metadata": {},
   "outputs": [
    {
     "name": "stdout",
     "output_type": "stream",
     "text": [
      "1 3 5 7 9 \n",
      "1 3 5 7 9 \n"
     ]
    }
   ],
   "source": [
    "clear all, clc;\n",
    "\n",
    "for i = 1 : 10\n",
    "    if rem(i,2) == 0\n",
    "        continue;\n",
    "    end\n",
    "    fprintf('%d ', i);\n",
    "end"
   ]
  },
  {
   "cell_type": "markdown",
   "metadata": {},
   "source": [
    "Esta sentencia también se utiliza únicamente dentro de cualquiera de los dos bucles del lenguaje M.\n",
    "\n",
    "La sentencia `continue` envía el flujo del programa a la cabecera del bucle en el que se encuentre, dejándose de ejecutar, en esa iteración, las líneas de comando que se encuentren entre `continue` y el final del bucle. No se interrumpe un bucle sino una iteración.\n",
    "\n",
    "En el siguiente ejemplo, se ha realizado un programa semejante al del apartado anterior empleando el comando `continue` en lugar de `break`"
   ]
  },
  {
   "cell_type": "code",
   "execution_count": 20,
   "metadata": {},
   "outputs": [
    {
     "name": "stdout",
     "output_type": "stream",
     "text": [
      " 1\n",
      " 2\n",
      " 3\n",
      " 4\n",
      " 5\n",
      " 6\n",
      " 7\n",
      " 8\n",
      " 9\n",
      " 10\n",
      " 12\n",
      " 13\n",
      " 14\n",
      " 15\n",
      " 16\n",
      " 17\n",
      " 18\n",
      " 19\n",
      " 20\n",
      " 21\n",
      " 22\n",
      " 23\n",
      " 24\n",
      " 25\n",
      " 26\n",
      " 27\n",
      " 28\n",
      " 29\n",
      " 30\n",
      " 31\n",
      " 32\n",
      " 33\n",
      " 34\n",
      " 35\n",
      " 36\n",
      " 37\n",
      " 38\n",
      " 39\n",
      " 40\n",
      " 41\n",
      " 42\n",
      " 43\n",
      " 44\n",
      " 45\n",
      " 46\n",
      " 47\n",
      " 48\n",
      " 49\n",
      " 50\n",
      " 51\n",
      " 52\n",
      " 53\n",
      " 54\n",
      " 55\n",
      " 56\n",
      " 57\n",
      " 58\n",
      " 59\n",
      " 60\n",
      " 61\n",
      " 62\n",
      " 63\n",
      " 64\n",
      " 65\n",
      " 66\n",
      " 67\n",
      " 68\n",
      " 69\n",
      " 70\n",
      " 71\n",
      " 72\n",
      " 73\n",
      " 74\n",
      " 75\n",
      " 76\n",
      " 77\n",
      " 78\n",
      " 79\n",
      " 80\n",
      " 81\n",
      " 82\n",
      " 83\n",
      " 84\n",
      " 85\n",
      " 86\n",
      " 87\n",
      " 88\n",
      " 89\n",
      " 90\n",
      " 91\n",
      " 92\n",
      " 93\n",
      " 94\n",
      " 95\n",
      " 96\n",
      " 97\n",
      " 98\n",
      " 99\n",
      " 100\n"
     ]
    }
   ],
   "source": [
    "for i=1:100\n",
    "    if (i==11),continue,end\n",
    "    disp(i);\n",
    "end"
   ]
  },
  {
   "cell_type": "markdown",
   "metadata": {},
   "source": [
    "El bucle comienza con el valor 1 de la variable de control, que se va incrementando en una unidad en cada iteración imprimiéndose en pantalla. Cuando `i` vale 11 se cumple la condición asociada a `if` y, por tanto, se ejecuta `continue`, que envía el flujo del programa a la cabecera del bucle sin ejecutarse la iteración actual (el `disp` correspondiente) pero sí las siguientes. Debido a esto, el valor 11 no aparece en pantalla. El siguiente valor que toma `i` es 12, que se imprimirá, y así sigue el proceso hasta el valor 100.\n",
    "\n",
    "En el siguiente programa se introducen las notas de 10 alumnos, si alguna no es correcta (menor que 0 o mayor que 10) se volverá a pedir esa nota (`continue` evita ejecutar el incremento de `i`, con lo cual se mantiene en el mismo alumno). Además se calcula la nota media."
   ]
  },
  {
   "cell_type": "code",
   "execution_count": null,
   "metadata": {},
   "outputs": [
    {
     "name": "stdout",
     "output_type": "stream",
     "text": [
      "Alumno 1\n"
     ]
    }
   ],
   "source": [
    "i=1;media=0;\n",
    "while(i<=10)\n",
    "    fprintf('Alumno %d\\n', i);\n",
    "    notas(i)=input('Introduce nota');\n",
    "    if (notas(i)>10 | notas(i)<0),continue,end;\n",
    "    media=media+notas(i);\n",
    "    i=i+1;\n",
    "end\n",
    "fprintf('La nota media es %f\\n',media/10)"
   ]
  },
  {
   "cell_type": "markdown",
   "metadata": {},
   "source": [
    "### La sentencia return\n",
    "\n",
    "La instrucción `return`, provoca la finalización del programa que se esté ejecutando. La instrucción `return` puede colocarse en cualquier parte del programa."
   ]
  },
  {
   "cell_type": "code",
   "execution_count": 43,
   "metadata": {},
   "outputs": [
    {
     "name": "stdout",
     "output_type": "stream",
     "text": [
      "Para terminar el programa teclee 0.\n",
      "Teclee un ángulo en grados:1\n",
      "sind(1.00)=0.0175\n",
      "Teclee un ángulo en grados:2\n",
      "sind(2.00)=0.0349\n",
      "Teclee un ángulo en grados:3\n",
      "sind(3.00)=0.0523\n",
      "Teclee un ángulo en grados:0\n",
      "Fin del programa.\n",
      "Para terminar el programa teclee 0.\n"
     ]
    }
   ],
   "source": [
    "clc, clear all;\n",
    "format;\n",
    "fprintf('Para terminar el programa teclee 0.');\n",
    "\n",
    "while true\n",
    "    x = input('Teclee un ángulo en grados:');\n",
    "    if x == 0\n",
    "        fprintf('Fin del programa.\\n');\n",
    "        return;\n",
    "    end\n",
    "    fprintf('sind(%.2f)=%.4f\\n', x, sind(x));\n",
    "end"
   ]
  },
  {
   "cell_type": "markdown",
   "metadata": {},
   "source": [
    "Esta sentencia se puede utilizar en cualquier lugar de un programa o función M. Provoca la finalización anticipada de la función o programa.\n",
    "\n",
    "Por ejemplo, el siguiente programa termina anticipadamente cuando el dato introducido se considera no válido."
   ]
  },
  {
   "cell_type": "code",
   "execution_count": 46,
   "metadata": {},
   "outputs": [
    {
     "name": "stdout",
     "output_type": "stream",
     "text": [
      "Introduce las tres notas del alumno\\n[14 16 10]\n",
      "La nota media es: 13.333333\n"
     ]
    }
   ],
   "source": [
    "notas=input('Introduce las tres notas del alumno\\n');\n",
    "if (max(notas)>20 || min(notas)<0 )\n",
    "    disp('Datos erróneos');\n",
    "    return;\n",
    "end\n",
    "media=sum(notas)/length(notas);\n",
    "fprintf ('La nota media es: %f\\n', media)"
   ]
  }
 ],
 "metadata": {
  "kernelspec": {
   "display_name": "Octave",
   "language": "octave",
   "name": "octave"
  },
  "language_info": {
   "file_extension": ".m",
   "help_links": [
    {
     "text": "GNU Octave",
     "url": "https://www.gnu.org/software/octave/support.html"
    },
    {
     "text": "Octave Kernel",
     "url": "https://github.com/Calysto/octave_kernel"
    },
    {
     "text": "MetaKernel Magics",
     "url": "https://github.com/calysto/metakernel/blob/master/metakernel/magics/README.md"
    }
   ],
   "mimetype": "text/x-octave",
   "name": "octave",
   "version": "4.2.1"
  }
 },
 "nbformat": 4,
 "nbformat_minor": 2
}
