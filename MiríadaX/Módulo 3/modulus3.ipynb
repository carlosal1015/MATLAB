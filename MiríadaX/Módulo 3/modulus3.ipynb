{
 "cells": [
  {
   "cell_type": "markdown",
   "metadata": {
    "collapsed": true
   },
   "source": [
    "## 3.1 Funciones de biblioteca\n",
    "\n",
    "### Concepto de función. Parámetros o argumentos\n",
    "\n",
    "Una función es un módulo independiente programado para realizar una tarea específica. Internamente está constituida por un conjunto de instrucciones y puede utilizarse desde cualquier sentencia escrita en la ventana de comandos, desde cualquier programa realizado por el usuario, así como desde otra función.\n",
    "\n",
    "MATLAB y Octave disponen de gran cantidad de funciones propias (intrínsecas o que vienen con el propio software) que facilitan la realización de cálculos y programas.\n",
    "\n",
    "Una función puede considerarse como una entidad que en general, recibe unos datos, (parámetros o argumentos de entrada), realiza operaciones con éstos, generando unos resultados (parámetros o argumentos de salida).\n",
    "\n",
    "Para llamar a una función de biblioteca, en primer lugar se debe conocer los argumentos de entrada que necesita y los resultados que va a devolver. Para ello es útil utilizar el comando `help` referido a la función.\n",
    "\n",
    "Supongamos una función de nombre nombrefuncion, la llamada a esta función se realizaría de la forma:\n",
    "\n",
    "$$ [s_1,s_2,...]=\\text{nombrefuncion }( \\text{arg}_1, \\text{arg}_2, ...) $$\n",
    "\n",
    "donde:\n",
    "- $\\text{arg}_i$ son los datos que queremos enviar a la función. Se denominan argumentos\n",
    "reales o actuales. Se transmiten pasando una copia de su valor a los argumentos de\n",
    "entrada de la función (argumentos formales).\n",
    "\n",
    "- $\\text{s}_i$ son las variables que reciben los datos de salida de la función.\n",
    "\n",
    "Cuando una función es aplicable a escalares, si se aplica a una matriz realizará la operación elemento a elemento: f([$A$])= [f($A_{ij}$)].\n",
    "\n",
    "En los módulos anteriores se han estudiado algunas funciones de biblioteca, se analizan a\n",
    "continuación otras, divididas en diferentes categorías, que pueden ser de utilidad en el uso del\n",
    "lenguaje M. Estas funciones sólo son una pequeña parte de la totalidad de las funciones\n",
    "existentes. El alumno puede investigar otras fácilmente a través de la ayuda del programa.\n",
    "\n",
    "### Funciones matemáticas\n",
    "\n",
    "|expresión           |acción                                          |\n",
    "|:------------------:|:----------------------------------------------:|\n",
    "|$\\text{abs}(x)$     |obtiene el valor absoluto de $x$                |\n",
    "|$\\text{rem}(x,y)$   |obtiene el resto de la división de $x$ entre $y$|\n",
    "|$\\text{log}(x)$     |obtiene el logaritmo neperiano de $x$           |\n",
    "|$\\text{log}2(x)$    |obtiene el logaritmo base 2 de $x$              |\n",
    "|$\\text{log}10(x)$   |obtiene el logaritmo base 10 de $x$             |\n",
    "|$\\exp(x)$           |obtiene la exponencial de $x$ ($e^x$)           |\n",
    "|$\\text{sign}(x)$    |retorna 1 si $x>0$, 0 si $x=0$, y -1 si $x<0$   |\n",
    "\n",
    "### Funciones para cálculos básicos estadísticos\n",
    "\n",
    "|expresión           |acción                                                    |\n",
    "|:------------------:|:--------------------------------------------------------:|\n",
    "|$\\text{mean}(x)$    |calcula la media de los valores del vector $x$            |\n",
    "|$\\text{std}(x)$     |calcula la desviación típica de los valores del vector $x$|\n",
    "\n",
    "### Funciones trigonométricas\n",
    "\n",
    "Obtienen las siguientes razones trigonométricas de $x$:\n",
    "\n",
    "|expresión        |acción                        |\n",
    "|:---------------:|:----------------------------:|\n",
    "|$\\sin(x)$        |seno trigonométrico           |\n",
    "|$\\sinh(x)$       |seno hiperbólico              |\n",
    "|$\\cos(x)$        |coseno trigonométrico         |\n",
    "|$\\cosh(x)$       |coseno hiperbólico            |\n",
    "|$\\tan(x)$        |tangente trigonométrico       |\n",
    "|$\\tanh(x)$       |tangente hiperbólico          |\n",
    "|$\\cot(x)$        |cotangente trigonométrico     |\n",
    "|$\\coth(x)$       |cotangente hiperbólico        |\n",
    "|$\\csc(x)$        |cosecante trigonométrico      |\n",
    "|$\\text{csch}(x)$ |cosecante hiperbólico         |\n",
    "|$\\sec(x)$        |secante trigonométrico        |\n",
    "|$\\text{sech}(x)$ |secante hiperbólico           |\n",
    "|$\\text{asin}(x)$ |arco seno trigonométrico      |\n",
    "|$\\text{asinh}(x)$|arco seno hiperbólico         |\n",
    "|$\\text{acos}(x)$ |arco coseno trigonométrico    |\n",
    "|$\\text{acosh}(x)$|arco coseno hiperbólico       |\n",
    "|$\\text{atan}(x)$ |arco tangente trigonométrico  |\n",
    "|$\\text{atanh}(x)$|arco tangente hiperbólico     |\n",
    "|$\\text{acot}(x)$ |arco cotangente trigonométrico|\n",
    "|$\\text{acoth}(x)$|arco cotangente hiperbólico   |\n",
    "|$\\text{acsc}(x)$ |arco cosecante trigonométrico |\n",
    "|$\\text{acsch}(x)$|arco cosecante hiperbólico    |\n",
    "|$\\text{asec}(x)$ |arco secante trigonométrico   |\n",
    "|$\\text{asech}(x)$|arco secante hiperbólico      |\n",
    "\n",
    "### Funciones de redondeo\n",
    "\n",
    "|expresión        |acción                                     |\n",
    "|:---------------:|:-----------------------------------------:|\n",
    "|$\\text{fix}(x)$  |elimina la parte decimal del dato $x$      |\n",
    "|$\\text{floor}(x)$|obtiene el mayor entero menor o igual a $x$|\n",
    "|$\\text{ceil}(x)$|obtiene el menor entero por encima de $x$   |\n",
    "|$\\text{round}(x)$|redondea $x$ al entero más cercano         |\n",
    "\n",
    "### Funciones para trabajar con polinomios\n",
    "\n",
    "El lenguaje M dispone de funciones para realizar operaciones estándar con polinomios: búsqueda de raíces, evaluación, interpolación, ....\n",
    "\n",
    "|expresión             |acción                                                                     |\n",
    "|:--------------------:|:-------------------------------------------------------------------------:|\n",
    "|$\\text{polyval}(p,x)$ |evalúa el polinomio de coeficientes $p$ en $x$.                            |\n",
    "|$\\text{polyvalm}(p,x)$|Si $x$ es una matriz evalúa el polinomio en cada elemento de $x$.          |\n",
    "|$\\text{roots}(p,x)$   |obtiene un vector columna con las raíces del polinomio de coeficientes $p$.|\n",
    "|$\\text{poly}(r)$      |obtiene un vector con los coeficientes del polinomio de raíces $r$ graficar|\n"
   ]
  },
  {
   "cell_type": "code",
   "execution_count": 14,
   "metadata": {},
   "outputs": [
    {
     "name": "stdout",
     "output_type": "stream",
     "text": [
      "ans =  1.7321\n",
      "ans =  0.00000 + 1.73205i\n",
      "ans =  2.7183\n",
      "ans =  5\n",
      "ans =\n",
      "\n",
      "   4   4   1   3   1   2   5   1   6   5\n",
      "\n"
     ]
    }
   ],
   "source": [
    "sqrt(3)\n",
    "sqrt(-3)\n",
    "exp(1)\n",
    "A=1;\n",
    "B=6;\n",
    "round(A+(B-A)*rand())\n",
    "round(A+(B-A)*rand(1,10))"
   ]
  },
  {
   "cell_type": "code",
   "execution_count": 19,
   "metadata": {},
   "outputs": [
    {
     "name": "stdout",
     "output_type": "stream",
     "text": [
      "ans =  0.70711\n",
      "ans =  0.70711\n",
      "ans =  1.00000\n",
      "ans =  2\n",
      "ans =  3\n",
      "ans =  3\n",
      "ans =  2\n",
      "ans =  2\n",
      "ans =  2\n",
      "ans = 0\n",
      "n =  7\n",
      "ans = 1\n"
     ]
    }
   ],
   "source": [
    "sin(45*pi/180)\n",
    "sind(45)\n",
    "tand(45)\n",
    "round(2.3)\n",
    "round(2.7)\n",
    "ceil(2.3)\n",
    "fix(2.3)\n",
    "fix(2.7)\n",
    "fix(2.5)\n",
    "fix(2.5) == 2.5\n",
    "n=7.0\n",
    "fix(n) == n"
   ]
  }
 ],
 "metadata": {
  "kernelspec": {
   "display_name": "Octave",
   "language": "octave",
   "name": "octave"
  },
  "language_info": {
   "file_extension": ".m",
   "help_links": [
    {
     "text": "GNU Octave",
     "url": "https://www.gnu.org/software/octave/support.html"
    },
    {
     "text": "Octave Kernel",
     "url": "https://github.com/Calysto/octave_kernel"
    },
    {
     "text": "MetaKernel Magics",
     "url": "https://github.com/calysto/metakernel/blob/master/metakernel/magics/README.md"
    }
   ],
   "mimetype": "text/x-octave",
   "name": "octave",
   "version": "4.2.1"
  }
 },
 "nbformat": 4,
 "nbformat_minor": 2
}
