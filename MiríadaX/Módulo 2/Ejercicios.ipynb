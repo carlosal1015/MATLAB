{
 "cells": [
  {
   "cell_type": "markdown",
   "metadata": {},
   "source": [
    "* Ejercicio 2.5.1\n",
    "\n",
    "Diseñar un programa que compruebe si un valor `x_0` es raíz de una ecuación de segundo grado. Se pedirán por teclado los valores de los coeficientes `a`, `b`, `c` que se almacenarán en el vector `coef`. A continuación se comprobará si `x0` verifica la ecuación:\n",
    "\n",
    "$$a{x}^{2}_{0}+b{x}_{0}+c=0$$\n",
    "\n",
    "La salida del programa a pantalla será una de estas dos frases:\n",
    "\n",
    "    Resultado de la comprobación: es raíz\n",
    "    Resultado de la comprobación: no es raíz"
   ]
  },
  {
   "cell_type": "code",
   "execution_count": 1,
   "metadata": {},
   "outputs": [
    {
     "name": "stdout",
     "output_type": "stream",
     "text": [
      "Bienvenido al programa que verifica si x0 es solución de la ecuación ax*x+b*x+c=0.\n",
      "Por favor, ingrese los coeficientes, por ejemplo [1 2 3]:[1 2 3]\n",
      "coef =\n",
      "\n",
      "   1   2   3\n",
      "\n",
      "Ingrese la posible raíz:1\n",
      "x0 =  1\n",
      "No es solución\n"
     ]
    }
   ],
   "source": [
    "clear all, clc;\n",
    "mensaje='Bienvenido al programa que verifica si x0 es solución de la ecuación ax*x+b*x+c=0.';\n",
    "disp(mensaje)\n",
    "coef = input('Por favor, ingrese los coeficientes, por ejemplo [1 2 3]:')\n",
    "x0 = input('Ingrese la posible raíz:')\n",
    "x = x0;\n",
    "if coef(1)*x*x + coef(2)*x + coef(3) == 0\n",
    "    disp('Es solución')\n",
    "else\n",
    "    disp('No es solución')\n",
    "end"
   ]
  },
  {
   "cell_type": "markdown",
   "metadata": {},
   "source": [
    "* Ejercicio 2.5.2\n",
    "\n",
    "Sea un triángulo de lados `a`, `b` y `c`. Escribir un programa que lea el tamaño de los lados y escriba en pantalla si el triángulo es no rectángulo."
   ]
  },
  {
   "cell_type": "code",
   "execution_count": 2,
   "metadata": {},
   "outputs": [
    {
     "name": "stdout",
     "output_type": "stream",
     "text": [
      "Bienvenido al programa que lee el tamaño de los lados y escribe en pantalla si el triángulo es o no rectángulo.\n",
      "Por favor, ingrese las longitudes de los lados a, b y c; por ejemplo [1 2 3]:[3 5 4]\n",
      "lados =\n",
      "\n",
      "   3   5   4\n",
      "\n",
      "El triángulo es rectángulo.\n"
     ]
    }
   ],
   "source": [
    "clear all, clc;\n",
    "mensaje='Bienvenido al programa que lee el tamaño de los lados y escribe en pantalla si el triángulo es o no rectángulo.';\n",
    "disp(mensaje)\n",
    "lados = input('Por favor, ingrese las longitudes de los lados a, b y c; por ejemplo [1 2 3]:')\n",
    "lados=sort(lados);\n",
    "if lados(3)*lados(3) == lados(2)*lados(2) + lados(1)*lados(1)\n",
    "    disp('El triángulo es rectángulo.')\n",
    "else\n",
    "    disp('El triángulo no es rectángulo.')\n",
    "end"
   ]
  },
  {
   "cell_type": "markdown",
   "metadata": {},
   "source": [
    "* Ejercicio 2.5.3\n",
    "\n",
    "Sea un cubo centrado en el origen de lado L, y un punto en el espacio cuyas tres coordenadas están en el vector P. Escribir un programa que pida estos datos por teclado (lado y punto) y escriba en pantalla la posición relativa entre el punto y el cubo: interior, frontera o exterior."
   ]
  },
  {
   "cell_type": "code",
   "execution_count": 3,
   "metadata": {},
   "outputs": [
    {
     "name": "stdout",
     "output_type": "stream",
     "text": [
      "Bienvenido al programa que muestra la posición relativa de un punto en el espacio, respecto a un cubo centrado en el origen de lado l.\n",
      "Por favor, ingrese la longitud del lado del cubo en metros:5\n",
      "l =  5\n",
      "Ingrese las coordenadas x, y y z del punto, por ejemplo [1 2 3]:[1 1 6]\n",
      "p =\n",
      "\n",
      "   1   1   6\n",
      "\n",
      "El punto se encuentra en el exterior del cubo.\n"
     ]
    }
   ],
   "source": [
    "clear all, clc;\n",
    "mensaje='Bienvenido al programa que muestra la posición relativa de un punto en el espacio, respecto a un cubo centrado en el origen de lado l.';\n",
    "disp(mensaje)\n",
    "l = input('Por favor, ingrese la longitud del lado del cubo en metros:')\n",
    "p = input('Ingrese las coordenadas x, y y z del punto, por ejemplo [1 2 3]:')\n",
    "% Imágine el problema para el caso unidimensional, por ende, el punto debe estar en el intervalo (-L/2, L/2). Ahora, tome el caso 3D.\n",
    "if max(abs(p)) < (0.5*l)\n",
    "    disp('El punto se encuentra en el interior del cubo.')\n",
    "elseif max(abs(p)) > (0.5*l)\n",
    "    disp('El punto se encuentra en el exterior del cubo.')\n",
    "else\n",
    "    disp('El punto se encuentra en la frontera del cubo.')\n",
    "end"
   ]
  },
  {
   "cell_type": "markdown",
   "metadata": {},
   "source": [
    "* Ejercicio 2.5.4\n",
    "\n",
    "Escribir un programa M que pida al usuario que introduzca una matriz cuadrada llamada $A$. A continuación, haciendo uso de la función `sum`, calcular la suma de cada fila de $A$, de cada columna de A y de todos los elementos de la matriz. Se formará la matriz $B$ ensamblando a la matriz A los resultados anteriores, tal como se indica en la figura posterior. Se mostrará la matriz $B$ en pantalla.\n",
    "\n",
    "A modo de ejemplo, si\n",
    "\n"
   ]
  },
  {
   "cell_type": "code",
   "execution_count": 5,
   "metadata": {},
   "outputs": [
    {
     "name": "stdout",
     "output_type": "stream",
     "text": [
      "Bienvenido al programa que crea una matriz B a partir de la matriz A.\n",
      "Por favor, ingrese una matriz cuadrada:magic(4)\n",
      "A =\n",
      "\n",
      "   16    2    3   13\n",
      "    5   11   10    8\n",
      "    9    7    6   12\n",
      "    4   14   15    1\n",
      "\n",
      "B =\n",
      "\n",
      "    16     2     3    13    34\n",
      "     5    11    10     8    34\n",
      "     9     7     6    12    34\n",
      "     4    14    15     1    34\n",
      "    34    34    34    34   136\n",
      "\n"
     ]
    }
   ],
   "source": [
    "clear all, clc;\n",
    "mensaje='Bienvenido al programa que crea una matriz B a partir de la matriz A.';\n",
    "disp(mensaje)\n",
    "A = input('Por favor, ingrese una matriz cuadrada:')\n",
    "AA = A(:);\n",
    "B=[A, sum(A,2); sum(A,1), sum(AA)]"
   ]
  },
  {
   "cell_type": "markdown",
   "metadata": {},
   "source": [
    "* Ejercicio 2.5.5\n",
    "\n",
    "Haciendo uso del operador 'división izquierda' (backslash)\n",
    "\n",
    "1. Resolver el siguiente sistema de ecuaciones:\n",
    "\n",
    "\n",
    "\n",
    "2. Hallar la solución por el método de mínimos cuadrados del sistema:\n",
    "\n"
   ]
  },
  {
   "cell_type": "code",
   "execution_count": 6,
   "metadata": {},
   "outputs": [
    {
     "name": "stdout",
     "output_type": "stream",
     "text": [
      "Bienvenido al programa que resuelve un sistema de ecuaciones lineales.\n",
      "A =\n",
      "\n",
      "   3   2  -1\n",
      "   1  -4   2\n",
      "   8   5  -8\n",
      "\n",
      "b =\n",
      "\n",
      "   0\n",
      "   7\n",
      "   5\n",
      "\n",
      "x =\n",
      "\n",
      "   1.00000\n",
      "  -1.90909\n",
      "  -0.81818\n",
      "\n",
      "AA =\n",
      "\n",
      "   7   2\n",
      "   2  -4\n",
      "  -3   6\n",
      "\n",
      "bb =\n",
      "\n",
      "   -7\n",
      "   20\n",
      "    3\n",
      "\n",
      "xx =\n",
      "\n",
      "  -0.57692\n",
      "  -1.48077\n",
      "\n"
     ]
    }
   ],
   "source": [
    "clear all, clc;\n",
    "mensaje='Bienvenido al programa que resuelve un sistema de ecuaciones lineales.';\n",
    "disp(mensaje)\n",
    "A = [3 2 -1; 1 -4 2; 8 5 -8]\n",
    "b = [0; 7; 5]\n",
    "x = A\\b\n",
    "\n",
    "AA = [7 2; 2 -4; -3 6]\n",
    "bb = [-7; 20; 3]\n",
    "xx = AA\\bb"
   ]
  }
 ],
 "metadata": {
  "kernelspec": {
   "display_name": "Octave",
   "language": "octave",
   "name": "octave"
  },
  "language_info": {
   "file_extension": ".m",
   "help_links": [
    {
     "text": "GNU Octave",
     "url": "https://www.gnu.org/software/octave/support.html"
    },
    {
     "text": "Octave Kernel",
     "url": "https://github.com/Calysto/octave_kernel"
    },
    {
     "text": "MetaKernel Magics",
     "url": "https://github.com/calysto/metakernel/blob/master/metakernel/magics/README.md"
    }
   ],
   "mimetype": "text/x-octave",
   "name": "octave",
   "version": "4.2.1"
  }
 },
 "nbformat": 4,
 "nbformat_minor": 2
}
