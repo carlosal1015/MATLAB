{
 "cells": [
  {
   "cell_type": "markdown",
   "metadata": {},
   "source": [
    "* Ejercicio 2.5.1\n",
    "\n",
    "Diseñar un programa que compruebe si un valor `x_0` es raíz de una ecuación de segundo grado. Se pedirán por teclado los valores de los coeficientes `a`, `b`, `c` que se almacenarán en el vector `coef`. A continuación se comprobará si `x0` verifica la ecuación:\n",
    "\n",
    "$$a{x}^{2}_{0}+b{x}_{0}+c=0$$\n",
    "\n",
    "La salida del programa a pantalla será una de estas dos frases:\n",
    "\n",
    "    `Resultado de la comprobación: es raíz`\n",
    "    `Resultado de la comprobación: no es raíz`"
   ]
  },
  {
   "cell_type": "code",
   "execution_count": null,
   "metadata": {
    "collapsed": true
   },
   "outputs": [],
   "source": []
  },
  {
   "cell_type": "markdown",
   "metadata": {},
   "source": [
    "* Ejercicio 2.5.2\n",
    "\n",
    "Sea un triángulo de lados `a`, `b` y `c`. Escribir un programa que lea el tamaño de los lados y escriba en pantalla si el triángulo es no rectángulo."
   ]
  },
  {
   "cell_type": "code",
   "execution_count": null,
   "metadata": {
    "collapsed": true
   },
   "outputs": [],
   "source": []
  },
  {
   "cell_type": "markdown",
   "metadata": {},
   "source": [
    "* Ejercicio 2.5.3\n",
    "\n",
    "Sea un cubo centrado en el origen de lado L, y un punto en el espacio cuyas tres coordenadas están en el vector P. Escribir un programa que pida estos datos por teclado (lado y punto) y escriba en pantalla la posición relativa entre el punto y el cubo: interior, frontera o exterior."
   ]
  },
  {
   "cell_type": "code",
   "execution_count": null,
   "metadata": {
    "collapsed": true
   },
   "outputs": [],
   "source": []
  },
  {
   "cell_type": "markdown",
   "metadata": {},
   "source": [
    "* Ejercicio 2.5.4\n",
    "\n",
    "Escribir un programa M que pida al usuario que introduzca una matriz"
   ]
  },
  {
   "cell_type": "code",
   "execution_count": null,
   "metadata": {
    "collapsed": true
   },
   "outputs": [],
   "source": []
  }
 ],
 "metadata": {
  "kernelspec": {
   "display_name": "Octave",
   "language": "octave",
   "name": "octave"
  },
  "language_info": {
   "file_extension": ".m",
   "help_links": [
    {
     "text": "GNU Octave",
     "url": "https://www.gnu.org/software/octave/support.html"
    },
    {
     "text": "Octave Kernel",
     "url": "https://github.com/Calysto/octave_kernel"
    },
    {
     "text": "MetaKernel Magics",
     "url": "https://github.com/calysto/metakernel/blob/master/metakernel/magics/README.md"
    }
   ],
   "mimetype": "text/x-octave",
   "name": "octave",
   "version": "4.2.1"
  }
 },
 "nbformat": 4,
 "nbformat_minor": 2
}
