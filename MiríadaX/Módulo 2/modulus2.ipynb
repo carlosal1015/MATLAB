{
 "cells": [
  {
   "cell_type": "markdown",
   "metadata": {},
   "source": [
    "## 2.1 Generación y manejo de vectores y matrices. ##\n",
    "\n",
    "### Generación de vectores de forma directa ###\n",
    "\n",
    "En el lenguaje M se va a trabajar habitualmente con los corchetes ([ ]) para la generación de vectores y matrices. Su uso implica un ensamblado de los elementos que aparecen en su interior para formar una construcción más compleja. Hacemos notar que no tiene el significado matemático similar a los paréntesis.\n",
    "\n",
    "Para definir un vector no hace falta establecer de antemano su tamaño (de hecho, éste cambia de forma dinámica cuando es preciso). Simplemente, se disponen los valores de los elementos que lo van a componer entre corchetes, separados por espacios o una coma, en el caso de un vector fila, o por el carácter punto y coma (;) o pulsaciones intro, en el caso de un vector columna.\n",
    "\n",
    "Al teclear"
   ]
  },
  {
   "cell_type": "code",
   "execution_count": 1,
   "metadata": {},
   "outputs": [
    {
     "name": "stdout",
     "output_type": "stream",
     "text": [
      "b =\n",
      "\n",
      "   1   2   3   4   5\n",
      "\n"
     ]
    }
   ],
   "source": [
    "b=[1 2 3 4 5]"
   ]
  },
  {
   "cell_type": "markdown",
   "metadata": {},
   "source": [
    "o bien"
   ]
  },
  {
   "cell_type": "code",
   "execution_count": 2,
   "metadata": {},
   "outputs": [
    {
     "name": "stdout",
     "output_type": "stream",
     "text": [
      "b =\n",
      "\n",
      "   1   2   3   4   5\n",
      "\n"
     ]
    }
   ],
   "source": [
    "b=[1,2,3,4,5]"
   ]
  },
  {
   "cell_type": "markdown",
   "metadata": {},
   "source": [
    "se genera el vector fila `b: 1 2 3 4 5`,\n",
    "que aparecerá como tal en la ventana *Workspace*.\n",
    "\n",
    "Mientras que:"
   ]
  },
  {
   "cell_type": "code",
   "execution_count": 3,
   "metadata": {},
   "outputs": [
    {
     "name": "stdout",
     "output_type": "stream",
     "text": [
      "c =\n",
      "\n",
      "   1\n",
      "   2\n",
      "   3\n",
      "\n"
     ]
    }
   ],
   "source": [
    "c=[1;2;3]"
   ]
  },
  {
   "cell_type": "markdown",
   "metadata": {},
   "source": [
    "o bien"
   ]
  },
  {
   "cell_type": "code",
   "execution_count": 4,
   "metadata": {},
   "outputs": [
    {
     "name": "stdout",
     "output_type": "stream",
     "text": [
      "c =\n",
      "\n",
      "   1\n",
      "   2\n",
      "   3\n",
      "\n"
     ]
    }
   ],
   "source": [
    "c=[1\n",
    "2\n",
    "3]"
   ]
  },
  {
   "cell_type": "markdown",
   "metadata": {},
   "source": [
    "genera el vector columna `c = [1; 2; 3]`.\n",
    "\n",
    "### Generación rápida de vectores. Operador (:) ###\n",
    "\n",
    "Se van a analizar a continuación otras formas de generación de vectores que no necesitan de la escritura explícita de todos sus elementos. Implícitamente se trabajará con el operador (:) que sirve para crear sucesiones numéricas, por ejemplo:\n",
    "\n",
    "`1:4`, es equivalente a `1,2,3,4`.\n",
    "\n",
    "Define el vector cuyos primer y último elemento son los especificados por `vin` y `vfin`, estando los componentes intermedios separados por una unidad. Está permitido no utilizar los corchetes o sustituirlos por paréntesis.\n",
    "\n",
    "Define el vector cuyos primer y último elemento son los especificados por `vin` y `vfin`, estando los componentes intermedios separados por `incr`. Está permitido no utilizar los corchetes o sustituirlos por paréntesis.\n",
    "\n",
    "Genera un vector con `n` valores igualmente espaciados entre `x1` y `x2`.\n",
    "\n",
    "### Ejemplos: ###"
   ]
  },
  {
   "cell_type": "code",
   "execution_count": 5,
   "metadata": {},
   "outputs": [
    {
     "name": "stdout",
     "output_type": "stream",
     "text": [
      "v =\n",
      "\n",
      "    1    2    3    4    5    6    7    8    9   10\n",
      "\n",
      "v =\n",
      "\n",
      "    1    2    3    4    5    6    7    8    9   10\n",
      "\n",
      "v =\n",
      "\n",
      "    1    2    3    4    5    6    7    8    9   10\n",
      "\n",
      "v =\n",
      "\n",
      "   1   3   5   7   9\n",
      "\n",
      "v =\n",
      "\n",
      "    1.0000    2.5000    4.0000    5.5000    7.0000    8.5000   10.0000\n",
      "\n"
     ]
    }
   ],
   "source": [
    "v=[1:10]\n",
    "v=1:10\n",
    "v=(1:10)\n",
    "v=[1:2:10]\n",
    "v=linspace(1,10,7) # linspace(inicio, cantidad de elementos, cota inferior)"
   ]
  },
  {
   "cell_type": "markdown",
   "metadata": {},
   "source": [
    "### Valor de las componentes de un vector ###\n",
    "\n",
    "Como ya hemos visto, para crear un vector se utilizan los corchetes $[\\;]\\colon$"
   ]
  },
  {
   "cell_type": "code",
   "execution_count": 6,
   "metadata": {},
   "outputs": [
    {
     "name": "stdout",
     "output_type": "stream",
     "text": [
      "v =\n",
      "\n",
      "   3   5   7   9\n",
      "\n"
     ]
    }
   ],
   "source": [
    "v = [3 5 7 9]"
   ]
  },
  {
   "cell_type": "markdown",
   "metadata": {},
   "source": [
    "En cambio, para extraer o consultar el valor de las componentes de un vector ya existente, se utilizan los paréntesis $(\\;)$\n",
    "\n",
    "$$v(1)\\rightarrow3$$\n",
    "\n",
    "$$v(3)\\rightarrow7$$\n",
    "\n",
    "La palabra clave `end` se utiliza como índice para extraer el valor de la última componente del vector:\n",
    "\n",
    "$$v(\\text{end})\\rightarrow9$$"
   ]
  },
  {
   "cell_type": "code",
   "execution_count": 7,
   "metadata": {},
   "outputs": [
    {
     "name": "stdout",
     "output_type": "stream",
     "text": [
      "v =\n",
      "\n",
      "   3   5   7   9\n",
      "\n",
      "ans =  3\n",
      "ans =  7\n",
      "ans =  9\n"
     ]
    }
   ],
   "source": [
    "v = [3 5 7 9]\n",
    "v(1)\n",
    "v(3)\n",
    "v(end)"
   ]
  },
  {
   "cell_type": "markdown",
   "metadata": {},
   "source": [
    "### Utilizar un vector de índices para extraer un subvector ###\n",
    "\n",
    "Si lo que ponemos dentro de los paréntesis es a su vez un vector, sus valores se interpretan como los índices de las componentes que queremos extraer\n",
    "\n",
    "$$P([1,\\;3])\\rightarrow\\text{da como resultado un vector formado por la primera y tercera componentes del vector }P.$$\n",
    "\n",
    "$$P([1\\colon\\;2\\colon\\;6])\\rightarrow\\text{da como resultado un vector formado por la primera(1), tercera(1+2=3) y quinta(3+2=5) componentes del vector }P.$$"
   ]
  },
  {
   "cell_type": "code",
   "execution_count": 8,
   "metadata": {},
   "outputs": [
    {
     "name": "stdout",
     "output_type": "stream",
     "text": [
      "P =\n",
      "\n",
      "    2    3    5    7   11   13   17   19\n",
      "\n",
      "ans =\n",
      "\n",
      "   2   5\n",
      "\n",
      "ans =\n",
      "\n",
      "    2    5   11\n",
      "\n"
     ]
    }
   ],
   "source": [
    "P = [2, 3, 5, 7, 11, 13, 17, 19]\n",
    "P([1,3]) # Índice 1 y 3.\n",
    "P([1:2:6]) # Índice 1, 1+2=3, 3+2=5."
   ]
  },
  {
   "cell_type": "markdown",
   "metadata": {},
   "source": [
    "### Generación de matrices de forma directa ###\n",
    "\n",
    "Para generar matrices de forma directa, se ponen los valores de sus elementos entre **corchetes** $[\\;]$.\n",
    "\n",
    "**Dentro de cada fila**, los elementos se separan por espacio o por coma.\n",
    "\n",
    "**Para separar una fila de otra** se utiliza el punto y coma."
   ]
  },
  {
   "cell_type": "code",
   "execution_count": 9,
   "metadata": {},
   "outputs": [
    {
     "name": "stdout",
     "output_type": "stream",
     "text": [
      "A =\n",
      "\n",
      "   1   2   3\n",
      "   4   5   6\n",
      "   7   8   9\n",
      "\n"
     ]
    }
   ],
   "source": [
    "A=[1 2 3; 4 5 6; 7 8 9]"
   ]
  },
  {
   "cell_type": "markdown",
   "metadata": {},
   "source": [
    "### Composición de matrices ###\n",
    "\n",
    "Se pueden crear matrices componiendo a partir de otros vectores o matrices ya existentes."
   ]
  },
  {
   "cell_type": "code",
   "execution_count": 10,
   "metadata": {},
   "outputs": [
    {
     "name": "stdout",
     "output_type": "stream",
     "text": [
      "A =\n",
      "\n",
      "   1   2\n",
      "   3   4\n",
      "\n",
      "B =\n",
      "\n",
      "   5\n",
      "   6\n",
      "\n",
      "C =\n",
      "\n",
      "   1   2   5\n",
      "   3   4   6\n",
      "\n",
      "v1 =\n",
      "\n",
      "   1   2   3\n",
      "\n",
      "v2 =\n",
      "\n",
      "   4   5   6\n",
      "\n",
      "A =\n",
      "\n",
      "   1   2   3\n",
      "   4   5   6\n",
      "\n",
      "B =\n",
      "\n",
      "   4   5   6\n",
      "   1   2   3\n",
      "   4   5   6\n",
      "\n"
     ]
    }
   ],
   "source": [
    "A=[1 2; 3 4]\n",
    "B=[5;6]\n",
    "C=[A, B]\n",
    "v1=[1 2 3]\n",
    "v2=[4 5 6]\n",
    "A=[v1; v2]\n",
    "B=[v2; v1; v2]"
   ]
  },
  {
   "cell_type": "markdown",
   "metadata": {},
   "source": [
    "### Consulta de elementos de una matriz ###\n",
    "\n",
    "Para consultar el valor de un elemento de una matriz ya existente, se ponen su fila y columna entre paréntesis, separadas por coma.\n",
    "\n",
    "$$A(2,3)\\rightarrow\\text{Devuelve el valor del elemento de la matriz }A\\text{ situado en la fila 2, columna 3}.$$\n",
    "$$A(3, \\text{end})\\rightarrow\\text{Devuelve el elemento de la matriz }A\\text{ situado en la última columna de la fila 3}.$$"
   ]
  },
  {
   "cell_type": "code",
   "execution_count": 11,
   "metadata": {},
   "outputs": [
    {
     "name": "stdout",
     "output_type": "stream",
     "text": [
      "A =\n",
      "\n",
      "   8   1   6\n",
      "   3   5   7\n",
      "   4   9   2\n",
      "\n",
      "ans =  7\n",
      "ans =  2\n"
     ]
    }
   ],
   "source": [
    "A=magic(3) % Matriz mágina de orden 3.\n",
    "A(2,3) % Elemento que está en la segunda fila y tercera columna.\n",
    "A(3,end) % Elemento que está en la tercera fila y última columna."
   ]
  },
  {
   "cell_type": "markdown",
   "metadata": {},
   "source": [
    "### Extracción de submatrices ###\n",
    "\n",
    "Si entre paréntesis, en lugar del valor de una fila y una columna, ponemos **dos vectores de índices**, el resultado será una **submatriz formada por la intersección de las filas y columnas** indicadas en los vectores de índices."
   ]
  },
  {
   "cell_type": "code",
   "execution_count": 12,
   "metadata": {},
   "outputs": [
    {
     "name": "stdout",
     "output_type": "stream",
     "text": [
      "A =\n",
      "\n",
      "   1   2   3\n",
      "   4   5   6\n",
      "   7   8   9\n",
      "\n",
      "A =\n",
      "\n",
      "   1   2   3\n",
      "   4   5   6\n",
      "   7   8   9\n",
      "\n",
      "ans =\n",
      "\n",
      "   2   3\n",
      "   5   6\n",
      "\n"
     ]
    }
   ],
   "source": [
    "A=[1 2 3; 4 5 6; 7 8 9]\n",
    "A\n",
    "A([1 2], [2 3])"
   ]
  },
  {
   "cell_type": "markdown",
   "metadata": {},
   "source": [
    "### Significado de los dos puntos utilizados como índice para extraer submatrices ###\n",
    "\n",
    "Cuando al extraer elementos de una matriz, uno de los índices solicitados son **dos puntos** ':', se interpretan como toda la fila o toda la columna que corresponda.\n",
    "\n",
    "$$A(:,3)\\rightarrow\\text{Devuelve la tercera columna de la matriz }A$$\n",
    "\n",
    "$$A(1,:)\\rightarrow\\text{Devuelve la primera fila de la matriz }A$$"
   ]
  },
  {
   "cell_type": "code",
   "execution_count": 13,
   "metadata": {},
   "outputs": [
    {
     "name": "stdout",
     "output_type": "stream",
     "text": [
      "ans =\n",
      "\n",
      "   2\n",
      "   5\n",
      "   8\n",
      "\n"
     ]
    }
   ],
   "source": [
    "A=[1 2 3; 4 5 6; 7 8 9];\n",
    "A(:,2)"
   ]
  },
  {
   "cell_type": "markdown",
   "metadata": {},
   "source": [
    "## 2.2 Operaciones con matrices. Funciones específicas. ##\n",
    "\n",
    "### Operaciones con matrices mediante operadores ###\n",
    "\n",
    "M puede operar con matrices por medio de *operadores* y por medio de *funciones*.\n",
    "\n",
    "Sean `A` y `B` dos matrices y c un escalar. Los operadores matriciales del lenguaje M son los siguientes:\n",
    "\n",
    "- Operadores suma (+) y resta (-)\n",
    "\n",
    "Utilizado entre matrices (siempre con el mismo tamaño) obtiene la suma/resta matricial (elemento a elemento). Utilizado entre una matriz y un escalar, suma/resta el escalar a cada elemento de la matriz. No existen los operadores (.+) y (.-).\n",
    "\n",
    "- Operador producto (*)\n",
    "\n",
    "Utilizado entre matrices resuelve el producto matricial. Las dimensiones de las matrices deben ser congruentes. Utilizado entre una matriz y un escalar, multiplica el escalar por cada elemento de la matriz.\n",
    "\n",
    "- Operador producto elemento a elemento (.*)\n",
    "\n",
    "`A.*B` da como resultado una matriz cuyo elemento $ij$ es $A_{ij}*B_{i}$.\n",
    "\n",
    "- Operador potenciación (^)\n",
    "\n",
    "Para utilizarlo, al menos uno de los operandos debe ser un escalar y la matriz debe ser cuadrada.\n",
    "\n",
    "`A^c` resuelve el producto matricial `A*A*A .............. *A`, c veces.\n",
    "\n",
    "`c^A` se computa mediante autovalores y autofunciones.\n",
    "\n",
    "- Operador potenciación elemento a elemento (.^)\n",
    "\n",
    "A continuación aparecen todas las posibilidades de utilización:\n",
    "\n",
    "   - `A.^B` da como resultado una matriz cuyo elemento $ij$ es $A_{ij}$\\wedge$B_{ij}$.\n",
    "   - `A.^c` da como resultado una matriz cuyo elemento $ij$ es $A_{ij}\\wedge c$.\n",
    "   - `c.^A` da como resultado una matriz cuyo elemento $ij$ es $c\\wedge A_{ij}$.\n",
    "\n",
    "- Operador división (/)(\\)\n",
    "\n",
    "La utilización entre una matriz y un escalar obtiene el cociente elemento a elemento. La utilización entre matrices se verá más adelante.\n",
    "\n",
    "- Operador división elemento a elemento (./)(.\\)\n",
    "\n",
    "A continuación aparecen todas las posibilidades de utilización:\n",
    "\n",
    "   - `A./B` da como resultado una matriz cuyo elemento `ij` es $A_{ij}/B_{ij}$.\n",
    "   - `A.\\B` da como resultado una matriz cuyo elemento `ij` es $B_{ij}/A_{ij}$.\n",
    " \n",
    "- Operador traspuesta (')\n",
    "\n",
    "`A'` da como resultado la matriz traspuesta de A."
   ]
  },
  {
   "cell_type": "code",
   "execution_count": 14,
   "metadata": {},
   "outputs": [
    {
     "name": "stdout",
     "output_type": "stream",
     "text": [
      "ans =\n",
      "\n",
      "   5   7   9\n",
      "\n",
      "ans =\n",
      "\n",
      "    4   10   18\n",
      "\n",
      "ans =\n",
      "\n",
      "  -3  -3  -3\n",
      "\n",
      "ans =\n",
      "\n",
      "     1    32   729\n",
      "\n",
      "ans =\n",
      "\n",
      "   4   5   6\n",
      "\n",
      "ans =\n",
      "\n",
      "   3   6   9\n",
      "\n",
      "ans =\n",
      "\n",
      "    1    8   27\n",
      "\n",
      "ans =\n",
      "\n",
      "    3    9   27\n",
      "\n"
     ]
    }
   ],
   "source": [
    "a=[1 2 3];b=[4 5 6];c=3;\n",
    "a+b\n",
    "a.*b\n",
    "a-b\n",
    "a.^b\n",
    "a+c\n",
    "a*c\n",
    "a.^c\n",
    "c.^a"
   ]
  },
  {
   "cell_type": "markdown",
   "metadata": {},
   "source": [
    "- Operadores relacionales, lógicos y de igualdad\n",
    "\n",
    "Son válidos los analizados en la sección 1.3. Aplicados entre matrices se emplean elemento a elemento, luego el tamaño de las matrices debe coincidir. El resultado es una matriz de tipo lógico."
   ]
  },
  {
   "cell_type": "markdown",
   "metadata": {},
   "source": [
    "### Suma y resta de matrices ###\n",
    "\n",
    "Dos matrices de las mismas dimensiones se pueden sumar o restar.\n",
    "\n",
    "La operación se realiza elemento a elemento."
   ]
  },
  {
   "cell_type": "code",
   "execution_count": 15,
   "metadata": {},
   "outputs": [
    {
     "name": "stdout",
     "output_type": "stream",
     "text": [
      "A =\n",
      "\n",
      "   1   2\n",
      "   3   4\n",
      "\n",
      "B =\n",
      "\n",
      "   1   0\n",
      "   0   1\n",
      "\n",
      "ans =\n",
      "\n",
      "   2   2\n",
      "   3   5\n",
      "\n",
      "ans =\n",
      "\n",
      "   0   2\n",
      "   3   3\n",
      "\n"
     ]
    }
   ],
   "source": [
    "A=[1 2; 3 4]\n",
    "B=[1 0; 0 1]\n",
    "A+B\n",
    "A-B"
   ]
  },
  {
   "cell_type": "markdown",
   "metadata": {},
   "source": [
    "### Producto de matrices ###\n",
    "\n",
    "Dos matrices de dimensiones **congruentes** se pueden operar con el producto de matrices usual.\n",
    "\n",
    "$$A_{(m,n)}\\ast B_{(n,p)}\\rightarrow C_{(m,p)}$$"
   ]
  },
  {
   "cell_type": "code",
   "execution_count": 16,
   "metadata": {
    "scrolled": true
   },
   "outputs": [
    {
     "name": "stdout",
     "output_type": "stream",
     "text": [
      "A =\n",
      "\n",
      "   1\n",
      "   3\n",
      "   6\n",
      "  -2\n",
      "\n",
      "B =\n",
      "\n",
      "   1   6  -2   0  -3\n",
      "\n",
      "ans =\n",
      "\n",
      "    1    6   -2    0   -3\n",
      "    3   18   -6    0   -9\n",
      "    6   36  -12    0  -18\n",
      "   -2  -12    4    0    6\n",
      "\n"
     ]
    }
   ],
   "source": [
    "A=[1;3;6;-2] % Matriz de orden 4x1.\n",
    "B=[1 6 -2 0 -3] % Matriz de orden 1x5.\n",
    "A*B % Matriz de orden 4x5."
   ]
  },
  {
   "cell_type": "markdown",
   "metadata": {},
   "source": [
    "### Matrices operadas con números ###\n",
    "\n",
    "Si operamos un número con una matriz se hara elemento a elemento.\n",
    "\n",
    "$$A+7\\rightarrow\\text{Suma siete a todos los elementos de }A.$$\n",
    "$$A*2\\rightarrow\\text{Multiplica por dos a todos los elementos de }A.$$\n",
    "$$A/1.5\\rightarrow\\text{Divide por 1.5 todos los elementos de }A.$$\n",
    "$$A.*B$$\n"
   ]
  },
  {
   "cell_type": "code",
   "execution_count": 17,
   "metadata": {},
   "outputs": [
    {
     "name": "stdout",
     "output_type": "stream",
     "text": [
      "A =\n",
      "\n",
      "   1   1   1\n",
      "   2   2   2\n",
      "   3   3   3\n",
      "\n",
      "ans =\n",
      "\n",
      "   3   3   3\n",
      "   4   4   4\n",
      "   5   5   5\n",
      "\n",
      "ans =\n",
      "\n",
      "   2   2   2\n",
      "   4   4   4\n",
      "   6   6   6\n",
      "\n",
      "ans =\n",
      "\n",
      "   0.50000   0.50000   0.50000\n",
      "   1.00000   1.00000   1.00000\n",
      "   1.50000   1.50000   1.50000\n",
      "\n"
     ]
    }
   ],
   "source": [
    "A=[1 1 1; 2 2 2; 3 3 3]\n",
    "A+2\n",
    "A*2\n",
    "A/2"
   ]
  },
  {
   "cell_type": "markdown",
   "metadata": {},
   "source": [
    "### Operadores elemento a elemento ###\n",
    "\n",
    "Dos matrices de las mismas dimensiones la podemos operar elemento a elemento.\n",
    "\n",
    "$$A.*B\\rightarrow\\text{Multiplica }A\\text{ y }B\\text{ elemento a elemento.}$$\n",
    "$$A./B\\rightarrow\\text{Divide }A\\text{ y }B\\text{ elemento a elemento.}$$\n",
    "$$A.^{\\wedge}2\\rightarrow\\text{Eleva al cuadrado cada elemento de la matriz.}$$"
   ]
  },
  {
   "cell_type": "code",
   "execution_count": 18,
   "metadata": {},
   "outputs": [
    {
     "name": "stdout",
     "output_type": "stream",
     "text": [
      "A =\n",
      "\n",
      "   1   1\n",
      "   2   2\n",
      "\n",
      "B =\n",
      "\n",
      "   3   3\n",
      "   4   4\n",
      "\n",
      "ans =\n",
      "\n",
      "   3   3\n",
      "   8   8\n",
      "\n",
      "ans =\n",
      "\n",
      "   1   1\n",
      "   4   4\n",
      "\n"
     ]
    }
   ],
   "source": [
    "A=[1 1; 2 2]\n",
    "B=[3 3; 4 4]\n",
    "A.*B\n",
    "A.^2"
   ]
  },
  {
   "cell_type": "markdown",
   "metadata": {},
   "source": [
    "### Obtener el tamaño de vectores y matrices ###\n",
    "\n",
    "$$\\text{lenght(v)}\\rightarrow\\text{ Devuelve el número de componentes del vector V.}$$\n",
    "$$\\text{[fil,col]=size(A)}\\rightarrow\\text{ Devuelve en fil el número de filas y en col el número de columnas de la matriz A}$$\n",
    "$$\\text{size(A,1)}\\rightarrow\\text{ Devuelve el número de filas de la matriz A.}$$\n",
    "$$\\text{size(A,2)}\\rightarrow\\text{ Devuelve el número de columnas de la matriz A.}$$"
   ]
  },
  {
   "cell_type": "code",
   "execution_count": 19,
   "metadata": {},
   "outputs": [
    {
     "name": "stdout",
     "output_type": "stream",
     "text": [
      "ans =  5\n",
      "A =\n",
      "\n",
      "   1   2   3\n",
      "   4   5   6\n",
      "\n",
      "fil =  2\n",
      "col =  3\n",
      "ans =  2\n",
      "ans =  3\n"
     ]
    }
   ],
   "source": [
    "V=[1 2 3 4 5];\n",
    "length(V)\n",
    "A=[1 2 3; 4 5 6];\n",
    "A\n",
    "[fil, col]=size(A)\n",
    "size(A,1)\n",
    "size(A,2)"
   ]
  },
  {
   "cell_type": "markdown",
   "metadata": {},
   "source": [
    "### Las funciones max(), min() ###\n",
    "\n",
    "Sean $v$ un vector y $A$ una matriz:\n",
    "\n",
    "$$\\text{max}(v)\\rightarrow\\text{Devuelve el valor máximo (en módulo) de entre las componentes del vector }v.$$\n",
    "$$\\text{min}(v)\\rightarrow\\text{Devuelve el valor mínimo (en módulo) de entre las componentes del vector }v.$$\n",
    "$$\\text{max}(A)\\rightarrow\\text{Devuelve un vector fila con el máximo de cada columna de la matriz }A.$$\n",
    "$$\\text{min}(A)\\rightarrow\\text{Devuelve un vector fila con el mínimo de cada columna de la matriz }A.$$\n",
    "$$\\text{max}(\\text{max}(A))\\rightarrow\\text{Devuelve el valor máximo de entre las componentes de la matriz }A.$$\n",
    "$$\\text{min}(\\text{min}(A))\\rightarrow\\text{Devuelve el valor mínimo de entre las componentes de la matriz }A.$$"
   ]
  },
  {
   "cell_type": "code",
   "execution_count": 20,
   "metadata": {},
   "outputs": [
    {
     "name": "stdout",
     "output_type": "stream",
     "text": [
      "ans = -0 - 2i\n",
      "ans =  0 + 1i\n",
      "ans =\n",
      "\n",
      "    7   11   13\n",
      "\n",
      "ans =\n",
      "\n",
      "   2   3   5\n",
      "\n",
      "ans =  13\n",
      "ans =  2\n"
     ]
    }
   ],
   "source": [
    "v=[i -2i]; # En el caso complejo imprime el valor de mayor módulo.\n",
    "A=[2 3 5; 7 11 13];\n",
    "max(v)\n",
    "min(v)\n",
    "max(A)\n",
    "min(A)\n",
    "max(max(A))\n",
    "min(min(A))"
   ]
  },
  {
   "cell_type": "markdown",
   "metadata": {},
   "source": [
    "### Las funciones sum(), prod() ###\n",
    "\n",
    "Sean $v$ un vector y $A$ una matriz:\n",
    "\n",
    "$$\\text{sum}(v)\\rightarrow\\text{Devuelve la suma de las componentes del vector }v.$$\n",
    "$$\\text{prod}(v)\\rightarrow\\text{Devuelve el producto de las componentes del vector }v.$$\n",
    "$$\\text{sum}(A)\\rightarrow\\text{Devuelve un vector fila con la suma de cada columna de la matriz }A.$$\n",
    "$$\\text{prod}(A)\\rightarrow\\text{Devuelve un vector fila con el producto de las componentes de las columnas de la matriz }A.$$\n",
    "$$\\text{sum}(\\text{sum}(A))\\rightarrow\\text{Devuelve la suma de las componentes de la matriz }A.$$\n",
    "$$\\text{prod}(\\text{prod}(A))\\rightarrow\\text{Devuelve el producto de las componentes de la matriz }A.$$"
   ]
  },
  {
   "cell_type": "code",
   "execution_count": 21,
   "metadata": {},
   "outputs": [
    {
     "name": "stdout",
     "output_type": "stream",
     "text": [
      "v =\n",
      "\n",
      " Columns 1 through 3:\n",
      "\n",
      "   0.00000 + 1.00000i  -0.00000 - 1.00000i   3.00000 + 0.00000i\n",
      "\n",
      " Column 4:\n",
      "\n",
      "   3.14159 + 0.00000i\n",
      "\n",
      "A =\n",
      "\n",
      "   16    2    3   13\n",
      "    5   11   10    8\n",
      "    9    7    6   12\n",
      "    4   14   15    1\n",
      "\n",
      "ans =  6.1416\n",
      "ans =  9.4248\n",
      "ans =\n",
      "\n",
      "   34   34   34   34\n",
      "\n",
      "ans =\n",
      "\n",
      "   2880   2156   2700   1248\n",
      "\n",
      "ans =  136\n",
      "ans =    2.0923e+13\n"
     ]
    }
   ],
   "source": [
    "v=[i -i 3 pi]\n",
    "A=magic(4)\n",
    "sum(v)\n",
    "prod(v)\n",
    "sum(A)\n",
    "prod(A)\n",
    "sum(sum(A))\n",
    "prod(prod(A))"
   ]
  },
  {
   "cell_type": "markdown",
   "metadata": {},
   "source": [
    "### La función sort() ###\n",
    "\n",
    "Sean $v$ un vector y $A$ una matriz:\n",
    "\n",
    "$$\\text{sort}(v)\\rightarrow\\text{Devuelve un vector con las componentes de }v\\text{ ordenadas de menor a mayor (en módulo)}.$$\n",
    "$$\\text{sort}(A)\\rightarrow\\text{Devuelve una matriz con los elementos de las columnas de }A\\text{ ordenados de menor a mayor (en módulo)}.$$"
   ]
  },
  {
   "cell_type": "code",
   "execution_count": 22,
   "metadata": {},
   "outputs": [
    {
     "name": "stdout",
     "output_type": "stream",
     "text": [
      "A =\n",
      "\n",
      "   17   24    1    8   15\n",
      "   23    5    7   14   16\n",
      "    4    6   13   20   22\n",
      "   10   12   19   21    3\n",
      "   11   18   25    2    9\n",
      "\n",
      "ans =\n",
      "\n",
      " Columns 1 through 3:\n",
      "\n",
      "   0.20000 + 0.00000i   0.00000 + 1.00000i   4.00000 + 0.00000i\n",
      "\n",
      " Column 4:\n",
      "\n",
      "   5.00000 + 0.00000i\n",
      "\n",
      "ans =\n",
      "\n",
      "    4    5    1    2    3\n",
      "   10    6    7    8    9\n",
      "   11   12   13   14   15\n",
      "   17   18   19   20   16\n",
      "   23   24   25   21   22\n",
      "\n"
     ]
    }
   ],
   "source": [
    "v=[5 4 .2 i];\n",
    "A=magic(5) # Visualice la matriz de orden 5.\n",
    "sort(v)\n",
    "sort(A)"
   ]
  },
  {
   "cell_type": "markdown",
   "metadata": {},
   "source": [
    "### Producto escalar ###\n",
    "\n",
    "Sean $v_1$ y $v_2$ dos vectores de las mismas dimensiones:\n",
    "\n",
    "$$\\text{dot}(v_1, v_2)\\rightarrow\\text{Devuelve el producto escalar de los dos vectores}.$$\n",
    "\n",
    "### Producto vectorial ###\n",
    "\n",
    "$$\\text{cross}(v_1, v_2)\\rightarrow\\text{Devuelve el producto vectorial de los dos vectores }v_1\\text{ y }v_2.$$\n",
    "\n",
    "### Norma euclídeana ###\n",
    "\n",
    "Sea $v$ un vector\n",
    "\n",
    "$$\\text{norm}(v)\\rightarrow\\text{Devuelve el módulo del vector }v.$$"
   ]
  },
  {
   "cell_type": "code",
   "execution_count": 23,
   "metadata": {},
   "outputs": [
    {
     "name": "stdout",
     "output_type": "stream",
     "text": [
      "v_1 =\n",
      "\n",
      "   1   0   0\n",
      "\n",
      "v_2 =\n",
      "\n",
      "   0   1   0\n",
      "\n",
      "ans = 0\n",
      "ans =\n",
      "\n",
      "   0   0   1\n",
      "\n",
      "ans =  1\n",
      "ans =  1\n"
     ]
    }
   ],
   "source": [
    "v_1=[1 0 0]\n",
    "v_2=[0 1 0]\n",
    "dot(v_1, v_2)\n",
    "cross(v_1, v_2)\n",
    "norm(v_1)\n",
    "norm(v_2)"
   ]
  },
  {
   "cell_type": "markdown",
   "metadata": {},
   "source": [
    "### Inversa, determinante, traza y traspuesta ###\n",
    "\n",
    "Sea $A$ una matriz:\n",
    "\n",
    "$$\\text{inv}(A)\\rightarrow\\text{Devuelve la matriz inversa de la matriz }A.$$\n",
    "$$\\text{det}(A)\\rightarrow\\text{Devuelve la función multilineal alternada de la matriz }A.$$\n",
    "$$\\text{transpose}(A)\\rightarrow\\text{Devuelve la matriz traspuesta de }A.$$\n",
    "$$A^{\\prime}\\rightarrow\\text{Devuelve la matriz traspuesta conjugada de }A.$$"
   ]
  },
  {
   "cell_type": "code",
   "execution_count": 24,
   "metadata": {},
   "outputs": [
    {
     "name": "stdout",
     "output_type": "stream",
     "text": [
      "A =\n",
      "\n",
      "   5 - 3i  -0 - 3i  -0 - 3i  -0 - 3i  -0 - 3i\n",
      "  -0 - 3i   5 - 3i  -0 - 3i  -0 - 3i  -0 - 3i\n",
      "  -0 - 3i  -0 - 3i   5 - 3i  -0 - 3i  -0 - 3i\n",
      "  -0 - 3i  -0 - 3i  -0 - 3i   5 - 3i  -0 - 3i\n",
      "  -0 - 3i  -0 - 3i  -0 - 3i  -0 - 3i   5 - 3i\n",
      "\n",
      "ans =\n",
      "\n",
      " Columns 1 through 3:\n",
      "\n",
      "   0.164000 + 0.012000i  -0.036000 + 0.012000i  -0.036000 + 0.012000i\n",
      "  -0.036000 + 0.012000i   0.164000 + 0.012000i  -0.036000 + 0.012000i\n",
      "  -0.036000 + 0.012000i  -0.036000 + 0.012000i   0.164000 + 0.012000i\n",
      "  -0.036000 + 0.012000i  -0.036000 + 0.012000i  -0.036000 + 0.012000i\n",
      "  -0.036000 + 0.012000i  -0.036000 + 0.012000i  -0.036000 + 0.012000i\n",
      "\n",
      " Columns 4 and 5:\n",
      "\n",
      "  -0.036000 + 0.012000i  -0.036000 + 0.012000i\n",
      "  -0.036000 + 0.012000i  -0.036000 + 0.012000i\n",
      "  -0.036000 + 0.012000i  -0.036000 + 0.012000i\n",
      "   0.164000 + 0.012000i  -0.036000 + 0.012000i\n",
      "  -0.036000 + 0.012000i   0.164000 + 0.012000i\n",
      "\n",
      "ans =  3125.0 - 9375.0i\n",
      "ans =\n",
      "\n",
      "   5 - 3i  -0 - 3i  -0 - 3i  -0 - 3i  -0 - 3i\n",
      "  -0 - 3i   5 - 3i  -0 - 3i  -0 - 3i  -0 - 3i\n",
      "  -0 - 3i  -0 - 3i   5 - 3i  -0 - 3i  -0 - 3i\n",
      "  -0 - 3i  -0 - 3i  -0 - 3i   5 - 3i  -0 - 3i\n",
      "  -0 - 3i  -0 - 3i  -0 - 3i  -0 - 3i   5 - 3i\n",
      "\n",
      "ans =\n",
      "\n",
      "   5 + 3i  -0 + 3i  -0 + 3i  -0 + 3i  -0 + 3i\n",
      "  -0 + 3i   5 + 3i  -0 + 3i  -0 + 3i  -0 + 3i\n",
      "  -0 + 3i  -0 + 3i   5 + 3i  -0 + 3i  -0 + 3i\n",
      "  -0 + 3i  -0 + 3i  -0 + 3i   5 + 3i  -0 + 3i\n",
      "  -0 + 3i  -0 + 3i  -0 + 3i  -0 + 3i   5 + 3i\n",
      "\n"
     ]
    }
   ],
   "source": [
    "A=5*eye(5)-3*i*ones(5)\n",
    "inv(A)\n",
    "det(A)\n",
    "transpose(A)\n",
    "A'"
   ]
  },
  {
   "cell_type": "markdown",
   "metadata": {},
   "source": [
    "#### Matrices particulares ###\n",
    "\n",
    "$$\\text{eye}(m)\\rightarrow\\text{Devuelve una matriz }\\textbf{identidad}\\text{ cuadrada de dimensión }m.$$\n",
    "$$\\text{eye}(m, n)\\rightarrow\\text{Devuelve una matriz }\\textbf{identidad}\\text{ con }m\\text{ filas y }n\\text{ columnas}.$$\n",
    "$$\\text{zeros}(m)\\rightarrow\\text{Devuelve una matriz }\\textbf{de ceros}\\text{ cuadrada de dimensión }m.$$\n",
    "$$\\text{zeros}(m, n)\\rightarrow\\text{Devuelve una matriz }\\textbf{de ceros}\\text{ con }m\\text{ filas y }n\\text{ columnas}.$$\n",
    "$$\\text{ones}(m)\\rightarrow\\text{Devuelve una matriz }\\textbf{de unos}\\text{ cuadrada de dimensión }m.$$\n",
    "$$\\text{ones}(m, n)\\rightarrow\\text{Devuelve una matriz }\\textbf{de unos}\\text{ con }m\\text{ filas y }n\\text{ columnas}.$$"
   ]
  },
  {
   "cell_type": "code",
   "execution_count": 25,
   "metadata": {},
   "outputs": [
    {
     "name": "stdout",
     "output_type": "stream",
     "text": [
      "ans =\n",
      "\n",
      "Diagonal Matrix\n",
      "\n",
      "   1   0   0\n",
      "   0   1   0\n",
      "   0   0   1\n",
      "\n",
      "ans =\n",
      "\n",
      "   0   0   0   0   0   0\n",
      "   0   0   0   0   0   0\n",
      "   0   0   0   0   0   0\n",
      "\n",
      "ans =\n",
      "\n",
      "   1   1   1   1   1   1   1   1\n",
      "   1   1   1   1   1   1   1   1\n",
      "   1   1   1   1   1   1   1   1\n",
      "   1   1   1   1   1   1   1   1\n",
      "\n"
     ]
    }
   ],
   "source": [
    "eye(3)\n",
    "zeros(3,6)\n",
    "ones(4,8)"
   ]
  },
  {
   "cell_type": "markdown",
   "metadata": {},
   "source": [
    "### Eliminar elementos de vectores y matrices ###\n",
    "\n",
    "Podemos eliminar elementos de un vector o una matriz asignándooles el valor [] (corchetes vacíos). El resultado será el mismo vector o matriz con los elementos correspondientes eliminados. Veamos algunos ejemplos:"
   ]
  },
  {
   "cell_type": "code",
   "execution_count": 26,
   "metadata": {},
   "outputs": [
    {
     "name": "stdout",
     "output_type": "stream",
     "text": [
      "v =\n",
      "\n",
      "   1   2   4   5   6\n",
      "\n",
      "A =\n",
      "\n",
      "   1   2   3\n",
      "   7   8   9\n",
      "\n",
      "A =\n",
      "\n",
      "   1   3\n",
      "   7   9\n",
      "\n"
     ]
    }
   ],
   "source": [
    "v=[1 2 3 4 5 6];\n",
    "% Vamos a eliminar la tercera componente de v.\n",
    "v(3)=[]\n",
    "% Probemos ahora con una matriz\n",
    "A=[1 2 3; 7 8 9]\n",
    "% Vamos a eliminar la segunda columna.\n",
    "A(:,2)=[]"
   ]
  },
  {
   "cell_type": "markdown",
   "metadata": {},
   "source": [
    "### Operadores relacionales ###\n",
    "\n",
    "Los operadores relacionales (<,>,<=,...) se pueden aplicar a vectores o matrices. Siempre operan elemento a elemento.\n",
    "\n",
    "El resultado será un vector o matriz de las mismas dimensiones, con valores del tipo $\\textbf{logical}$, verdadero (`true`,1) en los elementos que cumplan la condición y valores falso (`false`,0) en los elementos que no cumplan la condición."
   ]
  },
  {
   "cell_type": "code",
   "execution_count": 27,
   "metadata": {},
   "outputs": [
    {
     "name": "stdout",
     "output_type": "stream",
     "text": [
      "ans =\n",
      "\n",
      "  1  1  1  0  0\n",
      "\n",
      "A =\n",
      "\n",
      "   1   2   3\n",
      "   4   5   6\n",
      "   7   8   9\n",
      "\n",
      "ans =\n",
      "\n",
      "  0  0  0\n",
      "  0  1  1\n",
      "  1  1  1\n",
      "\n"
     ]
    }
   ],
   "source": [
    "v=[1 2 3 4 5 6];\n",
    "V<4\n",
    "A=[1 2 3; 4 5 6; 7 8 9]\n",
    "A>=5"
   ]
  },
  {
   "cell_type": "markdown",
   "metadata": {},
   "source": [
    "### Extracción de elementos con índices logical ###\n",
    "\n",
    "Podemos crear un subvector de otro existente $v$, a partir de los elementos que cumplen una condición expresada con un operador relacional\n",
    "\n",
    "$$v(v<5)\\rightarrow\\text{Subvector formado por las componentes del vector }v\\text{ que son menores que }5.$$"
   ]
  },
  {
   "cell_type": "code",
   "execution_count": 28,
   "metadata": {},
   "outputs": [
    {
     "name": "stdout",
     "output_type": "stream",
     "text": [
      "v =\n",
      "\n",
      "    1    2    3    4    5    6    7    8    9   10\n",
      "\n",
      "ans =\n",
      "\n",
      "   1   2   3   4\n",
      "\n"
     ]
    }
   ],
   "source": [
    "v=1:10\n",
    "v(v<5)"
   ]
  },
  {
   "cell_type": "markdown",
   "metadata": {},
   "source": [
    "### Generación de números (pseudoaleatorio) aleatorios ###\n",
    "\n",
    "Para generar números aleatorios se utiliza la función `rand()`\n",
    "\n",
    "$$\\text{rand}()\\rightarrow\\text{Devuelve un número aleatorio entre cero y uno}.$$\n",
    "\n",
    "* Nota 1: El número devuelto siempre será mayor que cero y menor que uno, esto es, pertenece al intervalo abierto (0,1).\n",
    "* Nota 2: Los números aleatorios generados por ordenador nunca son aleaotorios puros, sino pseudoaleatorios.\n",
    "* Para conocer más sobre esta clase de números y los algoritmos estándares para generar números pseudoaleatorios vea [aquí](https://www.youtube.com/watch?v=SxP30euw3-0)."
   ]
  },
  {
   "cell_type": "code",
   "execution_count": 29,
   "metadata": {},
   "outputs": [
    {
     "name": "stdout",
     "output_type": "stream",
     "text": [
      "ans =  0.37659\n",
      "ans =  0.19738\n"
     ]
    }
   ],
   "source": [
    "rand()\n",
    "rand()"
   ]
  },
  {
   "cell_type": "markdown",
   "metadata": {},
   "source": [
    "### Matrices de números aleatorios ###\n",
    "\n",
    "La función `rand()` permite generar matrices de números aleatorios con valores entre cero y uno.\n",
    "\n",
    "$$\\text{rand}(n)\\rightarrow\\text{Devuelve una matriz de números aleatorios entre cero y uno, con }n\\text{ filas y }n\\text{ columnas}.$$\n",
    "\n",
    "$$\\text{rand}(n, m)\\rightarrow\\text{Devuelve una matriz de números aleatorios entre cero y uno, con }n\\text{ filas y }m\\text{ columnas}.$$"
   ]
  },
  {
   "cell_type": "code",
   "execution_count": 30,
   "metadata": {},
   "outputs": [
    {
     "name": "stdout",
     "output_type": "stream",
     "text": [
      "ans =\n",
      "\n",
      "   0.81833   0.17625   0.48695   0.52945\n",
      "   0.42768   0.14795   0.62002   0.48634\n",
      "\n"
     ]
    }
   ],
   "source": [
    "rand(2,4)"
   ]
  },
  {
   "cell_type": "markdown",
   "metadata": {},
   "source": [
    "### Números aleatorios en el intervalo (A, A+1) ###\n",
    "\n",
    "Sea $A$ un valor real. Para generar números aleatorios en el intervalo $(A,A+1)$ utilizaremos la siguiente expresión:\n",
    "$$A+\\text{rand}()\\rightarrow\\text{Devuelve un número aleatorio en el intervalo }(A, A+1).$$\n",
    "\n",
    "### Números aleatorios en el intervalo (0, A) ###\n",
    "\n",
    "Sea $A$ un valor real. Para generar números aleatorios en el intervalo $(0,A)$ utilizaremos la siguiente expresión:\n",
    "\n",
    "$$A*\\text{rand}()\\rightarrow\\text{Devuelve un número aleatorio en el intervalo }(0, A).$$"
   ]
  },
  {
   "cell_type": "code",
   "execution_count": 31,
   "metadata": {},
   "outputs": [
    {
     "name": "stdout",
     "output_type": "stream",
     "text": [
      "ans =  5.9643\n",
      "ans =  4.9970\n"
     ]
    }
   ],
   "source": [
    "A=5;\n",
    "A+rand()\n",
    "A*rand()"
   ]
  },
  {
   "cell_type": "markdown",
   "metadata": {},
   "source": [
    "### Números aleatorios en el intervalo (A,B) ###\n",
    "\n",
    "Sean $A$ y $B$ valores reales. Para generar números aleatorios en el intervalo $(A,B)$ utilizaremos la siguiente expresión:\n",
    "\n",
    "$$A+(B-A)*\\text{rand}()\\rightarrow\\text{Devuelve un número aleatorio en el intervalo} (A,B).$$"
   ]
  },
  {
   "cell_type": "code",
   "execution_count": 32,
   "metadata": {},
   "outputs": [
    {
     "name": "stdout",
     "output_type": "stream",
     "text": [
      "ans =  3.2237\n",
      "ans =  3.1205\n"
     ]
    }
   ],
   "source": [
    "A=3;\n",
    "B=5;\n",
    "A+(B-A)*rand()\n",
    "A+(B-A)*rand()"
   ]
  },
  {
   "cell_type": "markdown",
   "metadata": {},
   "source": [
    "### Función round(): Redondear números decimales ###\n",
    "\n",
    "La función `round()` devuelve el número entero más próximo al número decimal que recibe como argumento.\n",
    "\n",
    "$$\\text{round}(3,7)\\rightarrow\\text{Devuelve } 4.$$\n",
    "$$\\text{round}(3,2)\\rightarrow\\text{Devuelve } 3.$$\n",
    "\n",
    "Nota: Cuando el valor es justo .5, redondea al entero siguiente, por ejemplo, `round(1.5)` devuelve 2."
   ]
  },
  {
   "cell_type": "code",
   "execution_count": 33,
   "metadata": {},
   "outputs": [
    {
     "name": "stdout",
     "output_type": "stream",
     "text": [
      "ans =  28.571\n",
      "ans =  29\n",
      "ans =\n",
      "\n",
      "   3   3\n",
      "\n",
      "ans =\n",
      "\n",
      "   0 + 3i   0 + 3i\n",
      "\n",
      "'round' is a built-in function from the file libinterp/corefcn/mappers.cc\n",
      "\n",
      " -- round (X)\n",
      "     Return the integer nearest to X.\n",
      "\n",
      "     If X is complex, return 'round (real (X)) + round (imag (X)) * I'.\n",
      "     If there are two nearest integers, return the one further away from\n",
      "     zero.\n",
      "\n",
      "          round ([-2.7, 2.7])\n",
      "               => -3    3\n",
      "\n",
      "     See also: ceil, floor, fix, roundb.\n",
      "\n",
      "Additional help for built-in functions and operators is\n",
      "available in the online version of the manual.  Use the command\n",
      "'doc <topic>' to search the manual index.\n",
      "\n",
      "Help and information about Octave is also available on the WWW\n",
      "at http://www.octave.org and via the help@octave.org\n",
      "mailing list.\n"
     ]
    }
   ],
   "source": [
    "200/7\n",
    "round(200/7)\n",
    "round([pi,e])\n",
    "round([pi*i,i*e])\n",
    "% Para más información vea\n",
    "help round"
   ]
  },
  {
   "cell_type": "markdown",
   "metadata": {},
   "source": [
    "### Números aleatorios enteros ###\n",
    "\n",
    "Utilizando la función `round()` combinada con la función `rand()` podemos generar números aleatorios enteros.\n",
    "\n",
    "Para generar un número entero aleatorio en intervalo $\\underline{cerrado}$ $[A,B]$ utilizaremos la siguiente expresión:\n",
    "\n",
    "$$\\text{round}(A+(B-A)*\\text{round}())\\rightarrow\\text{Devuelve un número entero aleatorio en el intervalo cerrado }[A,B].$$"
   ]
  },
  {
   "cell_type": "code",
   "execution_count": 34,
   "metadata": {},
   "outputs": [
    {
     "name": "stdout",
     "output_type": "stream",
     "text": [
      "ans =  4\n",
      "ans =  1\n"
     ]
    }
   ],
   "source": [
    "% Simulación de tiradas de un dado de seis caras\n",
    "A=1;\n",
    "B=6;\n",
    "round(A+(B-A)*rand())\n",
    "round(A+(B-A)*rand())"
   ]
  },
  {
   "cell_type": "code",
   "execution_count": 35,
   "metadata": {},
   "outputs": [
    {
     "name": "stdout",
     "output_type": "stream",
     "text": [
      "P =\n",
      "\n",
      "  0  0  1  1  1  0  0  0  0\n",
      "\n"
     ]
    }
   ],
   "source": [
    "A=1:9;\n",
    "% Vector fila A que tiene elementos del 1 al 9.\n",
    "P=(A>2)&(A<6)\n",
    "% El vector P imprime 1 para las entradas donde se cumpla la proposición."
   ]
  },
  {
   "cell_type": "markdown",
   "metadata": {},
   "source": [
    "### Operaciones con matrices mediante funciones ###\n",
    "\n",
    "Además de los operadores analizados en la sección anterior, existen funciones M que permiten realizar otro tipo de operaciones con vectores:\n",
    "\n",
    "- `dot(v,w)`producto escalar de los vectores `v` y `w`.\n",
    "- `cross(v,w)`producto vectorial de los vectores `v` y `w` (máximo tres componentes de cada uno): $[v_2w_3-v_3w_2\\quad v_3w_1-v_1w_3\\quad v_1w_2-v_2w_1]$.\n",
    "- `lenght(v)`calcula el número de componentes del vector v, o el máximo tamaño de las dimensiones si v es una matriz.\n",
    "- `(m,n)=size(A)` devuelve el número de filas y de columnas de la matriz A. Si la matriz es cuadrada basta recoger el primer valor de retorno.\n",
    "- `size(A,1)` devuelve el número de filas.\n",
    "- `size(A,2)` devuelve el número de columnas.\n",
    "- `max(v)` devuelve el valor de la mayor componente del vector `v`, o si `v` es una matriz genera un vector fila con el máximo de cada columna de la matriz.\n",
    "- `min(v)` devuelve el valor de la menor componente del vector `v`, o si `v` es una matriz genera un vector fila con el mínimo de cada columna de la matriz.\n",
    "- `norm(v)` obtiene el módulo del vector `v`\n",
    "- `sum(v)` devuelve la suma de las componentes del vector `v`. Si `v` es matriz genera un vector fila, siendo cada elemento igual a la suma de la columna correspondiente de la matriz.\n",
    "- `prod(v)` devuelve el producto de las componentes del vector `v`. Si `v` es matriz genera un vector fila, siendo cada elemento igual al producto de la columna correspondiente de la matriz.\n",
    "- `sort(v)` ordena las componentes de v de menor a mayor. Si v es una matriz, ordena sus columnas de menor a mayor. Por ejemplo, para ordenar un vector v, bastaría con ejecutar la siguiente instrucción:"
   ]
  },
  {
   "cell_type": "code",
   "execution_count": 36,
   "metadata": {},
   "outputs": [
    {
     "name": "stdout",
     "output_type": "stream",
     "text": [
      "v =\n",
      "\n",
      "    1    2    3    4    5    6    7    8    9   10\n",
      "\n"
     ]
    }
   ],
   "source": [
    "v=sort(v)"
   ]
  },
  {
   "cell_type": "markdown",
   "metadata": {},
   "source": [
    "A continuación se detallan algunas funciones que operan con matrices:\n",
    "- `inv(A)` da como resultado la matriz inversa de $A$.\n",
    "- `det(A)` da como resultado el determinante de $A$.\n",
    "- `trace(A)` da como resultado la traza de $A$.\n",
    "- `transpose(A)` Devuelve la matriz traspuesta de $A$.\n",
    "- `A'` Devuelve la matriz traspuesta de $A$.\n",
    "\n",
    "### Funciones para definir matrices particulares ###\n",
    "\n",
    "Existen en el lenguaje M varias funciones orientadas a definir con gran facilidad matrices de tipos particulares. Algunas de estas funciones son las siguientes:\n",
    "\n",
    "- `eye(n)` forma la matriz *identidad* de tamaño $(n\\times n)$\n",
    "- `eye(m,n)` forma la matriz *identidad* de tamaño $(m\\times n)$\n",
    "- `zeros(m,n)` forma una matriz de *ceros* de tamaño $(m\\times n)$\n",
    "- `zeros(n)` forma una matriz de *ceros* de tamaño $(n\\times n)$\n",
    "- `ones(n)` forma una matriz de *unos* de tamaño $(n\\times n)$\n",
    "- `ones(m,n)` forma una matriz de *unos* de tamaño $(m\\times n)$"
   ]
  },
  {
   "cell_type": "code",
   "execution_count": 37,
   "metadata": {},
   "outputs": [
    {
     "name": "stdout",
     "output_type": "stream",
     "text": [
      "ans =\n",
      "\n",
      "Diagonal Matrix\n",
      "\n",
      "   1   0\n",
      "   0   1\n",
      "\n",
      "ans =\n",
      "\n",
      "   0   0   0\n",
      "   0   0   0\n",
      "\n",
      "ans =\n",
      "\n",
      "   1   1   1   1\n",
      "   1   1   1   1\n",
      "   1   1   1   1\n",
      "   1   1   1   1\n",
      "\n"
     ]
    }
   ],
   "source": [
    "eye(2)\n",
    "zeros(2,3)\n",
    "ones(4)"
   ]
  },
  {
   "cell_type": "markdown",
   "metadata": {},
   "source": [
    "### Números y matrices aleatorios ###\n",
    "\n",
    "Para la generación de números y matrices pseudoaleatorios, $M$ dispone de las siguientes funciones:\n",
    "\n",
    "- `rand` este comando genera números pseudoaleatorios distribuidos uniformemente entre 0 y 1. Cada llamada proporciona un nuevo número.\n",
    "- `rand(n)` genera una matriz de números pseudoaleatorios entre 0 y 1, con distribución uniforme, de tamaño $(n\\times n)$.\n",
    "- `rand(m,n)` igual que en el caso anterior pero de tamaño $(m\\times n)$."
   ]
  },
  {
   "cell_type": "code",
   "execution_count": 38,
   "metadata": {},
   "outputs": [
    {
     "name": "stdout",
     "output_type": "stream",
     "text": [
      "ans =  0.44426\n",
      "ans =\n",
      "\n",
      "   0.190950   0.330327   0.015725\n",
      "   0.483988   0.850487   0.086358\n",
      "   0.205391   0.085847   0.914069\n",
      "\n"
     ]
    }
   ],
   "source": [
    "rand\n",
    "rand(3)"
   ]
  },
  {
   "cell_type": "markdown",
   "metadata": {},
   "source": [
    "### Borrado de elementos de matrices y vectores ###\n",
    "\n",
    "Se pueden crear nuevas matrices eliminando elementos de otras ya existentes. Para borrar elementos de una matriz o vector, se debe asignar a éstos el valor vacío entre corchetes [ ]. Ejemplo:"
   ]
  },
  {
   "cell_type": "code",
   "execution_count": 39,
   "metadata": {
    "collapsed": true
   },
   "outputs": [],
   "source": [
    "clc\n",
    "%A(3,:)=[ ];"
   ]
  },
  {
   "cell_type": "markdown",
   "metadata": {},
   "source": [
    "con esta orden se elimina la fila 3 de la matriz $A$.\n",
    "\n",
    "### Extracción de elementos de tablas mediante índices lógicos ###\n",
    "\n",
    "Conocemos que para extraer elementos de una tabla, se deben indicar los índices correspondientes a los elementos; sin embargo, si como índices de una tabla disponemos un vector de tipo lógico, estamos indicando que se extraigan los elementos situados en las\n",
    "posiciones de valor lógico 1. Ejemplo:"
   ]
  },
  {
   "cell_type": "code",
   "execution_count": 40,
   "metadata": {},
   "outputs": [
    {
     "name": "stdout",
     "output_type": "stream",
     "text": [
      "v =\n",
      "\n",
      "    1    2    3    4    5    6    7    8    9   10\n",
      "\n",
      "in =\n",
      "\n",
      "  0  0  0  0  1  1  1  1  1  1\n",
      "\n",
      "ans =\n",
      "\n",
      "    5    6    7    8    9   10\n",
      "\n"
     ]
    }
   ],
   "source": [
    "v=1:10\n",
    "in=v>=5\n",
    "v(in) % se extraen los elementos de v que cumplen la condición, es elementos de v mayores o iguales a 5"
   ]
  },
  {
   "cell_type": "markdown",
   "metadata": {},
   "source": [
    "### Reutilización del formato en escritura de matrices en pantalla ###\n",
    "\n",
    "Cuando en lugar de un escalar se quiere escribir una matriz, se imprimirán los elementos en orden columnas, necesitando por cada elemento un formato. Sin embargo, en lenguaje M, ya conocemos que no es necesaria la disposición explícita de un formato por cada dato ya que cuando se termina de usar el formato especificado se reutiliza éste al completo hasta conseguir escribir el resto de datos. A continuación se escriben ejemplos relativos a esta propiedad:"
   ]
  },
  {
   "cell_type": "code",
   "execution_count": 41,
   "metadata": {},
   "outputs": [
    {
     "name": "stdout",
     "output_type": "stream",
     "text": [
      "1 3\n",
      "2 4\n",
      "3.56 7.89\n",
      "El dato es: 3.560000\n",
      "El dato es: 7.890000\n"
     ]
    }
   ],
   "source": [
    "A=[1 2;3 4]; B=[3.56 7.89];\n",
    "fprintf('%d %d\\n',A,B);\n",
    "fprintf('El dato es: %f\\n',B);"
   ]
  },
  {
   "cell_type": "markdown",
   "metadata": {},
   "source": [
    "## 2.3 Resolución de sistemas de ecuaciones ##\n",
    "\n",
    "En la mayor parte de problemas de ingeniería o ciencias aparecen sistemas de ecuaciones. Llegado este momento tenemos todas las herramientas necesarias para poder proceder a su resolución, siendo éste el objetivo de este tema.\n",
    "\n",
    "Sea el sistema de ecuaciones que se expresa matricialmente de la forma $A\\dot{x}=\\dot{b}$, siendo $A$ la matriz de coeficientes, y $\\dot{b}$ el vector de términos independientes. Este sistema puede resolverse en MATLAB y Octave utilizando simplemente el operador backslash o división izquierda (\\) de la forma:\n",
    "\n",
    "`x=A\\b`\n",
    "\n",
    "siendo $\\dot{b}$ un vector columna. El operador \\ examina los coeficientes de $A$ antes de intentar\n",
    "resolver el sistema y actúa de la siguiente forma:\n",
    "\n",
    "- Si $A$ es triangular (superior o inferior), entonces se utiliza sustitución hacia atrás o hacia delante.\n",
    "- Si $A$ es simétrica y los elementos diagonales de $A$ son positivos, entonces se intenta la factorización de Cholesky. No siempre es posible realizarla porque aunque la matriz $A$ cumpla las condiciones dichas podría no ser definida positiva.\n",
    "- Si las condiciones anteriores no se cumplen, se realiza una factorización $LU$.\n",
    "- Si $A$ no es cuadrada, tiene tamaño $M\\times N$ y se cumple que $M>N$ , el sistema se dice que es sobredeterminado. El sistema lineal resultante puede no tener solución. La solución que se adopta consiste en encontrar valores que minimicen el error dado por la siguiente expresión, lo que se denomina *Método de los Mínimos Cuadrados*:\n",
    "\n",
    "$$e=\\sum_{i=1}^{M}{\\left(b_i-\\sum_{j=1}^{N}a_{ij}x_{j}\\right)}^{2} $$\n",
    "\n",
    "Por ejemplo dado el sistema\n",
    "\\begin{cases}\n",
    "2x+3y=1\\\\\n",
    "4x-y=2 \\\\\n",
    "x-y=3\\\\\n",
    "x+y=0 \n",
    "\\end{cases}\n",
    "\n",
    "el conjunto de instrucciones (programa) que finalizan con la resolución mediante el método de mínimos cuadrados es:"
   ]
  },
  {
   "cell_type": "code",
   "execution_count": 42,
   "metadata": {},
   "outputs": [
    {
     "name": "stdout",
     "output_type": "stream",
     "text": [
      "x =\n",
      "\n",
      "   0.61538\n",
      "  -0.26923\n",
      "\n"
     ]
    }
   ],
   "source": [
    "A=[2 3;4 -1;1 -1;1 1];\n",
    "b=[1 2 3 0];\n",
    "x=A\\b'"
   ]
  },
  {
   "cell_type": "markdown",
   "metadata": {},
   "source": [
    "- Si $A$ no es cuadrada, tiene tamaño $M\\times N$ y se cumple que $N>M$, el sistema se denomina infradeterminado. Estos sistemas tienen infinitas soluciones y el operador \\ se limita a seleccionar una sin enviar ningún mensaje de advertencia. Por ejemplo, si consideramos el sistema infradeterminado,\n",
    "\\begin{align*}\n",
    "x+y+z&=-2.&\\\\\n",
    "2x-3y&=-4,&\n",
    "\\end{align*}\n",
    "el siguiente programa obtiene la solución indicada."
   ]
  },
  {
   "cell_type": "code",
   "execution_count": 43,
   "metadata": {},
   "outputs": [
    {
     "name": "stdout",
     "output_type": "stream",
     "text": [
      "x =\n",
      "\n",
      "  -1.52632\n",
      "   0.31579\n",
      "  -0.78947\n",
      "\n"
     ]
    }
   ],
   "source": [
    "A=[1 1 1; 2 -3 0];\n",
    "b=[-2,-4];\n",
    "x=A\\b'"
   ]
  },
  {
   "cell_type": "markdown",
   "metadata": {},
   "source": [
    "Sin embargo, existen otras muchas soluciones, por ejemplo: `x=1 ,y=2, z=-5`."
   ]
  },
  {
   "cell_type": "markdown",
   "metadata": {},
   "source": [
    "### Representación algebraica de un sistema de ecuaciones ###\n",
    "\n",
    "\\begin{cases}\n",
    "x-3y+2z=-3\\\\\n",
    "5x+6y-z=13\\\\\n",
    "4x-y+3z=8\\\\\n",
    "\\end{cases}\n",
    "\n",
    "### Representación matricial de un sistema de ecuaciones ###\n",
    "\n",
    "\\begin{gather}\n",
    " \\begin{pmatrix}\n",
    " 1 & -3 & 2 \\\\\n",
    " 5 & 6 & -1 \\\\\n",
    " 4 & -1 & 3\n",
    " \\end{pmatrix}\n",
    "  \\begin{pmatrix}\n",
    "   x \\\\\n",
    "   y \\\\\n",
    "   z\n",
    "  \\end{pmatrix}\n",
    " =\n",
    "  \\begin{pmatrix}\n",
    "  -3 \\\\ 13 \\\\ 8\n",
    "  \\end{pmatrix}\n",
    "\\end{gather}\n",
    "\n",
    "$$Ax=B$$\n",
    "\n",
    "### Solución cuando la matriz de coeficientes no es singular ###\n",
    "\n",
    "\\begin{align*}\n",
    "A x & = B \\\\\n",
    "A^{-1} A x & = A^{-1} B \\\\\n",
    "I X & = A^{-1} B\n",
    "\\end{align*}\n",
    "\n",
    "$$\\boxed{x=A^{-1}B}$$"
   ]
  },
  {
   "cell_type": "code",
   "execution_count": 44,
   "metadata": {},
   "outputs": [
    {
     "name": "stdout",
     "output_type": "stream",
     "text": [
      "A =\n",
      "\n",
      "   1  -3   2\n",
      "   5   6  -1\n",
      "   4  -1   3\n",
      "\n",
      "B =\n",
      "\n",
      "   -3\n",
      "   13\n",
      "    8\n",
      "\n",
      "ans =\n",
      "\n",
      "   1.06250   0.43750  -0.56250\n",
      "  -1.18750  -0.31250   0.68750\n",
      "  -1.81250  -0.68750   1.31250\n",
      "\n",
      "x =\n",
      "\n",
      "  -2.0000\n",
      "   5.0000\n",
      "   7.0000\n",
      "\n"
     ]
    }
   ],
   "source": [
    "A=[1 -3 2; 5 6 -1; 4 -1 3]\n",
    "B=[-3; 13; 8]\n",
    "inv(A)\n",
    "x=inv(A)*B"
   ]
  },
  {
   "cell_type": "markdown",
   "metadata": {},
   "source": [
    "### Solución optimizando el procedimiento ###\n",
    "\n",
    "$$\\boxed{X=A\\backslash B}$$"
   ]
  },
  {
   "cell_type": "code",
   "execution_count": 45,
   "metadata": {},
   "outputs": [
    {
     "name": "stdout",
     "output_type": "stream",
     "text": [
      "A =\n",
      "\n",
      "   1  -3   2\n",
      "   5   6  -1\n",
      "   4  -1   3\n",
      "\n",
      "B =\n",
      "\n",
      "   -3\n",
      "   13\n",
      "    8\n",
      "\n",
      "x =\n",
      "\n",
      "  -2.0000\n",
      "   5.0000\n",
      "   7.0000\n",
      "\n"
     ]
    }
   ],
   "source": [
    "A=[1 -3 2; 5 6 -1; 4 -1 3]\n",
    "B=[-3;13;8]\n",
    "x=A\\B"
   ]
  },
  {
   "cell_type": "markdown",
   "metadata": {},
   "source": [
    "## 2.4 Estructuras de control de tipo condicional ##\n",
    "\n",
    "Las sentencias de un programa son ejecutadas por el ordenador según su flujo natural, es decir, de arriba hacia abajo y de forma consecutiva a no ser que, de alguna manera, se altere este orden. Los comandos que realizan esta función se denominan comandos de control\n",
    "de flujo y las sentencias a las que pertenecen sentencias de control de flujo.\n",
    "\n",
    "Las sentencias condicionales permiten realizar ciertas instrucciones del programa sólo si se cumple la condición asociada a ellas.\n",
    "\n",
    "- Sentencia `if` simple\n",
    "La forma básica de una sentencia condicional `if` es la siguiente:\n",
    "\n",
    "        if  expresión_lógica\n",
    "    \n",
    "            sentencias\n",
    "    \n",
    "        end\n",
    "o bien\n",
    "\n",
    "`if expresión_lógica , sentencias , end`\n",
    "\n",
    "Las sentencias se ejecutan sólo si la expresión lógica se evalúa como cierta, en el caso de que la expresión sea evaluada como falsa, el programa continúa por la instrucción siguiente a end sin realizar las sentencias asociadas al condicional.\n",
    "\n",
    "- Bloque `if` unicondicional \n",
    "\n",
    "Se trata de otro tipo de sentencia más compleja pero en la que sigue apareciendo una única expresión lógica. La sintaxis se indica a continuación.\n",
    "\n",
    "    if  expresión_lógica\n",
    "       \n",
    "        bloque 1 sentencias\n",
    "    else\n",
    "    \n",
    "        bloque 2 sentencias\n",
    "    end\n",
    "\n",
    "Si la expresión lógica se evalúa como cierta se ejecuta el bloque 1 de sentencias, si se evalúa como falsa se ejecuta el bloque 2. Nunca se ejecutan los dos bloques de sentencias a la vez, ni ninguno de los dos. Se utiliza para elegir uno de dos 'caminos' en el programa.\n",
    "\n",
    "- Bloque `if` multicondicional\n",
    "\n",
    "A continuación mostramos la sintaxis de otra expresión condicional en la que se pueden evaluar dos o más condiciones.\n",
    "\n",
    "    if  expresión_lógica_1\n",
    "        bloque 1 sentencias\n",
    "    elseif  expresión_lógica_2\n",
    "         bloque 2 sentencias\n",
    "        ............\n",
    "    elseif  expresión_lógica_n\n",
    "         bloque n sentencias\n",
    "    else\n",
    "         bloque n+1 sentencias\n",
    "    end\n",
    "    \n",
    "Su funcionamiento es simple, la primera expresión lógica que se evalúe como cierta provoca la ejecución de sus sentencias asociadas y el posterior abandono de la estructura completa. Se utiliza para elegir uno de varios 'caminos' en el programa.\n",
    "\n",
    "La última rama (`else`) es opcional. Si se escribe, solo se ejecuta el bloque perteneciente a ella si todas las expresiones lógicas anteriores han resultado falsas.\n",
    "\n",
    "Veamos unos ejemplos de estas estructuras.\n",
    "\n",
    "En el siguiente programa se estudia si un número n es múltiplo de 2 y/o de 3."
   ]
  },
  {
   "cell_type": "code",
   "execution_count": 47,
   "metadata": {},
   "outputs": [
    {
     "name": "stdout",
     "output_type": "stream",
     "text": [
      "Digite un número entero:5\n",
      "n =  5\n"
     ]
    }
   ],
   "source": [
    "n = input('Digite un número entero:')\n",
    "\n",
    "if  rem(n,2)==0\n",
    "    disp('Es múltpiplo de 2.')\n",
    "end\n",
    "\n",
    "if  rem(n,3)==0\n",
    "    disp('Es múltiplo de 3.')\n",
    "end"
   ]
  },
  {
   "cell_type": "markdown",
   "metadata": {},
   "source": [
    "Obsérvese que las dos condiciones a estudiar son independientes: el cumplimiento o no de la primera no induce a que la segunda se cumpla o no. Cuando ocurra esto se deben estudiar los casos de forma independiente usando `if` simples.\n",
    "\n",
    "En el siguiente programa, se elige entre una de dos alternativas posibles (par o impar). Un número es par o es impar, no puede ser las dos opciones a la vez ni ninguna de ellas. Cuando ocurran estos casos se debe utilizar la estructura `if`/`else`."
   ]
  },
  {
   "cell_type": "code",
   "execution_count": 48,
   "metadata": {},
   "outputs": [
    {
     "name": "stdout",
     "output_type": "stream",
     "text": [
      "Introduce un entero positivo5\n",
      "n es impar\n"
     ]
    }
   ],
   "source": [
    "n=input ('Introduce un entero positivo');\n",
    "if  rem(n,2)== 0\n",
    "        disp('n es par')\n",
    "else\n",
    "        disp('n es impar')\n",
    "end"
   ]
  },
  {
   "cell_type": "markdown",
   "metadata": {},
   "source": [
    "A continuación se incorpora al programa anterior una tercera opción, número negativo, que aumenta a tres las posibilidades de elección. Cuando tengamos más de dos posibilidades excluyentes se debe usar la estructura `if` / `elseif` / `else`."
   ]
  },
  {
   "cell_type": "markdown",
   "metadata": {},
   "source": [
    "A continuación se incorpora al programa anterior una tercera opción, número negativo, que\n",
    "aumenta a tres las posibilidades de elección. Cuando tengamos más de dos posibilidades\n",
    "excluyentes se debe usar la estructura `if` / `elseif` / `else`."
   ]
  },
  {
   "cell_type": "code",
   "execution_count": 49,
   "metadata": {},
   "outputs": [
    {
     "name": "stdout",
     "output_type": "stream",
     "text": [
      "ans =  4\n",
      "ans =  1\n",
      "ans = 1\n"
     ]
    }
   ],
   "source": [
    "rem(25,7) % Porque 25 = 7 * 3 + 4.\n",
    "rem(7,2) % Porque 7 = 2 * 3 + 1.\n",
    "rem(12,2)==0"
   ]
  },
  {
   "cell_type": "code",
   "execution_count": 51,
   "metadata": {},
   "outputs": [
    {
     "name": "stdout",
     "output_type": "stream",
     "text": [
      "Introduce un entero5\n",
      "n es impar\n"
     ]
    }
   ],
   "source": [
    "n = input('Introduce un entero');\n",
    "if  n<0\n",
    "    disp('n es negativo')\n",
    "elseif  rem(n,2)== 0\n",
    "        disp('n es par')\n",
    "else\n",
    "        disp('n es impar')\n",
    "end"
   ]
  }
 ],
 "metadata": {
  "kernelspec": {
   "display_name": "Octave",
   "language": "octave",
   "name": "octave"
  },
  "language_info": {
   "file_extension": ".m",
   "help_links": [
    {
     "text": "GNU Octave",
     "url": "https://www.gnu.org/software/octave/support.html"
    },
    {
     "text": "Octave Kernel",
     "url": "https://github.com/Calysto/octave_kernel"
    },
    {
     "text": "MetaKernel Magics",
     "url": "https://github.com/calysto/metakernel/blob/master/metakernel/magics/README.md"
    }
   ],
   "mimetype": "text/x-octave",
   "name": "octave",
   "version": "4.2.1"
  }
 },
 "nbformat": 4,
 "nbformat_minor": 2
}
