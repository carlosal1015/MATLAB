{
 "cells": [
  {
   "cell_type": "markdown",
   "metadata": {},
   "source": [
    "## 2.1 Generación y manejo de vectores y matrices. ##\n",
    "\n",
    "#### Generación de vectores de forma directa ####\n",
    "\n",
    "En el lenguaje M se va a trabajar habitualmente con los corchetes ([ ]) para la generación de vectores y matrices. Su uso implica un ensamblado de los elementos que aparecen en su interior para formar una construcción más compleja. Hacemos notar que no tiene el significado matemático similar a los paréntesis.\n",
    "\n",
    "Para definir un vector no hace falta establecer de antemano su tamaño (de hecho, éste cambia de forma dinámica cuando es preciso). Simplemente, se disponen los valores de los elementos que lo van a componer entre corchetes, separados por espacios o una coma, en el caso de un vector fila, o por el carácter punto y coma (;) o pulsaciones intro, en el caso de un vector columna.\n",
    "\n",
    "Al teclear"
   ]
  },
  {
   "cell_type": "code",
   "execution_count": 24,
   "metadata": {},
   "outputs": [
    {
     "name": "stdout",
     "output_type": "stream",
     "text": [
      "b =\n",
      "\n",
      "   1   2   3   4   5\n",
      "\n"
     ]
    }
   ],
   "source": [
    "b=[1 2 3 4 5]"
   ]
  },
  {
   "cell_type": "markdown",
   "metadata": {},
   "source": [
    "o bien"
   ]
  },
  {
   "cell_type": "code",
   "execution_count": 25,
   "metadata": {},
   "outputs": [
    {
     "name": "stdout",
     "output_type": "stream",
     "text": [
      "b =\n",
      "\n",
      "   1   2   3   4   5\n",
      "\n"
     ]
    }
   ],
   "source": [
    "b=[1,2,3,4,5]"
   ]
  },
  {
   "cell_type": "markdown",
   "metadata": {},
   "source": [
    "se genera el vector fila `b: 1 2 3 4 5`,\n",
    "que aparecerá como tal en la ventana *Workspace*.\n",
    "\n",
    "Mientras que:"
   ]
  },
  {
   "cell_type": "code",
   "execution_count": 26,
   "metadata": {},
   "outputs": [
    {
     "name": "stdout",
     "output_type": "stream",
     "text": [
      "c =\n",
      "\n",
      "   1\n",
      "   2\n",
      "   3\n",
      "\n"
     ]
    }
   ],
   "source": [
    "c=[1;2;3]"
   ]
  },
  {
   "cell_type": "markdown",
   "metadata": {},
   "source": [
    "o bien"
   ]
  },
  {
   "cell_type": "code",
   "execution_count": 27,
   "metadata": {},
   "outputs": [
    {
     "name": "stdout",
     "output_type": "stream",
     "text": [
      "c =\n",
      "\n",
      "   1\n",
      "   2\n",
      "   3\n",
      "\n"
     ]
    }
   ],
   "source": [
    "c=[1\n",
    "2\n",
    "3]"
   ]
  },
  {
   "cell_type": "markdown",
   "metadata": {},
   "source": [
    "genera el vector columna `c 1 2 3`\n",
    "\n",
    "#### Generación rápida de vectores. Operador (:) ####\n",
    "\n",
    "Se van a analizar a continuación otras formas de generación de vectores que no necesitan de la escritura explícita de todos sus elementos. Implícitamente se trabajará con el operador (:) que sirve para crear sucesiones numéricas, por ejemplo:\n",
    "\n",
    "`1:4`, es equivalente a `1,2,3,4`\n",
    "\n",
    "Define el vector cuyos primer y último elemento son los especificados por `vin` y `vfin`, estando los componentes intermedios separados por una unidad. Está permitido no utilizar los corchetes o sustituirlos por paréntesis.\n",
    "\n",
    "Define el vector cuyos primer y último elemento son los especificados por `vin` y `vfin`, estando los componentes intermedios separados por `incr`. Está permitido no utilizar los corchetes o sustituirlos por paréntesis.\n",
    "\n",
    "Genera un vector con `n` valores igualmente espaciados entre `x1` y `x2`.\n",
    "\n",
    "#### Ejemplos: ####"
   ]
  },
  {
   "cell_type": "code",
   "execution_count": 28,
   "metadata": {},
   "outputs": [
    {
     "name": "stdout",
     "output_type": "stream",
     "text": [
      "v =\n",
      "\n",
      "    1    2    3    4    5    6    7    8    9   10\n",
      "\n",
      "v =\n",
      "\n",
      "    1    2    3    4    5    6    7    8    9   10\n",
      "\n",
      "v =\n",
      "\n",
      "    1    2    3    4    5    6    7    8    9   10\n",
      "\n",
      "v =\n",
      "\n",
      "   1   3   5   7   9\n",
      "\n",
      "v =\n",
      "\n",
      "    1.0000    2.5000    4.0000    5.5000    7.0000    8.5000   10.0000\n",
      "\n"
     ]
    }
   ],
   "source": [
    "v=[1:10]\n",
    "v=1:10\n",
    "v=(1:10)\n",
    "v=[1:2:10]\n",
    "v=linspace(1,10,7)"
   ]
  },
  {
   "cell_type": "markdown",
   "metadata": {},
   "source": [
    "## 2.2 Operaciones con matrices. Funciones específicas. ##\n",
    "\n",
    "#### Operaciones con matrices mediante operadores ####\n",
    "\n",
    "M puede operar con matrices por medio de *operadores* y por medio de *funciones*.\n",
    "\n",
    "Sean `A` y `B` dos matrices y c un escalar. Los operadores matriciales del lenguaje M son los siguientes:\n",
    "\n",
    "- Operadores suma (+) y resta (-)\n",
    "\n",
    "Utilizado entre matrices (siempre con el mismo tamaño) obtiene la suma/resta matricial (elemento a elemento). Utilizado entre una matriz y un escalar, suma/resta el escalar a cada elemento de la matriz. No existen los operadores (.+) y (.-).\n",
    "\n",
    "- Operador producto (*)\n",
    "\n",
    "Utilizado entre matrices resuelve el producto matricial. Las dimensiones de las matrices deben ser congruentes. Utilizado entre una matriz y un escalar, multiplica el escalar por cada elemento de la matriz.\n",
    "\n",
    "- Operador producto elemento a elemento (.*)\n",
    "\n",
    "`A.*B` da como resultado una matriz cuyo elemento $ij$ es $A_{ij}*B_{i}$.\n",
    "\n",
    "- Operador potenciación (^)\n",
    "\n",
    "Para utilizarlo, al menos uno de los operandos debe ser un escalar y la matriz debe ser cuadrada.\n",
    "\n",
    "`A^c` resuelve el producto matricial `A*A*A .............. *A`, c veces.\n",
    "\n",
    "`c^A` se computa mediante autovalores y autofunciones.\n",
    "\n",
    "- Operador potenciación elemento a elemento (.^)\n",
    "\n",
    "A continuación aparecen todas las posibilidades de utilización:\n",
    "\n",
    "   - `A.^B` da como resultado una matriz cuyo elemento $ij$ es $A_{ij}$\\wedge$B_{ij}$.\n",
    "   - `A.^c` da como resultado una matriz cuyo elemento $ij$ es $A_{ij}\\wedge c$.\n",
    "   - `c.^A` da como resultado una matriz cuyo elemento $ij$ es $c\\wedge A_{ij}$.\n",
    "\n",
    "- Operador división (/)(\\)\n",
    "\n",
    "La utilización entre una matriz y un escalar obtiene el cociente elemento a elemento. La utilización entre matrices se verá más adelante.\n",
    "\n",
    "- Operador división elemento a elemento (./)(.\\)\n",
    "\n",
    "A continuación aparecen todas las posibilidades de utilización:\n",
    "\n",
    "   - `A./B` da como resultado una matriz cuyo elemento `ij` es $A_{ij}/B_{ij}$.\n",
    "   - `A.\\B` da como resultado una matriz cuyo elemento `ij` es $B_{ij}/A_{ij}$.\n",
    " \n",
    "- Operador traspuesta (')\n",
    "\n",
    "`A'` da como resultado la matriz traspuesta de A."
   ]
  },
  {
   "cell_type": "code",
   "execution_count": 29,
   "metadata": {},
   "outputs": [
    {
     "name": "stdout",
     "output_type": "stream",
     "text": [
      "ans =\n",
      "\n",
      "   5   7   9\n",
      "\n",
      "ans =\n",
      "\n",
      "    4   10   18\n",
      "\n",
      "ans =\n",
      "\n",
      "  -3  -3  -3\n",
      "\n",
      "ans =\n",
      "\n",
      "     1    32   729\n",
      "\n",
      "ans =\n",
      "\n",
      "   4   5   6\n",
      "\n",
      "ans =\n",
      "\n",
      "   3   6   9\n",
      "\n",
      "ans =\n",
      "\n",
      "    1    8   27\n",
      "\n",
      "ans =\n",
      "\n",
      "    3    9   27\n",
      "\n"
     ]
    }
   ],
   "source": [
    "a=[1 2 3];b=[4 5 6];c=3;\n",
    "a+b\n",
    "a.*b\n",
    "a-b\n",
    "a.^b\n",
    "a+c\n",
    "a*c\n",
    "a.^c\n",
    "c.^a"
   ]
  },
  {
   "cell_type": "markdown",
   "metadata": {},
   "source": [
    "- Operadores relacionales, lógicos y de igualdad\n",
    "\n",
    "Son válidos los analizados en la sección 1.3. Aplicados entre matrices se emplean elemento a elemento, luego el tamaño de las matrices debe coincidir. El resultado es una matriz de tipo lógico."
   ]
  },
  {
   "cell_type": "code",
   "execution_count": 30,
   "metadata": {},
   "outputs": [
    {
     "name": "stdout",
     "output_type": "stream",
     "text": [
      "P =\n",
      "\n",
      "  0  0  1  1  1  0  0  0  0\n",
      "\n"
     ]
    }
   ],
   "source": [
    "A=1:9;\n",
    "P=(A>2)&(A<6)"
   ]
  },
  {
   "cell_type": "markdown",
   "metadata": {},
   "source": [
    "#### Operaciones con matrices mediante funciones ####\n",
    "\n",
    "Además de los operadores analizados en la sección anterior, existen funciones M que permiten realizar otro tipo de operaciones con vectores:\n",
    "\n",
    "- `dot(v,w)`producto escalar de los vectores `v` y `w`.\n",
    "- `cross(v,w)`producto vectorial de los vectores `v` y `w` (máximo tres componentes de cada uno): $[v_2w_3-v_3w_2\\quad v_3w_1-v_1w_3\\quad v_1w_2-v_2w_1]$.\n",
    "- `lenght(v)`calcula el número de componentes del vector v, o el máximo tamaño de las dimensiones si v es una matriz.\n",
    "- `(m,n)=size(A)` devuelve el número de filas y de columnas de la matriz A. Si la matriz es cuadrada basta recoger el primer valor de retorno.\n",
    "- `size(A,1)` devuelve el número de filas.\n",
    "- `size(A,2)` devuelve el número de columnas.\n",
    "- `max(v)` devuelve el valor de la mayor componente del vector `v`, o si `v` es una matriz genera un vector fila con el máximo de cada columna de la matriz.\n",
    "- `min(v)` devuelve el valor de la menor componente del vector `v`, o si `v` es una matriz genera un vector fila con el mínimo de cada columna de la matriz.\n",
    "- `norm(v)` obtiene el módulo del vector `v`\n",
    "- `sum(v)` devuelve la suma de las componentes del vector `v`. Si `v` es matriz genera un vector fila, siendo cada elemento igual a la suma de la columna correspondiente de la matriz.\n",
    "- `prod(v)` devuelve el producto de las componentes del vector `v`. Si `v` es matriz genera un vector fila, siendo cada elemento igual al producto de la columna correspondiente de la matriz.\n",
    "- `sort(v)` ordena las componentes de v de menor a mayor. Si v es una matriz, ordena sus columnas de menor a mayor. Por ejemplo, para ordenar un vector v, bastaría con ejecutar la siguiente instrucción:"
   ]
  },
  {
   "cell_type": "code",
   "execution_count": 13,
   "metadata": {},
   "outputs": [
    {
     "name": "stdout",
     "output_type": "stream",
     "text": [
      "v =\n",
      "\n",
      "    1.0000    2.5000    4.0000    5.5000    7.0000    8.5000   10.0000\n",
      "\n"
     ]
    }
   ],
   "source": [
    "v=sort(v)"
   ]
  },
  {
   "cell_type": "markdown",
   "metadata": {},
   "source": [
    "A continuación se detallan algunas funciones que operan con matrices:\n",
    "- `inv(A)` da como resultado la matriz inversa de $A$.\n",
    "- `det(A)` da como resultado el determinante de $A$.\n",
    "- `trace(A)` da como resultado la traza de $A$.\n",
    "- `transpose(A)` Devuelve la matriz traspuesta de $A$.\n",
    "- `A'` Devuelve la matriz traspuesta de $A$.\n",
    "\n",
    "#### Funciones para definir matrices particulares ####\n",
    "\n",
    "Existen en el lenguaje M varias funciones orientadas a definir con gran facilidad matrices de tipos particulares. Algunas de estas funciones son las siguientes:\n",
    "\n",
    "- `eye(n)` forma la matriz *identidad* de tamaño $(n\\times n)$\n",
    "- `eye(m,n)` forma la matriz *identidad* de tamaño $(m\\times n)$\n",
    "- `zeros(m,n)` forma una matriz de *ceros* de tamaño $(m\\times n)$\n",
    "- `zeros(n)` forma una matriz de *ceros* de tamaño $(n\\times n)$\n",
    "- `ones(n)` forma una matriz de *unos* de tamaño $(n\\times n)$\n",
    "- `ones(m,n)` forma una matriz de *unos* de tamaño $(m\\times n)$"
   ]
  },
  {
   "cell_type": "code",
   "execution_count": 14,
   "metadata": {},
   "outputs": [
    {
     "name": "stdout",
     "output_type": "stream",
     "text": [
      "ans =\n",
      "\n",
      "Diagonal Matrix\n",
      "\n",
      "   1   0\n",
      "   0   1\n",
      "\n",
      "ans =\n",
      "\n",
      "   0   0   0\n",
      "   0   0   0\n",
      "\n",
      "ans =\n",
      "\n",
      "   1   1   1   1\n",
      "   1   1   1   1\n",
      "   1   1   1   1\n",
      "   1   1   1   1\n",
      "\n"
     ]
    }
   ],
   "source": [
    "eye(2)\n",
    "zeros(2,3)\n",
    "ones(4)"
   ]
  },
  {
   "cell_type": "markdown",
   "metadata": {},
   "source": [
    "#### Números y matrices aleatorios ####\n",
    "\n",
    "Para la generación de números y matrices pseudoaleatorios, $M$ dispone de las siguientes funciones:\n",
    "\n",
    "- `rand` este comando genera números pseudoaleatorios distribuidos uniformemente entre 0 y 1. Cada llamada proporciona un nuevo número.\n",
    "- `rand(n)` genera una matriz de números pseudoaleatorios entre 0 y 1, con distribución uniforme, de tamaño $(n\\times n)$.\n",
    "- `rand(m,n)` igual que en el caso anterior pero de tamaño $(m\\times n)$."
   ]
  },
  {
   "cell_type": "code",
   "execution_count": 15,
   "metadata": {},
   "outputs": [
    {
     "name": "stdout",
     "output_type": "stream",
     "text": [
      "ans =  0.90489\n",
      "ans =\n",
      "\n",
      "   0.186232   0.801428   0.547975\n",
      "   0.106503   0.918120   0.256544\n",
      "   0.359537   0.503496   0.060026\n",
      "\n"
     ]
    }
   ],
   "source": [
    "rand\n",
    "rand(3)"
   ]
  },
  {
   "cell_type": "markdown",
   "metadata": {},
   "source": [
    "#### Borrado de elementos de matrices y vectores ####\n",
    "\n",
    "Se pueden crear nuevas matrices eliminando elementos de otras ya existentes. Para borrar elementos de una matriz o vector, se debe asignar a éstos el valor vacío entre corchetes [ ]. Ejemplo:"
   ]
  },
  {
   "cell_type": "code",
   "execution_count": 21,
   "metadata": {
    "collapsed": true
   },
   "outputs": [],
   "source": [
    "clc\n",
    "%A(3,:)=[ ];"
   ]
  },
  {
   "cell_type": "markdown",
   "metadata": {},
   "source": [
    "con esta orden se elimina la fila 3 de la matriz $A$.\n",
    "\n",
    "#### Extracción de elementos de tablas mediante índices lógicos ####\n",
    "\n",
    "Conocemos que para extraer elementos de una tabla, se deben indicar los índices correspondientes a los elementos; sin embargo, si como índices de una tabla disponemos un vector de tipo lógico, estamos indicando que se extraigan los elementos situados en las\n",
    "posiciones de valor lógico 1. Ejemplo:"
   ]
  },
  {
   "cell_type": "code",
   "execution_count": 22,
   "metadata": {},
   "outputs": [
    {
     "name": "stdout",
     "output_type": "stream",
     "text": [
      "v =\n",
      "\n",
      "    1    2    3    4    5    6    7    8    9   10\n",
      "\n",
      "in =\n",
      "\n",
      "  0  0  0  0  1  1  1  1  1  1\n",
      "\n",
      "ans =\n",
      "\n",
      "    5    6    7    8    9   10\n",
      "\n"
     ]
    }
   ],
   "source": [
    "v=1:10\n",
    "in=v>=5\n",
    "v(in)\n",
    "% se extraen los elementos de v que cumplen la condición, es elementos de v mayores o iguales a 5"
   ]
  },
  {
   "cell_type": "markdown",
   "metadata": {},
   "source": [
    "#### Reutilización del formato en escritura de matrices en pantalla ####\n",
    "\n",
    "Cuando en lugar de un escalar se quiere escribir una matriz, se imprimirán los elementos en orden columnas, necesitando por cada elemento un formato. Sin embargo, en lenguaje M, ya conocemos que no es necesaria la disposición explícita de un formato por cada dato ya que cuando se termina de usar el formato especificado se reutiliza éste al completo hasta conseguir escribir el resto de datos. A continuación se escriben ejemplos relativos a esta propiedad:"
   ]
  },
  {
   "cell_type": "code",
   "execution_count": 23,
   "metadata": {},
   "outputs": [
    {
     "name": "stdout",
     "output_type": "stream",
     "text": [
      "1 3\n",
      "2 4\n",
      "3.56 7.89\n",
      "El dato es: 3.560000\n",
      "El dato es: 7.890000\n"
     ]
    }
   ],
   "source": [
    "A=[1 2;3 4]; B=[3.56 7.89];\n",
    "fprintf('%d %d\\n',A,B);\n",
    "fprintf('El dato es: %f\\n',B);"
   ]
  },
  {
   "cell_type": "markdown",
   "metadata": {},
   "source": [
    "## 2.3 Resolución de sistemas de ecuaciones ##\n",
    "\n",
    "En la mayor parte de problemas de ingeniería o ciencias aparecen sistemas de ecuaciones. Llegado este momento tenemos todas las herramientas necesarias para poder proceder a su resolución, siendo éste el objetivo de este tema.\n",
    "\n",
    "Sea el sistema de ecuaciones que se expresa matricialmente de la forma $A\\dot{x}=\\dot{b}$, siendo $A$ la matriz de coeficientes, y $\\dot{b}$ el vector de términos independientes. Este sistema puede resolverse en MATLAB y Octave utilizando simplemente el operador backslash o división izquierda (\\) de la forma:\n",
    "\n",
    "`x=A\\b`\n",
    "\n",
    "siendo $\\dot{b}$ un vector columna. El operador \\ examina los coeficientes de $A$ antes de intentar\n",
    "resolver el sistema y actúa de la siguiente forma:\n",
    "\n",
    "- Si $A$ es triangular (superior o inferior), entonces se utiliza sustitución hacia atrás o hacia delante.\n",
    "- Si $A$ es simétrica y los elementos diagonales de $A$ son positivos, entonces se intenta la factorización de Cholesky. No siempre es posible realizarla porque aunque la matriz $A$ cumpla las condiciones dichas podría no ser definida positiva.\n",
    "- Si las condiciones anteriores no se cumplen, se realiza una factorización $LU$.\n",
    "- Si $A$ no es cuadrada, tiene tamaño $M\\times N$ y se cumple que $M>N$ , el sistema se dice que es sobredeterminado. El sistema lineal resultante puede no tener solución. La solución que se adopta consiste en encontrar valores que minimicen el error dado por la siguiente expresión, lo que se denomina *Método de los Mínimos Cuadrados*:\n",
    "\n",
    "$$e=\\sum_{i=1}^{M}{\\left(b_i-\\sum_{j=1}^{N}a_{ij}x_{j}\\right)}^{2} $$\n",
    "\n",
    "Por ejemplo dado el sistema\n",
    "\\begin{align*}\n",
    "2x+3y&=1,&\\\\\n",
    "4x-y&=2, &\\\\\n",
    "x-y&=3, &\\\\\n",
    "x+y&=0, &\n",
    "\\end{align*}\n",
    "\n",
    "el conjunto de instrucciones (programa) que finalizan con la resolución mediante el método de mínimos cuadrados es:"
   ]
  },
  {
   "cell_type": "code",
   "execution_count": 31,
   "metadata": {},
   "outputs": [
    {
     "name": "stdout",
     "output_type": "stream",
     "text": [
      "x =\n",
      "\n",
      "   0.61538\n",
      "  -0.26923\n",
      "\n"
     ]
    }
   ],
   "source": [
    "A=[2 3;4 -1;1 -1;1 1];\n",
    "b=[1 2 3 0];\n",
    "x=A\\b'"
   ]
  },
  {
   "cell_type": "markdown",
   "metadata": {},
   "source": [
    "- Si $A$ no es cuadrada, tiene tamaño $M\\times N$ y se cumple que $N>M$, el sistema se denomina infradeterminado. Estos sistemas tienen infinitas soluciones y el operador \\ se limita a seleccionar una sin enviar ningún mensaje de advertencia. Por ejemplo, si consideramos el sistema infradeterminado,\n",
    "\\begin{align*}\n",
    "x+y+z&=-2.&\\\\\n",
    "2x-3y&=-4,&\n",
    "\\end{align*}\n",
    "el siguiente programa obtiene la solución indicada."
   ]
  },
  {
   "cell_type": "code",
   "execution_count": 32,
   "metadata": {},
   "outputs": [
    {
     "name": "stdout",
     "output_type": "stream",
     "text": [
      "x =\n",
      "\n",
      "  -1.52632\n",
      "   0.31579\n",
      "  -0.78947\n",
      "\n"
     ]
    }
   ],
   "source": [
    "A=[1 1 1; 2 -3 0];\n",
    "b=[-2,-4];\n",
    "x=A\\b'"
   ]
  },
  {
   "cell_type": "markdown",
   "metadata": {},
   "source": [
    "Sin embargo, existen otras muchas soluciones, por ejemplo: `x=1 ,y=2, z=-5`."
   ]
  },
  {
   "cell_type": "markdown",
   "metadata": {},
   "source": [
    "## 2.4 Estructuras de control de tipo condicional ##\n",
    "\n",
    "Las sentencias de un programa son ejecutadas por el ordenador según su flujo natural, es decir, de arriba hacia abajo y de forma consecutiva a no ser que, de alguna manera, se altere este orden. Los comandos que realizan esta función se denominan comandos de control\n",
    "de flujo y las sentencias a las que pertenecen sentencias de control de flujo.\n",
    "\n",
    "Las sentencias condicionales permiten realizar ciertas instrucciones del programa sólo si se cumple la condición asociada a ellas.\n",
    "\n"
   ]
  }
 ],
 "metadata": {
  "kernelspec": {
   "display_name": "Octave",
   "language": "octave",
   "name": "octave"
  },
  "language_info": {
   "file_extension": ".m",
   "help_links": [
    {
     "text": "GNU Octave",
     "url": "https://www.gnu.org/software/octave/support.html"
    },
    {
     "text": "Octave Kernel",
     "url": "https://github.com/Calysto/octave_kernel"
    },
    {
     "text": "MetaKernel Magics",
     "url": "https://github.com/calysto/metakernel/blob/master/metakernel/magics/README.md"
    }
   ],
   "mimetype": "text/x-octave",
   "name": "octave",
   "version": "4.2.1"
  }
 },
 "nbformat": 4,
 "nbformat_minor": 2
}
