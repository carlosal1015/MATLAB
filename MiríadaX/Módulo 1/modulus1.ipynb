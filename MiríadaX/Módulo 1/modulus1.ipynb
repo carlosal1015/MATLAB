{
 "cells": [
  {
   "cell_type": "markdown",
   "metadata": {},
   "source": [
    "## 1.1 Instalación del software necesario, entorno de desarrollo y primeros pasos ##\n",
    "\n",
    "#### MATLAB y Octave ####\n",
    "\n",
    "MATLAB (abreviatura de MATrix LABoratory, 'laboratorio de matrices') es un software matemático de cálculo técnico y científico. Fue creado por Cleve Moler en 1984.\n",
    "\n",
    "MATLAB es un programa especialmente diseñado para efectuar cálculos numéricos con vectores y matrices, que resultan fundamentales a fin de resolver problemas de ingeniería y ciencia. Además, una de sus características más atractivas es la de facilitar la realización de una amplia variedad de gráficos en dos y tres dimensiones. MATLAB posee también un lenguaje de programación propio, de muy alto nivel (lenguaje M). En definitiva, es una magnífica herramienta para desarrollar aplicaciones técnicas, muy utilizada en el campo de la ingeniería\n",
    "y fácil de manejar.\n",
    "\n",
    "Pueden extender las capacidades del módulo básico de MATLAB con las cajas de herramientas (toolboxes) que consisten en paquetes de ampliación del software básico y que son aplicables a determinados campos de la ciencia: matemática en general (optimización, bases de datos, estadística, ecuaciones diferenciales, redes neuronales), procesado de señales, procesado de imágenes, adquisición de datos, finanzas, sistemas de control, etc.\n",
    "\n",
    "MATLAB es un software abierto que puede relacionarse con otras aplicaciones, como Excel, C,\n",
    "Fortran, etc. A modo de ejemplo, los programas escritos en MATLAB pueden ser traducidos a\n",
    "lenguaje C de forma inmediata. En este curso nos basaremos en el uso del software básico de\n",
    "MATLAB.\n",
    "\n",
    "Octave o GNU Octave es un software libre para realizar cálculos numéricos que también posee un lenguaje de programación propio. Su versión 1.0 apareció en 1994. Es considerado el equivalente libre de MATLAB, ya que aunque existen ciertas diferencias sintácticas, la mayoría son debidas a que Octave es más amplio y admite alguna sintaxis que MATLAB no permite. Luego si se utiliza sintaxis MATLAB los programas van a funcionar en ambos software.\n",
    "\n",
    "Para seguir este curso, se puede utilizar indistintamente el software MATLAB u Octave. Hablaremos en este curso de lenguaje M para referirnos, indistintamente, al lenguaje que se utiliza en ambos software.\n",
    "\n",
    "#### Instalación del software necesario para el seguimiento del curso ####\n",
    "\n",
    "MATLAB es un software comercial, por tanto, con coste. El alumno que lo tenga instalado en su computador puede seguir el curso con este programa.\n",
    "\n",
    "Sin embargo, el curso también puede seguirse usando el software libre, gratuito, Octave. Este software se puede descargar desde (https://www.gnu.org/software/octave/download.html ). En el vídeo explicativo correspondiente a este tema se indica la forma en la que se debe realizar la instalación de este.\n",
    "\n",
    "Para continuar con el curso el alumno debe tener instalado en su computador, bien el software Octave, o bien el software MATLAB (en cualquiera de las versiones).\n",
    "\n",
    "#### El entorno de desarrollo integrado en MATLAB y Octave ####\n",
    "\n",
    "Para poder escribir y ejecutar un programa en un lenguaje de programación se necesita tener instalado en el computador un compilador o intérprete para tal lenguaje. MATLAB y Octave utilizan un intérprete.\n",
    "\n",
    "El intérprete no se usa de manera aislada. Suele incluirse en Entornos de Desarrollo Integrados (IDE, por sus siglas en inglés). El entorno que vamos a usar cuenta con:\n",
    "\n",
    "- Editor de código fuente (Editor)\n",
    "- Explorador de variables (Workspace).\n",
    "- Línea de comandos del intérprete (Command Window).\n",
    "- Historial de comandos (Command History)\n",
    "- Explorador de ficheros (Current Folder)\n",
    "- Depurador (Debug)\n",
    "- Otras herramientas\n",
    "\n",
    "Sea cual sea la versión de MATLAB que utilicemos o si estamos usando Octave lo verdaderamente importante es saber que existen estas herramientas y utilizarlas para potenciar y acelerar nuestro trabajo.\n",
    "\n",
    "A continuación indicamos la función principal de las ventanas y/o herramientas principales del IDE:\n",
    "\n",
    "- Editor, es el editor de texto en el que se escribirá el código fuente de los programas, además de poder visionar cualquier archivo de texto plano (texto sin formato).\n",
    "\n",
    "- Workspace, guarda la información de las variables utilizadas en la sesión de trabajo actual.\n",
    "- Command Window, es la ventana más importante, ya que en ella aparece la línea de comandos del intérprete, en la que se teclean las instrucciones a ejecutar para obtener un resultado de inmediato.\n",
    "\n",
    "- Command History, almacena todas las sentencias que se han ejecutado en la ventana de comandos en las últimas sesiones de trabajo. Se puede navegar a través de ellas mediante la flecha de desplazamiento vertical pulsada desde Command Window.\n",
    "\n",
    "- Current Folder indica cuál es el directorio de trabajo y los archivos y/o directorios incluidos en él.\n",
    "\n",
    "- Debug, herramienta que permite actuar en la ejecución del programa mediante múltiples acciones: insertar puntos de parada en el código, ejecutar el código paso a paso, etc."
   ]
  },
  {
   "cell_type": "markdown",
   "metadata": {},
   "source": [
    "## 1.2 Uso del software como una calculadora. Iniciación a los operadores y almacenamiento de datos ##\n",
    "#### Iniciación al manejo de datos ####\n",
    "Empezaremos a usar el software en modo calculadora, utilizando la ventana de\n",
    "comandos para escribir la instrucción y observando el resultado."
   ]
  },
  {
   "cell_type": "code",
   "execution_count": 42,
   "metadata": {},
   "outputs": [
    {
     "name": "stdout",
     "output_type": "stream",
     "text": [
      "\n"
     ]
    }
   ],
   "source": [
    "2+3"
   ]
  },
  {
   "cell_type": "markdown",
   "metadata": {},
   "source": [
    "Todo resultado de una operación se debe almacenar en la memoria del computador. Si\n",
    "no se indica explícitamente el nombre de la variable donde se guardará éste, el lenguaje M usa\n",
    "la variable reservada *ans*.\n",
    "\n",
    "Podemos por tanto interpretar que el resultado de la operación $2+3$ se ha almacenado\n",
    "en la variable *ans*.\n",
    "\n",
    "Cuando el programador use sus propias variables debe utilizar nombres válidos. Como\n",
    "identificador (nombre) se puede utilizar cualquier palabra que empiece por una letra y tenga a\n",
    "continuación cualquier combinación de letras, números o el carácter guión bajo. Es importante\n",
    "conocer que se distinguen mayúsculas de minúsculas, luego, por ejemplo, las variables $A$ y $a$\n",
    "son distintas.\n",
    "\n",
    "Otra cosa importante es saber cómo introducir los valores numéricos en las sentencias de este\n",
    "lenguaje. Los valores numéricos enteros se escriben literalmente, y los valores reales, usando\n",
    "un punto para separar la parte entera de los decimales o también utilizando notación\n",
    "científica. La notación científica es una forma de representar un número utilizando potencias\n",
    "de 10. Por ejemplo, el valor 34.2865 se podría escribir en notación científica como\n",
    "0.342865x10 2 (se escribirá como 0.342865e2). Veamos un ejemplo en el que asignamos un\n",
    "valor entero a la variable $a$, mientras que a las variables $c$ y $d$ se les asignan valores reales"
   ]
  },
  {
   "cell_type": "code",
   "execution_count": 43,
   "metadata": {},
   "outputs": [
    {
     "name": "stdout",
     "output_type": "stream",
     "text": [
      "a =  23\n",
      "c =  45.876\n",
      "d =  0.014530\n"
     ]
    }
   ],
   "source": [
    "a=23, c=45.876, d=1.453e-2"
   ]
  },
  {
   "cell_type": "markdown",
   "metadata": {},
   "source": [
    "`M` tiene variables predefinidas que contienen un valor por defecto. Por ejemplo, entre otras,\n",
    "existe la variable *pi* con el valor correspondiente a la constante matemática $\\pi$."
   ]
  },
  {
   "cell_type": "markdown",
   "metadata": {},
   "source": [
    "Existen algunas variables que representan cantidades que no son consideradas números como\n",
    "tal. Estas cantidades son:\n",
    "- Infinito, $\\infty$, representado por la variable Inf (o inf)\n",
    "- Cantidades indefinidas, representadas por la variable NaN (o nan)"
   ]
  },
  {
   "cell_type": "code",
   "execution_count": 44,
   "metadata": {},
   "outputs": [
    {
     "name": "stdout",
     "output_type": "stream",
     "text": [
      "ans = Inf\n",
      "ans = Inf\n",
      "ans = NaN\n",
      "ans = NaN\n"
     ]
    }
   ],
   "source": [
    "Inf # Equivalentes\n",
    "inf # Equivalentes\n",
    "NaN # Not a number (0/0, \\inf-\\inf)\n",
    "nan"
   ]
  },
  {
   "cell_type": "markdown",
   "metadata": {},
   "source": [
    "#### Operador de asignación ####\n",
    "\n",
    "El operador de asignación (=) se utiliza para dar un valor nuevo a una variable. Su utilización es la siguiente:\n",
    "\n",
    "</p>\n",
    "<p align=\"center\">\n",
    "  <b>*variable = expresión*</b>\n",
    "  <br>\n",
    "</p>\n",
    "\n",
    "donde *expresión* es cualquier expresión válida en lenguaje M.\n",
    "\n",
    "Si la variable no existe, ésta se creará con el valor y el tipo de dato de la expresión situada a la\n",
    "derecha del operador de asignación.\n",
    "\n",
    "Si la variable existe, cada vez que se le asigne un nuevo valor, ésta pierde su estado anterior\n",
    "(tipo de dato y valor) y toma un nuevo estado correspondiente con el valor y el tipo de la\n",
    "expresión de la derecha.\n",
    "\n",
    "#### Operadores aritméticos ####\n",
    "\n",
    "Los operadores aritméticos aplicables a escalares (ampliaremos éstos cuando se\n",
    "estudien matrices) son los siguientes: Suma (+), resta (-), producto (*), división derecha (/), división izquierda (\\), potenciación (^).\n",
    "\n",
    "Resto de una división: *no existe un operador*. A tal efecto se debe utilizar la función\n",
    "`rem(A,B)` que calcula el resto de dividir $A$ entre $B$.\n",
    "\n",
    "Para desarrollar una sentencia en la que aparezcan varios operadores, las operaciones se\n",
    "deben realizar siguiendo la prioridad de operadores. La siguiente tabla muestra la prioridad de\n",
    "operadores aritméticos y asignación de mayor a menor prioridad.\n",
    "\n",
    "|**Operador**|**Símbolos**|**A igual prioridad se sigue el orden de**|\n",
    "|:-----:|:------:|:---------:|\n",
    "|Paréntesis| ()||\n",
    "|Potencia| ^| Izquierda a derecha|\n",
    "|Multiplicación, división| *,/,\\| Izquierda a derecha|\n",
    "|Suma y resta, cambio de signo(-)|+,-|Izquierda a derecha|\n",
    "|Asignación|=|Derecha a izquierda|"
   ]
  },
  {
   "cell_type": "code",
   "execution_count": 45,
   "metadata": {},
   "outputs": [
    {
     "name": "stdout",
     "output_type": "stream",
     "text": [
      "ans =  14.400\n",
      "ans =  8\n",
      "c = -1\n",
      "ans =  0.75000\n",
      "ans =  1.3333\n",
      "ans =  0.22222\n",
      "x =  1.3333\n",
      "b =  1.7000\n"
     ]
    }
   ],
   "source": [
    "2.4*6\n",
    "2^3\n",
    "c=-1^4\n",
    "3/4\n",
    "3\\4\n",
    "2/3^2\n",
    "x=2/3*2\n",
    "b=rem(6.7,5)"
   ]
  },
  {
   "cell_type": "markdown",
   "metadata": {},
   "source": [
    "#### Formatos para el muestreo de resultados en pantalla ####\n",
    "\n",
    "Independientemente de la precisión con la que un dato se ha memorizado en la\n",
    "memoria RAM, podemos elegir entre diferentes formatos de escritura de los datos en pantalla.\n",
    "Existen varios modos de trabajo en MATLAB y Octave. Se indican a continuación, los más\n",
    "significativos:\n",
    "- `format short`: punto fijo con cinco cifras significativas 1 . Si el dato no puede mostrarse adecuadamente con este formato opta por un formato en coma flotante.\n",
    "- `format long`: punto fijo con quince cifras significativas. Si el dato no puede mostrarse adecuadamente con este formato opta por un formato en coma flotante.\n",
    "- `format short e`: formato en coma flotante. Para representar la mantisa se usan cinco cifras significativas.\n",
    "- `format long e`: formato en coma flotante. Para representar la mantisa se usan quince cifras significativas.\n",
    "- `format rat`: aproximación por formato racional (cociente de enteros)\n",
    "\n",
    "El modo de trabajo por defecto en lenguaje M es `format short` luego los datos se mostrarán con cinco cifras significativas mientras que el usuario no quiera modificar el formato.\n",
    "\n",
    "A continuación se utiliza MATLAB, como si de una calculadora se tratara, para calcular los valores $3^100$ y $5+\\pi$ , cambiando el formato de muestreo de resultados. (Adelantamos aquí el uso del operador potenciación (^))."
   ]
  },
  {
   "cell_type": "code",
   "execution_count": 46,
   "metadata": {},
   "outputs": [
    {
     "name": "stdout",
     "output_type": "stream",
     "text": [
      "ans =    5.1538e+47\n",
      "ans =  8.1416\n",
      "ans =    5.1538e+47\n",
      "ans =    8.1416e+00\n",
      "ans =    5.15377520732011e+47\n",
      "ans =  8.14159265358979\n",
      "ans =    5.15377520732011e+47\n",
      "ans =    8.14159265358979e+00\n",
      "ans = 920/113\n"
     ]
    }
   ],
   "source": [
    "# format short\n",
    "3^100\n",
    "5+pi\n",
    "format short e\n",
    "3^100\n",
    "5+pi\n",
    "format long\n",
    "3^100\n",
    "5+pi\n",
    "format long e\n",
    "3^100\n",
    "5+pi\n",
    "format rat\n",
    "5+pi"
   ]
  },
  {
   "cell_type": "markdown",
   "metadata": {},
   "source": [
    "Tecleando `format` se vuelve al formato por defecto, es decir, `format short`.\n",
    "\n",
    "Usemos ahora la ventana de comandos para ver un ejemplo de los errores en el almacenamiento de datos. Escribamos en la ventana de comandos el número $2$, y a\n",
    "continuación el resultado de la operación ${(\\sqrt{2})}^2$ (Adelantamos aquí el uso de la función raíz\n",
    "cuadrada (`sqrt()`). Mostremos 15 cifras significativas."
   ]
  },
  {
   "cell_type": "code",
   "execution_count": 47,
   "metadata": {},
   "outputs": [
    {
     "name": "stdout",
     "output_type": "stream",
     "text": [
      "ans = 2\n",
      "ans =  2.00000000000000\n"
     ]
    }
   ],
   "source": [
    "2\n",
    "format long\n",
    "(sqrt(2))^2"
   ]
  },
  {
   "cell_type": "markdown",
   "metadata": {},
   "source": [
    "Matemáticamente ambos resultados son iguales y computacionalmente parecen iguales. Vamos a comprobarlo:"
   ]
  },
  {
   "cell_type": "code",
   "execution_count": 48,
   "metadata": {},
   "outputs": [
    {
     "name": "stdout",
     "output_type": "stream",
     "text": [
      "ans =   -4.44089209850063e-16\n"
     ]
    }
   ],
   "source": [
    "2-(sqrt(2))^2"
   ]
  },
  {
   "cell_type": "markdown",
   "metadata": {},
   "source": [
    "El resultado debería ser cero, pero como el ordenador ha tenido que redondear $\\sqrt{2}$ ya que\n",
    "tiene infinitos decimales, arrastra este error y la diferencia resulta distinta de cero. Se observa\n",
    "que hay diferencia a partir del decimal número 16, puede parecer un error pequeño, pero si no\n",
    "se tiene en cuenta, puede ocurrir que:\n",
    "- si estamos comparando dos cantidades, la diferencia nunca puede ser cero y el programa fallará.\n",
    "- si estamos realizando un cálculo de ingeniería, se puede producir una propagación y acumulación de errores que dé lugar a un resultado final con un error inaceptable.\n",
    "\n",
    "Podemos averiguar cuál es la precisión relativa en punto flotante usando el comando `eps`"
   ]
  },
  {
   "cell_type": "code",
   "execution_count": 49,
   "metadata": {},
   "outputs": [
    {
     "name": "stdout",
     "output_type": "stream",
     "text": [
      "ans =    2.22044604925031e-16\n"
     ]
    }
   ],
   "source": [
    "eps"
   ]
  },
  {
   "cell_type": "code",
   "execution_count": 50,
   "metadata": {},
   "outputs": [
    {
     "name": "stdout",
     "output_type": "stream",
     "text": [
      "ans =  3.1416\n",
      "ans =    2.2204e-16\n",
      "ans =   1.7977e+308\n",
      "ans =   2.2251e-308\n"
     ]
    }
   ],
   "source": [
    "format\n",
    "pi\n",
    "eps\n",
    "realmax\n",
    "realmin"
   ]
  },
  {
   "cell_type": "markdown",
   "metadata": {},
   "source": [
    "Esto significa que si tenemos el valor 1 guardado, el siguiente valor que podemos almacenar es\n",
    "1+eps. Es debido a que en coma flotante y doble precisión se tienen 52 bits para la mantisa,\n",
    "siendo `eps`=$2^{-52}$"
   ]
  },
  {
   "cell_type": "markdown",
   "metadata": {
    "collapsed": true
   },
   "source": [
    "## 1.3 Tipos de datos elementales, operadores y comandos utilitarios ##\n",
    "#### Tipos de datos elementales ####\n",
    "\n",
    "M es fundamentalmente un lenguaje para cálculo matricial. Todos los datos que maneja son matrices, pudiendo también trabajar con vectores y escalares, pero considerando a éstos casos particulares de matrices: un vector fila es una matriz de una fila; un vector columna, es una matriz de una columna; un escalar es una matriz de una fila y una columna.\n",
    "\n",
    "El lenguaje M, en general, trabaja con datos numéricos, utilizando, por defecto, para su almacenamiento doble precisión (tipo de dato `double`), es decir, manejando 8 bytes de memoria para cada dato, con 15 cifras significativas en punto flotante. También puede trabajar con otros tipos de datos como enteros, reales de simple precisión, datos lógicos, cadenas de caracteres y con tipos de datos más avanzados: hipermatrices, estructuras, matrices de celdas y clases y objetos.\n",
    "\n",
    "Combinando el tipo de dato por defecto (`double`) junto con datos lógicos y de carácter podría realizarse casi cualquier programa, por ello, son los tipos de datos que manejaremos en este curso.\n",
    "\n",
    "#### Datos numéricos double ####\n",
    "\n",
    "Las variables reales en doble precisión (tipo `double`), son las variables por defecto\n",
    "que maneja el lenguaje M. Utilizan 8 bytes en memoria para almacenar el dato. No hay que\n",
    "hacer ninguna declaración, simplemente se usan. Los valores máximos y mínimos que se\n",
    "pueden almacenar son `1.7977e+308` y `2.2251e-308`. Sin embargo, la precisión de los\n",
    "cálculos no es superior a 15 cifras significativas.\n",
    "\n",
    "#### Datos de tipo lógico ####\n",
    "\n",
    "Es habitual al trabajar con cualquier lenguaje de programación que aparezcan datos de contenido lógico (true o false). Estos datos se manejan en lenguaje M con los valores 1 o true (cierto) y 0 o false (falso).\n",
    "\n",
    "Lo normal es que estos datos se generen automáticamente como resultado de ciertas operaciones.\n",
    "\n",
    "Si un valor no lógico se tiene que evaluar como lógico se hará la transformación de la siguiente manera:\n",
    "\n",
    "- Cualquier dato distinto de 0 equivale a cierto (1).\n",
    "- Cualquier dato igual a cero equivale a falso.\n",
    "\n",
    "#### Cadenas de caracteres ####\n",
    "\n",
    "Además de datos numéricos es necesario manejar texto. M puede definir variables que contengan cadenas de caracteres, para ello las cadenas de texto se deben delimitar entre apóstrofos o comillas simples. En el siguiente ejemplo se define la variable s que contiene un texto."
   ]
  },
  {
   "cell_type": "code",
   "execution_count": 51,
   "metadata": {},
   "outputs": [
    {
     "name": "stdout",
     "output_type": "stream",
     "text": [
      "a = Esto es una cadena\n"
     ]
    }
   ],
   "source": [
    "a='Esto es una cadena'"
   ]
  },
  {
   "cell_type": "markdown",
   "metadata": {},
   "source": [
    "M maneja la cadena como una matriz de una fila (vector fila) distinguiendo cada carácter como si fueran distintas componentes del vector. Así, en este caso tenemos un vector de 18\n",
    "componentes.\n",
    "\n",
    "Veamos un fragmento de programa en el que se puede observar la necesidad de entrecomillar un valor de carácter para diferenciarlo del nombre de una variable."
   ]
  },
  {
   "cell_type": "code",
   "execution_count": 52,
   "metadata": {},
   "outputs": [
    {
     "name": "stdout",
     "output_type": "stream",
     "text": [
      "w = a\n"
     ]
    }
   ],
   "source": [
    "a=7;\n",
    "v=a;\n",
    "w='a'"
   ]
  },
  {
   "cell_type": "markdown",
   "metadata": {},
   "source": [
    "Fíjense que la variable v contiene el valor 7 y la variable w el carácter 'a'.\n",
    "\n",
    "#### Otros Operadores ####\n",
    "\n",
    "###### Operadores relacionales y de igualdad ######\n",
    "\n",
    "Relacionan dos valores numéricos y dan como resultado un valor lógico (cierto (1) o falso (0)). Se muestran en la siguiente tabla:\n",
    "\n",
    "|     |    |\n",
    "|:---:|:---:|\n",
    "|Menor que|`<`|\n",
    "|Mayor que|`>`|\n",
    "|Menor o igual que|`<=`|\n",
    "|Mayor o igual que|`>=`|\n",
    "|Equivale a |`==`|\n",
    "|Distinto de|`~=`|\n",
    "\n",
    "Ejemplos de utilización de estos operadores:"
   ]
  },
  {
   "cell_type": "code",
   "execution_count": 53,
   "metadata": {},
   "outputs": [
    {
     "name": "stdout",
     "output_type": "stream",
     "text": [
      "ans = 1\n",
      "ans = 0\n",
      "ans = 1\n",
      "ans = 1\n",
      "ans = 1\n"
     ]
    }
   ],
   "source": [
    "u=3.5;\n",
    "v=7.3;\n",
    "w=7.3;\n",
    "u<v\n",
    "v>w\n",
    "v>=w\n",
    "u~=v\n",
    "v==w"
   ]
  },
  {
   "cell_type": "markdown",
   "metadata": {},
   "source": [
    "#### Operadores lógicos ####\n",
    "\n",
    "Se aplican a valores lógicos resultando otro valor lógico. Son los siguientes:\n",
    "\n",
    "##### Operador lógico OR:#####\n",
    "\n",
    "Se representa con el carácter `|`. Se utiliza entre dos valores lógicos\n",
    "dando como resultado cierto, si ambos o uno de ellos son ciertos. Sólo si los dos son\n",
    "falsos resulta falso. La función equivalente es `or(A,B)`.\n",
    "\n",
    "Ejemplo: Si la calificación de un examen se guarda en la variable `nota`, la expresión que resulta cierta si la nota es errónea es: `nota<0|nota>10`.\n",
    "\n",
    "##### Operador lógico AND: ######\n",
    "\n",
    "Se representa con el carácter &. Se utiliza entre dos valores\n",
    "lógicos dando como resultado cierto sólo si ambos son ciertos. Si uno o los dos son\n",
    "falsos el resultado es falso. La función equivalente es `and(A,B)`.\n",
    "\n",
    "Ejemplo: Si la calificación de un examen se guarda en la variable `nota`, la expresión\n",
    "que resulta cierta si la nota es igual a notable es: `nota<9&nota>=7`.\n",
    "\n",
    "##### Operador lógico OR EXCLUSIVO: #####\n",
    "\n",
    "Se utiliza con la sintaxis `xor(A,B)`, resultando cierto cuando A o B son ciertos, pero no ambos.\n",
    "\n",
    "Ejemplo: Supongamos que un alumno realiza dos pruebas cuyas calificaciones se guardan en las variables `nota1` y `nota2`, y se ofrece una recuperación a los alumnos que hayan suspendido sólo una de las dos, la expresión que resulta cierta en ese caso sería: `xor(nota1<5,nota2<5)`.\n",
    "\n",
    "##### Operador lógico NOT: #####\n",
    "\n",
    "Se representa con el carácter `~`. Actúa sobre el valor lógico situado a su derecha, resultando el valor lógico contrario a éste. La función equivalente es `not(A)`. Suele utilizarse para hacer referencia a una condición contraria a la que se esté estudiando.\n",
    "\n",
    "Ejemplo: Si la calificación de un examen se guarda en la variable `nota`, la expresión que resulta cierta si la nota es suspensa es: `~(nota>=5)`.\n",
    "\n",
    "##### Operadores lógicos BREVES (&&) y (||) : #####\n",
    "\n",
    "Son realmente el `AND` y el `OR` pero permiten simplificar la operación. Veamos las diferencias:\n",
    "\n",
    "`A&B`: estudia siempre las condiciones A y B.\n",
    "`A&&B`: estudia la condición A, si es cierta estudia la B, pero si es falsa ya no estudia la B, porque el resultado final se conoce que es falso.\n",
    "`A|B`: estudia siempre las condiciones A y B.\n",
    "`A||B`: estudia la condición A, si es falsa estudia la B, pero si es cierta ya no estudia la B, porque el resultado final se conoce que es cierto.\n",
    "\n",
    "Esto además de simplificar los cálculos se puede utilizar para evitar posibles errores. Por ejemplo, en la expresión:"
   ]
  },
  {
   "cell_type": "code",
   "execution_count": 54,
   "metadata": {},
   "outputs": [
    {
     "name": "stdout",
     "output_type": "stream",
     "text": [
      "c = 0\n"
     ]
    }
   ],
   "source": [
    "c= a~=0&&b/a>5,"
   ]
  },
  {
   "cell_type": "markdown",
   "metadata": {},
   "source": [
    "si el valor de la variable a es cero, ya no se desarrolla la segunda expresión y así se evita el error que supondría ésta (división entre cero)."
   ]
  },
  {
   "cell_type": "markdown",
   "metadata": {},
   "source": [
    "#### Prioridad de operadores ####\n",
    "En la tabla siguiente se muestra el orden de prioridad todos los operadores conocidos hasta el momento. Se han ordenado de mayor a menor prioridad (de arriba hacia abajo).\n",
    "\n",
    "|**Operador**|**Símbolos**|**A igualdad prioridad se sigue el orden de**|\n",
    "|:----------:|:----------:|:-------------------------------------------:|\n",
    "|Paréntesis, or exclusivo| | |\n",
    "|No lógico| |Derecha a izquierda|\n",
    "|Potencia||Izquierda a derecha|\n",
    "|Multiplicación, división||Izquierda a derecha|\n",
    "|Suma y resta, y cambio de signo (-)||Izquierda a derecha|\n",
    "|Operador :||Izquierda a derecha|\n",
    "|Relacionales||Izquierda a derecha|\n",
    "|Igualdad||Izquierda a derecha|\n",
    "|Y lógico||Izquierda a derecha|\n",
    "|O lógico||Izquierda a derecha|\n",
    "|Asignación||Derecha a izquierda|\n",
    "\n",
    "#### Comandos utilitarios en el manejo del lenguaje M ####\n",
    "\n",
    "##### Almacenamiento del texto de la ventana workspace #####\n",
    "\n",
    "Si se desea almacenar en un fichero de texto las entradas que se van a teclear en la ventana de comandos y las salidas ofrecidas por el programa, lo más sencillo es utilizar el comando `diary`.\n",
    "\n",
    "Tecleando\n",
    "\n",
    "</p>\n",
    "<p align=\"center\">\n",
    "  <b>`diary nombrefichero`</b>\n",
    "  <br>\n",
    "</p>\n",
    "\n",
    "se crea el fichero con el nombre indicado en la ubicación actual almacenándose en él el\n",
    "contenido que se inserte en la ventana *workspace* a partir de ese momento. Si no se indicara\n",
    "nombre de fichero, se crearía el archivo de nombre diary para tal fin. Si en un momento de la\n",
    "sesión se quiere desactivar la grabación en el fichero, se escribirá\n",
    "\n",
    "</p>\n",
    "<p align=\"center\">\n",
    "  <b>`diary off`</b>\n",
    "  <br>\n",
    "</p>\n",
    "\n",
    "cuando quiera reanudarse la grabación, se tecleará\n",
    "\n",
    "</p>\n",
    "<p align=\"center\">\n",
    "  <b>`diary on`</b>\n",
    "  <br>\n",
    "</p>\n",
    "\n",
    "También se puede pasar del estado *on* al *off*, o viceversa, escribiendo simplemente `diary`.\n",
    "\n",
    "#### Almacenamiento de variables en ficheros binarios ####\n",
    "\n",
    "Cuando se finalice una sesión de trabajo, para evitar perder los datos obtenidos (variables) se pueden guardar éstos (con sus valores) dentro de un fichero binario, que puede ser cargado en otro momento para continuar con el trabajo anterior. Esta operación se puede realizar utilizando el comando `save`. A continuación se ejemplifican diferentes opciones de utilización.\n",
    "\n",
    "Si se quieren guardar todas las variables del espacio de trabajo en el fichero de nombre *guardavariables*, se utilizaría:\n",
    "\n",
    "</p>\n",
    "<p align=\"center\">\n",
    "  <b>`save guardavariables`</b>\n",
    "  <br>\n",
    "</p>\n",
    "\n",
    "Si sólo interesa guardar algunas variables, por ejemplo, las variables de identificadores $w$ y $z$, se procede así:\n",
    "\n",
    "</p>\n",
    "<p align=\"center\">\n",
    "  <b>`save guardavariables w z`</b>\n",
    "  <br>\n",
    "</p>\n",
    "\n",
    "Para cargar de nuevo las variables guardadas en un fichero binario se utiliza el comando `load` de la forma siguiente:\n",
    "\n",
    "</p>\n",
    "<p align=\"center\">\n",
    "  <b>`load guardavariables`</b>\n",
    "  <br>\n",
    "</p>\n",
    "\n",
    "#### Otros comandos útiles ####\n",
    "\n",
    "##### Comentarios en el código #####\n",
    "\n",
    "Los comentarios en el código fuente de un programa se añaden para hacer el código más entendible al programador de cara a futuras utilizaciones o a compartir el código con terceros. Se trata de texto que se incrusta en el código pero que es ignorado por el compilador o intérprete.\n",
    "\n",
    "En lenguaje M, para insertar un comentario debemos preceder éste por el símbolo %. En el siguiente ejemplo, la primera línea es un comentario, también aparece un comentario después de la instrucción de la tercera línea."
   ]
  },
  {
   "cell_type": "code",
   "execution_count": 55,
   "metadata": {
    "collapsed": true
   },
   "outputs": [],
   "source": [
    "% radio y altura del cilindro\n",
    "r=7.3;h=25.4;\n",
    "a=pi*r^2*h; %volumen del cilindro"
   ]
  },
  {
   "cell_type": "markdown",
   "metadata": {},
   "source": [
    "##### Continuación de una sentencia en otra línea #####\n",
    "\n",
    "En ocasiones la escritura de una sentencia queda demasiado larga y conviene continuarla en la línea posterior. Para ello se debe terminar la línea que continuará en la siguiente con tres puntos. Veamos un ejemplo:"
   ]
  },
  {
   "cell_type": "code",
   "execution_count": 56,
   "metadata": {},
   "outputs": [
    {
     "name": "stdout",
     "output_type": "stream",
     "text": [
      "x =  181.57\n"
     ]
    }
   ],
   "source": [
    "b=7;c=6;\n",
    "x=b+c^3-c*b...\n",
    "+4/b"
   ]
  },
  {
   "cell_type": "markdown",
   "metadata": {},
   "source": [
    "Sin embargo no se permite realizar este proceso en una cadena de caracteres. El siguiente ejemplo produciría un error:"
   ]
  },
  {
   "cell_type": "code",
   "execution_count": 57,
   "metadata": {
    "collapsed": true
   },
   "outputs": [],
   "source": [
    "%x='No es posible continuar un texto...\n",
    "%en la siguiente línea'"
   ]
  },
  {
   "cell_type": "markdown",
   "metadata": {},
   "source": [
    "##### Eliminación de variables del espacio de trabajo #####\n",
    "\n",
    "Si se desea eliminar todas las variables del espacio de trabajo, se utiliza el comando `clear`. Para eliminar únicamente algunas variable se emplea el mismo comando seguido de los nombres de las variables a eliminar. Por ejemplo la siguiente instrucción borra las variables $a$, $b$ y $c$.\n",
    "\n",
    "</p>\n",
    "<p align=\"center\">\n",
    "  <b>`clear a b c`</b>\n",
    "  <br>\n",
    "</p>\n",
    "\n",
    "#### Limpieza de texto de la ventana de comandos ####\n",
    "\n",
    "Para eliminar todo el texto escrito en la ventana de comandos se utiliza el comando `clc`. La ejecución de esta orden no afecta a las variables de la sesión de trabajo (la ventana workspace sigue manteniendo las variables).\n",
    "\n",
    "#### Directorio de trabajo ####\n",
    "\n",
    "Para conocer la ruta al directorio de trabajo actual se utiliza el comando `pwd`.\n",
    "\n",
    "Para obtener un listado de los ficheros que existen en la carpeta actual, se utiliza el comando `dir`.\n",
    "\n",
    "Para cambiar de carpeta de trabajo se utiliza el comando:\n",
    "\n",
    "</p>\n",
    "<p align=\"center\">\n",
    "  <b>`cd nombrenuevacarpeta.`</b>\n",
    "  <br>\n",
    "</p>\n",
    "\n",
    "#### Utilización de la ayuda ####\n",
    "\n",
    "Para obtener ayuda sobre la utilización de un comando o función determinada se utiliza la sentencia:\n",
    "\n",
    "</p>\n",
    "<p align=\"center\">\n",
    "  <b>`help nombredelcomando`</b>\n",
    "  <br>\n",
    "</p>\n",
    "\n",
    "Para buscar un texto que esté contenido en la primera línea de comentario de los programas se utiliza el comando `lookfor` de la forma:\n",
    "\n",
    "</p>\n",
    "<p align=\"center\">\n",
    "  <b>`lookfor 'texto a buscar'`</b>\n",
    "  <br>\n",
    "</p>\n",
    "\n",
    "#### Tiempo que tarda un cálculo en ser efectuado #####\n",
    "\n",
    "Cuando se implementa un algoritmo en un lenguaje de programación es habitual que se pueda obtener la solución esperada mediante diferentes códigos fuente. Una forma de comparar los códigos y elegir cuál resulta más conveniente es calcular el tiempo de ejecución. El lenguaje M cuenta con las funciones tic y toc que trabajan juntas y calculan el tiempo transcurrido entre la ejecución de la primera y la segunda.\n",
    "\n",
    "`tic`: activa un contador temporal en segundos que finaliza al utilizar el comando `toc`.\n",
    "`toc`: devuelve el tiempo transcurrido en segundos desde que se activó el contador con `tic`.\n",
    "\n",
    "Veamos unos ejemplos que muestran dos formas de utilización. En ambas se almacena el tiempo de ejecución en la variable `tiempo`:"
   ]
  },
  {
   "cell_type": "code",
   "execution_count": 58,
   "metadata": {},
   "outputs": [
    {
     "name": "stdout",
     "output_type": "stream",
     "text": [
      "tiempo =  0.015253\n"
     ]
    }
   ],
   "source": [
    "tic\n",
    "suma=0;\n",
    "for i=1:1000\n",
    "suma=suma+i;\n",
    "end\n",
    "tiempo=toc"
   ]
  },
  {
   "cell_type": "code",
   "execution_count": 59,
   "metadata": {},
   "outputs": [
    {
     "name": "stdout",
     "output_type": "stream",
     "text": [
      "inicio = 1516468729756695\n",
      "tiempo =  0.016486\n"
     ]
    }
   ],
   "source": [
    "clc, clear all;\n",
    "inicio=tic\n",
    "suma=0;\n",
    "for i=1:1000\n",
    "suma=suma+i;\n",
    "end\n",
    "tiempo=toc(inicio)"
   ]
  },
  {
   "cell_type": "markdown",
   "metadata": {
    "collapsed": true
   },
   "source": [
    "## 1.4 Ficheros m. Entrada y salida de datos por consola. ##\n",
    "\n",
    "#### Ficheros m ####\n",
    "\n",
    "Hasta el momento todas las órdenes del lenguaje M las hemos ejecutado desde la ventana de comandos. De esta manera obtenemos una respuesta inmediata a la instrucción. Sin embargo si queremos realizar un proceso formado por una secuencia de instrucciones M que vamos tecleando una a una en la ventana de comandos:\n",
    "\n",
    "- ¿qué ocurre si cometemos una imprecisión en una instrucción a lo largo del proceso? Habría que volver a realizarlo de nuevo, orden a orden, escribiendo esta vez sin cometer errores.\n",
    "\n",
    "- ¿qué ocurre si se quiere volver a repetir este proceso en el futuro? Habría que volver a realizarlo de nuevo, ya que las instrucciones de la ventana de comandos no se pueden guardar como tal.\n",
    "\n",
    "Estamos de acuerdo que esta forma de actuar no es eficiente. Para resolver estos problemas existen los ficheros M. Estos ficheros no son más que archivos de texto en los que se escriben las instrucciones, en lugar de en la ventana de comandos, que quedan guardados de forma permanente, y después pueden ser ejecutados por MATLAB u Octave. Los programas en M se escriben en ficheros de extensión .m (ficheros M) con un editor especial situado dentro del entorno de MATLAB u Octave, aunque es válido cualquier editor de texto no formateado, almacenándose en disco con un nombre cualquiera, por ejemplo, programa.m.\n",
    "\n",
    "Para ejecutar el programa desde la ventana de comandos simplemente se debe teclear el nombre del fichero M que contiene el programa (sin la extensión). En el caso anterior sería:\n",
    "\n",
    ">> programa"
   ]
  },
  {
   "cell_type": "markdown",
   "metadata": {
    "collapsed": true
   },
   "source": [
    "Entonces, se van ejecutando de manera secuencial todas las órdenes escritas en el fichero M, obteniendo los resultados en la ventana de comandos.\n",
    "\n",
    "A modo de ejemplo, el alumno puede probar a teclear una a una las siguientes instrucciones en la ventana de comandos:"
   ]
  },
  {
   "cell_type": "code",
   "execution_count": 60,
   "metadata": {},
   "outputs": [
    {
     "name": "stdout",
     "output_type": "stream",
     "text": [
      "A =  3\n",
      "c =  27\n",
      "B =  30\n"
     ]
    }
   ],
   "source": [
    "# Guardar script como ejemplo1.m\n",
    "A=3\n",
    "c=A^3\n",
    "B=A+c"
   ]
  },
  {
   "cell_type": "markdown",
   "metadata": {},
   "source": [
    "y guardémoslo como ejemplo1.m\n",
    "\n",
    "Se ejecuta desde la ventana de comandos:\n",
    "\n",
    ">>A=3\n",
    ">>c=A^3\n",
    ">>B=A+c\n",
    "\n",
    "Imaginemos ahora que la variable A se ha tecleado incorrectamente, ya que queríamos escribir\n",
    "\n",
    ">> A=13\n",
    "\n",
    "¿Cómo se resolvería esto desde la ventana de comandos? Evidentemente habría que volver a teclear las tres órdenes.\n",
    "\n",
    "Probemos ahora a generar un archivo .m. secuencia:\n",
    "\n",
    "O desde MATLAB 2016:\n",
    "\n",
    "Escribamos las tres instrucciones en él:\n",
    "\n",
    "y guardémoslo como ejemplo1.m\n",
    "Se ejecuta desde la ventana de comandos:\n",
    "\n",
    ">> ejemplo1\n",
    "\n",
    "obteniéndose el resultado.\n",
    "\n",
    "En este caso la corrección del error en la variable A se resolvería corrigiendo el valor correspondiente en el fichero y volviendo a ejecutar éste. Además queda grabado en disco, luego puede ejecutarse en cualquier otro momento.\n",
    "\n",
    "Podemos decir que hemos realizado nuestro primer programa M.\n",
    "\n",
    "A partir de este momento se trabajará con programas, es decir escribiendo las instrucciones en ficheros M. Poco a poco se irá enriqueciendo el contenido de estos programas.\n",
    "\n",
    "El objetivo del resto de este tema es conseguir que nuestros programas puedan tomar, en tiempo de ejecución, valores que introduce el usuario por teclado (entrada de datos) y ofrecer respuestas a través de la ventana de comandos.\n",
    "\n",
    "#### Entrada de datos por teclado ####\n",
    "\n",
    "La función `input` permite introducir datos en un programa cuando está en modo de ejecución. La utilización es como sigue:\n",
    "\n",
    "</p>\n",
    "<p align=\"center\">\n",
    "  <b>`v=input('Texto de petición del dato')`</b>\n",
    "  <br>\n",
    "</p>\n",
    "\n",
    "`input` realiza dos tareas:\n",
    "\n",
    "    1) hace que aparezca en pantalla la cadena de caracteres que lleva como argumento.\n",
    "\n",
    "    2) espera a que se tecleen los datos como respuesta al texto y los memoriza en la variable v.\n",
    "    \n",
    "`input` no permite disponer varias variables a la izquierda de la asignación, luego todos los datos que se introduzcan deben constituir una única variable con sintaxis matricial. Ejemplo:"
   ]
  },
  {
   "cell_type": "code",
   "execution_count": 61,
   "metadata": {},
   "outputs": [
    {
     "name": "stdout",
     "output_type": "stream",
     "text": [
      "Introduce el radio del círculo:5\n",
      "P =  5\n"
     ]
    }
   ],
   "source": [
    "P=input('Introduce el radio del círculo: ')"
   ]
  },
  {
   "cell_type": "markdown",
   "metadata": {},
   "source": [
    "Si como respuesta a `input` se quiere introducir una cadena de caracteres, el usuario del\n",
    "programa debe introducirla entre apóstrofos. El olvido de éstos provoca el fallo del programa."
   ]
  },
  {
   "cell_type": "code",
   "execution_count": 62,
   "metadata": {},
   "outputs": [
    {
     "name": "stdout",
     "output_type": "stream",
     "text": [
      "Introduce tu nombre y apellidos:José Ruiz\n",
      "parse error:\n",
      "\n",
      "  syntax error\n",
      "\n",
      ">>> José Ruiz\n",
      "       ^\n",
      "\n",
      "error: called from\n",
      "    input at line 43 column 9\n"
     ]
    }
   ],
   "source": [
    "Nombre=input('Introduce tu nombre y apellidos: ')"
   ]
  },
  {
   "cell_type": "markdown",
   "metadata": {},
   "source": [
    "Para prevenirlo, se usa la función `input` con un segundo argumento '`s`' que hace que el dato introducido se tome como una cadena de caracteres sin necesidad de delimitarlo por los apóstrofos."
   ]
  },
  {
   "cell_type": "code",
   "execution_count": 63,
   "metadata": {},
   "outputs": [
    {
     "name": "stdout",
     "output_type": "stream",
     "text": [
      "Introduce tu nombre y apellidos:José Ruiz\n",
      "Nombre = José Ruiz\n"
     ]
    }
   ],
   "source": [
    "Nombre=input('Introduce tu nombre y apellidos: ','s')\n",
    "%La variable Nombre contiene una cadena de caracteres"
   ]
  },
  {
   "cell_type": "markdown",
   "metadata": {},
   "source": [
    "A veces un programa puede fallar porque el usuario no responda a la petición del dato y pulse simplemente la tecla *enter*. Para detectarlo puede ser de utilidad la función isempty que\n",
    "devuelve cierto si la variable que tiene como argumento está vacía. Véase el ejemplo en el módulo 3 -comandos repetitivos-.\n",
    "\n",
    "#### Salida de datos por pantalla ####\n",
    "\n",
    "Para que un programa en modo de ejecución pueda escribir textos por pantalla, se puede utilizar la función:\n",
    "\n",
    "</p>\n",
    "<p align=\"center\">\n",
    "  <b>`disp('Mensaje')`</b>\n",
    "  <br>\n",
    "</p>\n",
    "\n",
    "que escribe en pantalla la cadena de caracteres que tiene como argumento.\n",
    "\n",
    "Para escribir el valor de una variable, se utiliza de esta forma:\n",
    "\n",
    "</p>\n",
    "<p align=\"center\">\n",
    "  <b>`disp(v)`</b>\n",
    "  <br>\n",
    "</p>\n",
    "\n",
    "que muestra en pantalla el valor de la variable v.\n",
    "\n",
    "Ejemplos:"
   ]
  },
  {
   "cell_type": "code",
   "execution_count": 64,
   "metadata": {},
   "outputs": [
    {
     "name": "stdout",
     "output_type": "stream",
     "text": [
      " 2\n",
      "Escritura en pantalla\n"
     ]
    }
   ],
   "source": [
    "z=2;\n",
    "disp(z)\n",
    "disp('Escritura en pantalla')"
   ]
  },
  {
   "cell_type": "markdown",
   "metadata": {},
   "source": [
    "Con la función `disp` sólo se puede escribir una cadena de caracteres o una matriz (vector o escalar). Además el lenguaje M lo escribirá con formato libre, es decir, el usuario no puede seleccionar otro formato, ni realizar la escritura de una combinación de texto y datos. Para poder realizar estas acciones, se dispone de la función `fprintf`.\n",
    "\n",
    "Para la escritura solo de texto se utiliza de igual manera que `disp`, aunque en este caso se debe terminar el texto con un salto de línea `\\n`:\n",
    "\n",
    "</p>\n",
    "<p align=\"center\">\n",
    "  <b>`fprintf('texto\\n')`</b>\n",
    "  <br>\n",
    "</p>\n",
    "\n",
    "Para escritura de texto y datos en pantalla, o sólo datos, se utiliza la función con la siguiente sintaxis\n",
    "\n",
    "</p>\n",
    "<p align=\"center\">\n",
    "  <b>`fprintf('formato\\n', variables)`</b>\n",
    "  <br>\n",
    "</p>\n",
    "\n",
    "donde:\n",
    "\n",
    "`variables` será la lista de variables a escribir\n",
    "\n",
    "`formato` será la especificación del formato de escritura de las variables así como el texto que se quiera intercalar entre ellas. Además, también se podrán insertar los siguientes caracteres de control, entre otros:\n",
    "\n",
    "`\\n`: salto de línea\n",
    "\n",
    "`\\r`: retorno de carro al comienzo de la línea\n",
    "\n",
    "`\\t`: tabulación horizontal\n",
    "\n",
    "`\\b`: espacio hacia atrás\n",
    "\n",
    "Los formatos más utilizados para escribir variables son:\n",
    "\n",
    "`%d` : adecuado para datos enteros, lógicos y para reales con decimales igual a cero. Escribe el dato como un entero. Si el dato a escribir es un real con su parte decimal no nula, no se trunca el número, se escribe con sus decimales y en formato de punto flotante.\n",
    "\n",
    "`%f` : escribe cualquier dato numérico como un real con 6 decimales\n",
    "\n",
    "`%s` : escribe cadenas de caracteres como tal. Si se emplean los formatos anteriores para escribir una cadena se imprimen todos los códigos ASCII de los caracteres que la forman.\n",
    "\n",
    "Para clarificar lo explicado se ofrecen a continuación variados ejemplos:"
   ]
  },
  {
   "cell_type": "code",
   "execution_count": 65,
   "metadata": {},
   "outputs": [
    {
     "name": "stdout",
     "output_type": "stream",
     "text": [
      "El dato es 2\n",
      "2.000000\n",
      "3.2\n"
     ]
    }
   ],
   "source": [
    "a=2;\n",
    "fprintf('El dato es %d\\n',a)\n",
    "fprintf('%f\\n',a);\n",
    "b=3.2;\n",
    "fprintf('%d\\n',b);"
   ]
  },
  {
   "cell_type": "markdown",
   "metadata": {},
   "source": [
    "En el último ejemplo, el dato no es escrito como un entero ya que para ello, se debería truncar su valor. Es escrito en formato de punto flotante. Veamos otros ejemplos:"
   ]
  },
  {
   "cell_type": "code",
   "execution_count": 66,
   "metadata": {},
   "outputs": [
    {
     "name": "stdout",
     "output_type": "stream",
     "text": [
      "los resultados son 2 y 3.200000\n",
      "Dato 1: 2\n",
      "Dato 2: 3.200000\n",
      "Error en el programa\n"
     ]
    }
   ],
   "source": [
    "fprintf('los resultados son %d y %f\\n',a,b);\n",
    "fprintf('Dato 1: %d\\nDato 2: %f\\n',a,b);\n",
    "fprintf('%s\\n','Error en el programa');"
   ]
  },
  {
   "cell_type": "markdown",
   "metadata": {},
   "source": [
    "Cuando no se especifiquen formatos suficientes para la escritura de todos los datos, el formato se reutiliza desde el principio las veces necesarias. Por ejemplo, a continuación se pretende escribir en pantalla el valor de tres variables, sin embargo solo aparecen dos formatos; obsérvese cómo se reutiliza el formato desde el principio hasta justo antes del que no se necesita, para poder escribir el tercer dato."
   ]
  },
  {
   "cell_type": "code",
   "execution_count": 68,
   "metadata": {},
   "outputs": [
    {
     "name": "stdout",
     "output_type": "stream",
     "text": [
      "Los resultados son 3 y 2 \n",
      "Los resultados son 7.3 y \n",
      "Los resultados son 7.3 y \n"
     ]
    }
   ],
   "source": [
    "a=3; b=2; c=7.3;\n",
    "fprintf('Los resultados son %d y %d \\n', a, b, c);"
   ]
  },
  {
   "cell_type": "markdown",
   "metadata": {},
   "source": [
    "#### Modificadores de formato en escritura de datos ####\n",
    "\n",
    "Cuando se escriben datos en pantalla con la función `fprintf`, se puede modificar el aspecto por defecto con el que se muestran mediante el uso de modificadores de formato. Su utilización se indica a continuación:\n",
    "\n",
    "- Para datos escritos con formato %f, se puede incluir la siguiente información adicional en el formato:\n",
    "\n",
    "</p>\n",
    "<p align=\"center\">\n",
    "  <b>`%-n.mf`</b>\n",
    "  <br>\n",
    "</p>\n",
    "\n",
    "siendo:\n",
    "`n`, el número mínimo de espacios utilizados en la escritura (anchura mínima de campo).\n",
    "\n",
    "`m`, el número de decimales con los que se escribirá el dato. signo: si se incluye el signo negativo se obliga a la justificación izquierda en el campo; si no se escribe, la justificación es a la derecha.\n",
    "\n",
    "Veamos unos ejemplos de utilización en los que, para clarificar el formato impreso."
   ]
  },
  {
   "cell_type": "code",
   "execution_count": 69,
   "metadata": {},
   "outputs": [
    {
     "name": "stdout",
     "output_type": "stream",
     "text": [
      " 56.450 es el valor calculado\n",
      "      56.5 es el valor calculado\n",
      "56.5       es el valor calculado\n"
     ]
    }
   ],
   "source": [
    "x=56.45;\n",
    "fprintf('%7.3f es el valor calculado\\n',x)\n",
    "fprintf('%10.1f es el valor calculado\\n',x)\n",
    "fprintf('%-10.1f es el valor calculado\\n',x)"
   ]
  },
  {
   "cell_type": "markdown",
   "metadata": {},
   "source": [
    "- Para datos escritos con formato %d, también se puede añadir la misma información adicional en el formato:\n",
    "\n",
    "</p>\n",
    "<p align=\"center\">\n",
    "  <b>`% -n.m f`</b>\n",
    "  <br>\n",
    "</p>\n",
    "\n",
    "pero en este caso, m no puede indicar el número de decimales sino que fija el número mínimo de dígitos a escribir. Ejemplos:"
   ]
  },
  {
   "cell_type": "code",
   "execution_count": 70,
   "metadata": {},
   "outputs": [
    {
     "name": "stdout",
     "output_type": "stream",
     "text": [
      "00005      es el valor calculado\n",
      "   236 es el valor calculado\n",
      "solucion =    236 es el valor calculado\n"
     ]
    }
   ],
   "source": [
    "y=5;\n",
    "fprintf('%-10.5d es el valor calculado\\n',y);\n",
    "y=236;\n",
    "fprintf('%6.2d es el valor calculado\\n',y);\n",
    "y=236;\n",
    "solucion=sprintf('%6.2d es el valor calculado',y)"
   ]
  },
  {
   "cell_type": "markdown",
   "metadata": {},
   "source": [
    "- Para datos escritos con %s\n",
    "\n",
    "Utilizaremos la anchura de campo y el signo de manera similar a los casos anteriores."
   ]
  },
  {
   "cell_type": "code",
   "execution_count": 71,
   "metadata": {},
   "outputs": [
    {
     "name": "stdout",
     "output_type": "stream",
     "text": [
      "   Hola\n",
      "  Mundo\n"
     ]
    }
   ],
   "source": [
    "fprintf('%7s\\n','Hola','Mundo')"
   ]
  },
  {
   "cell_type": "markdown",
   "metadata": {},
   "source": [
    "## 1.5 Practicando con programas(I). Ejercicios de autoevaluación ##\n",
    "\n",
    "En esta lección se pretende que el alumno simplemente practique realizando los ejercicios que se proponen a continuación. Después de los enunciados de los ejercicios se encuentran las soluciones para que en caso de dificultad, en estos primeros acercamientos a la programación, se puedan analizar los programas bien planteados.\n",
    "\n",
    "- Ejercicio 1.5.1 Escribir un programa M que pida al usuario el radio de un círculo y escriba en pantalla el área del mismo, que se mostrará con tres decimales, de la forma:\n",
    "\n",
    "``\n",
    "El área es xx.xxx\n",
    "``"
   ]
  },
  {
   "cell_type": "code",
   "execution_count": 10,
   "metadata": {},
   "outputs": [
    {
     "name": "stdout",
     "output_type": "stream",
     "text": [
      "Ingrese el radio del circulo (en metros):5\n",
      "El area de la region circular es 78.540 metros cuadrados.\n"
     ]
    }
   ],
   "source": [
    "clear all, clc;\n",
    "r = input('Ingrese el radio de la región circular (en metros): ');\n",
    "fprintf('El área de la región circular es %2.3f metros cuadrados.\\n', pi * r * r);"
   ]
  },
  {
   "cell_type": "markdown",
   "metadata": {},
   "source": [
    "- Ejercicio 1.5.2 Escribir un programa M que calcule el área de un trapecio. Los datos de entrada serán: lado superior, base y altura. El programa debe leer los datos por teclado y producir como salida a pantalla (con dos cifras decimales):\n",
    "\n",
    "``\n",
    "El área del trapecio es xxxxxxxxxx.xx\n",
    "``"
   ]
  },
  {
   "cell_type": "code",
   "execution_count": 13,
   "metadata": {},
   "outputs": [
    {
     "name": "stdout",
     "output_type": "stream",
     "text": [
      "Ingrese la longitud de la base del trapecio (en metros):10\n",
      "Ingrese la longitud de la altura del trapecio (en metros):5\n",
      "Ingrese la longitud del lado superior del trapecio (en metros):4\n",
      "El area de la region trapezoidal es 35.00 metros cuadrados.\n"
     ]
    }
   ],
   "source": [
    "clear all, clc;\n",
    "base = input('Ingrese la longitud de la base del trapecio (en metros): ');\n",
    "height = input('Ingrese la longitud de la altura del trapecio (en metros): ');\n",
    "side = input('Ingrese la longitud del lado superior del trapecio (en metros): ');\n",
    "fprintf('El área de la región trapezoidal es %.2f metros cuadrados.\\n', 0.5*height*(base + side));"
   ]
  },
  {
   "cell_type": "markdown",
   "metadata": {},
   "source": [
    "- Ejercicio 1.5.3 Escribir un programa M que pida al usuario su edad, almacenándola en la variable edad, el año actual, almacenándolo en la variable fecha_act y su nombre, almacenándolo en la variable de cadena nombre. Y que para un ejemplo de datos introducidos\n",
    "\n",
    "    Por ejemplo: edad = 27,  fecha_act = 2016, nombre = Pedro."
   ]
  },
  {
   "cell_type": "code",
   "execution_count": null,
   "metadata": {
    "collapsed": true
   },
   "outputs": [],
   "source": [
    "clear all, clc;\n",
    "edad = input('Por favor, ingrese su edad. (Por ejemplo: 15): ');\n",
    "fecha_act= input('Ingrese el año actual: ')\n",
    "nombre = input('Ingrese su nombre: ', 's');\n",
    "fprintf('%s, naciste en  %d.\\n', nombre, fecha_act);"
   ]
  },
  {
   "cell_type": "markdown",
   "metadata": {},
   "source": [
    "### Actividad de evaluación obligatoria del Módulo 1 ###\n",
    "\n",
    "#### Actividad obligatoria. El alumno dispone de dos intentos. ####\n",
    "\n",
    "Para superar este test, has de responder correctamente al menos el 50% de las preguntas.\n",
    "\n",
    "De los nombres de variables que aparecen a continuación, solo uno de ellos es un nombre correcto de variable en MATLAB-Octave, indica cuál es:\n",
    "\n",
    "    [] 3x\n",
    "    [] año\n",
    "    [] _año_2\n",
    "    [x] coordenada_1\n",
    "\n",
    "Si tecleamos en la ventana de comandos de Matlab u Octave la expresión 2+3^2, ¿Qué resultado obtendremos?\n",
    "\n",
    "    [] 25\n",
    "    [] Error, expresión no válida\n",
    "    [x] 11\n",
    "\n",
    "Si tecleamos en la ventana de comandos de Matlab u Octave la expresión 4/2^2, ¿qué resultado obtendremos?\n",
    "\n",
    "\n",
    "    [x] 1\n",
    "    [] 4\n",
    "    [] Error, expresión incorrecta\n",
    "    \n",
    "Si tecleamos en la ventana de comandos de Matlab u Octave la expresión (2+2)^2/4, ¿qué resultado obtedremos?\n",
    "\n",
    "    [] 2\n",
    "    [] 4\n",
    "\n",
    "Tecleamos en la ventana de comandos la asignación de valor a las variables A y B de la siguiente manera:\n",
    "\n",
    "A = 0;\n",
    "B = 1;\n",
    "\n",
    "Se van a hacer algunas operaciones relacionales o lógicas con dichas variables. ¿Cuáles devolverán un resultado true (1)?\n",
    "\n",
    "    [x] A < B\n",
    "    [x] A <= B\n",
    "    [] A <B & B<A\n",
    "    [x] A<B | B<A\n",
    "    [] A == B\n",
    "\n",
    "En las siguientes expresiones, se supone que tecleamos en la ventana de comandos las operaciones indicadas a la izquierda de la flecha. Se trata de decir en qué casos el resultado indicado a la derecha de la flecha sería el resultado que nos devolverían MATLAB u Octave. \n",
    "\n",
    "    [] 8/2+2 -> 2\n",
    "    [x] 8 / (2+2) -> 2\n",
    "    [] 8*2+2 -> 32\n",
    "    [x] 2 < 7 < 5 -> 1\n",
    "\n",
    "Tecleamos las siguientes sentencias en la ventana de comandos de MATLAB u Octave:\n",
    "\n",
    "A = 5;\n",
    "% A = 3\n",
    "\n",
    "¿Cuál será el resultado final de la variable A?\n",
    "\n",
    "    [x] 5\n",
    "    [] 3\n",
    "\n",
    "Si tecleamos en la ventana de comandos de MATLAB u Octave las siguientes instrucciones, ¿cuál será el valor final de la variable A?\n",
    "\n",
    "A = 5;\n",
    "'A = 3';\n",
    "\n",
    "    [x] 5\n",
    "    [] 3\n",
    "    \n",
    "Si tecleamos en la ventana de comandos de MATLAB u Octave la siguiente sentencia, entrecomillada, ¿qué resultado obtendremos?\n",
    "\n",
    "'A=3+2'\n",
    "\n",
    "    [] ans=5\n",
    "    [] ans=A\n",
    "    [] ans=3+2\n",
    "    [x] ans= A=3+2\n",
    "\n",
    "Si tecleamos en la ventana de comandos de MATLAB u Octave la siguiente expresión, ¿cuál será el valor final de la variable A?\n",
    "\n",
    "A = -1 ^ 2\n",
    "\n",
    "    [x] -1\n",
    "    [] 1\n",
    "    \n",
    "Se quiere escribir el valor del número PI en pantalla, con 10 decimales. Indicar cuál de las siguientes sentencias es la correcta:\n",
    "\n",
    "    [x] fprintf('%.10f \\n', pi)\n",
    "    [] fprintf('%f \\n', 3.14)\n",
    "    [] fprintf('%10.0f', pi')\n",
    "    [] disp(pi)\n",
    "    [] print('%f10 \\n',pi)\n",
    "    \n",
    "Se quiere escribir en pantalla el valor de tres variables numéricas, x,y,z, en tres líneas diferentes. Indique cuál es la sentencia correcta:\n",
    "\n",
    "    [x] fprintf('%f \\n %f \\n %f \\n', x,y,z)\n",
    "    [] fprintf('%n %n %n ', x,y,z)\n",
    "    [] fprintf('%3f', x,y,z)\n",
    "    [] fprintf('%s3 \\n',x,y,z)\n",
    "    \n",
    "Se quiere pedir al usuario que teclee su nombre para almacenarlo en la variable `name`. ¿Cuál le parece la manera más correcta de hacerlo?\n",
    "\n",
    "    [x] name = input('Nombre: ', 's')\n",
    "    [] name = input('Teclee su nombre: ', '%s')\n",
    "    [] name = input('Teclee su nombre : %s')\n",
    "    \n",
    "La variable A contiene una matriz cuadrada de tres filas y tres columnas de números. Si tecleamos la sentencia siguiente:\n",
    "\n",
    "`fprintf('%f', A)`\n",
    "\n",
    "¿Qué resultado obtendremos en pantalla?\n",
    "\n",
    "    [x] Los valores de la matriz A, leídos por columnas y puestos en una fila\n",
    "    [] Los valores de la matriz A, leídos por filas y  puestos en una fila\n",
    "    [] Los valores de la matriz A, leídos por columnas y puestos en una columna\n",
    "    [] Los valores de la matriz A ordenados en tres filas y tres columnas\n",
    "    \n",
    "Se tiene una matriz A cuadrada de tres filas y tres columnas. Si se teclea la siguiente instrucción, ¿qué resultado se obtendrá en pantalla?\n",
    "\n",
    "`fprintf('%f \\n', A)`\n",
    "\n",
    "    [x] Los valores de la matriz A, leídos por columnas y puestos en una única columna\n",
    "    [] Los valores de la matriz A, leídos por filas, y puestos en una columna, un número en cada línea de pantalla\n",
    "    [] Los valores de la matriz A, leídos por columnas, tres números en cada línea de pantalla\n",
    "    \n",
    "La variable A almacena una matriz cuadrada de tres filas y tres columnas. Si tecleamos la siguiente sentencia:\n",
    "\n",
    "fprintf('%f %f %f \\n', A)\n",
    "\n",
    "¿Qué resultado obtendremos en pantalla?\n",
    "\n",
    "\n",
    "\n",
    "    [x] Los valores de la matriz A traspuesta, tres números en cada línea de pantalla\n",
    "    [] Los valores de la matriz A, tres números en cada línea de pantalla\n",
    "    "
   ]
  },
  {
   "cell_type": "code",
   "execution_count": 101,
   "metadata": {},
   "outputs": [
    {
     "name": "stdout",
     "output_type": "stream",
     "text": [
      "A =\n",
      "\n",
      "          8          1          6\n",
      "          3          5          7\n",
      "          4          9          2\n",
      "\n",
      "8.000000 3.000000 4.000000 \n",
      "1.000000 5.000000 9.000000 \n",
      "6.000000 7.000000 2.000000 \n"
     ]
    }
   ],
   "source": [
    "clear all;\n",
    "A=magic(3)\n",
    "fprintf('%f %f %f \\n', A)"
   ]
  }
 ],
 "metadata": {
  "kernelspec": {
   "display_name": "Octave",
   "language": "octave",
   "name": "octave"
  },
  "language_info": {
   "file_extension": ".m",
   "help_links": [
    {
     "text": "GNU Octave",
     "url": "https://www.gnu.org/software/octave/support.html"
    },
    {
     "text": "Octave Kernel",
     "url": "https://github.com/Calysto/octave_kernel"
    },
    {
     "text": "MetaKernel Magics",
     "url": "https://github.com/calysto/metakernel/blob/master/metakernel/magics/README.md"
    }
   ],
   "mimetype": "text/x-octave",
   "name": "octave",
   "version": "4.2.1"
  }
 },
 "nbformat": 4,
 "nbformat_minor": 2
}
