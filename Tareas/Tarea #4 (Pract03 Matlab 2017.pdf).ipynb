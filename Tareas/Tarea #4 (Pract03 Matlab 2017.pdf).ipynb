{
 "cells": [
  {
   "cell_type": "markdown",
   "metadata": {
    "collapsed": true
   },
   "source": [
    "**Universidad Nacional de Ingeniería**\n",
    "\n",
    "**Centro de Extensión y Proyección Social**\n",
    "\n",
    "---------------------------------------------\n",
    "\n",
    "# Matlab Práctica #03 #\n",
    "\n",
    "Alumno: Carlos Alonso Aznarán Laos.\n",
    "\n",
    "1. ¿Cuántas veces se ejecutará el siguiente código, cuál es valor de $a$ y $b$?\n",
    "```\n",
    "a = 0;\n",
    "b = 20;\n",
    "while a < b & b > 11\n",
    "    a = a + 1;\n",
    "    b = b - 1;\n",
    "end\n",
    "```\n",
    "2. ¿Qué se muestra luego de ejecutar el siguiente código? Explique qué hace este programa. Elija cualquier valor para $n$.\n",
    "```\n",
    "n = input ('Ingrese un número entero');\n",
    "i = 1;\n",
    "for k=1:n\n",
    "    if mod(n,k) == 0\n",
    "        y(i) = k;\n",
    "        i = i + 1;\n",
    "    end\n",
    "end\n",
    "```\n",
    "3. Graficar la función $\\displaystyle f(x)=\\frac{x}{1+x^2}$ para 5, 10, 30 y 100 valores equidistantes de $x$ para el intervalo $[-2,2]$. Mostrar las gráficas en una sola ventana gráfica.\n",
    "\n",
    "4. Escribir una función fact.m que calcule el factorial de un número entero positivo cualquiera. Ejemplo: factorial de 5 es igual a $5\\times4\\times3\\times2\\times1$."
   ]
  },
  {
   "cell_type": "code",
   "execution_count": 50,
   "metadata": {},
   "outputs": [
    {
     "name": "stdout",
     "output_type": "stream",
     "text": [
      "Solución del ejercicio 1:\n",
      "\n",
      "Se han ejecutado 9 ciclos.\n",
      "El valor actual de a es 9.\n",
      "El valor actual de b es 11.\n"
     ]
    }
   ],
   "source": [
    "clear all, clc;\n",
    "disp('Solución del ejercicio 1:');\n",
    "\n",
    "a = 0;\n",
    "b = 20;\n",
    "Contador=0; % Se inicializa el contador en 0.\n",
    "while a<b & b>11\n",
    "    a =a+1;\n",
    "    b = b-1;\n",
    "    Contador = Contador + 1;\n",
    "end\n",
    "fprintf('\\nSe han ejecutado %d ciclos.\\n',Contador) % Muestra la cantidad de repeticiones.\n",
    "fprintf('El valor actual de a es %d.\\n', a) % Muestra el valor final de a.\n",
    "fprintf('El valor actual de b es %d.\\n', b) % Muestra el valor final de b."
   ]
  },
  {
   "cell_type": "code",
   "execution_count": 51,
   "metadata": {},
   "outputs": [
    {
     "name": "stdout",
     "output_type": "stream",
     "text": [
      "Solución del ejercicio 2:\n",
      "Ingrese un número entero:24\n",
      "n =  24\n",
      "El valor de i es:\n",
      " 9\n"
     ]
    }
   ],
   "source": [
    "clear all, clc;\n",
    "disp('Solución del ejercicio 2:');\n",
    "\n",
    "n=input('Ingrese un número entero: ') % Por ejemplo n = 24.\n",
    "i=1;\n",
    "for k=1:n\n",
    "    if mod(n,k)==0\n",
    "        y(i)=k;\n",
    "        i=i+1;\n",
    "    end\n",
    "end\n",
    "disp('El valor de i es:'), disp(i)"
   ]
  },
  {
   "cell_type": "markdown",
   "metadata": {},
   "source": [
    "**Explicación del ejercicio 2:**\n",
    "\n",
    "El programa pide como dato de entrada un número entero. Desde la línea 1 hasta la 11 no imprime en pantalla, excepto el valor ingresado.\n",
    "\n",
    "### Casos ###\n",
    "1. **Valor entero negativo o cero:**\n",
    "Así, el bucle `for` recorre desde 1 hasta `n`, esto significa que tendría que recorrer de 1 hasta un entero negativo (o cero), por lo tanto, no realiza acción alguna.\n",
    "\n",
    "2. **Valor entero positivo:** En este caso, el bucle `for` se ejecuta, el contador `i` almacenará la cantidad de divisores de n, $\\sigma(n)$ + 1, pues `i` se inicializó en 1.\n",
    "\n",
    "**Observación:** En la línea 8, se crea un vector `y` que lista todos los divisores del número `n`. Más información sobre la tabla de divisores, [aquí](https://en.wikipedia.org/wiki/Table_of_divisors)."
   ]
  },
  {
   "cell_type": "code",
   "execution_count": 52,
   "metadata": {},
   "outputs": [
    {
     "data": {
      "image/png": "[encoded data removed]",
      "text/plain": [
       "<IPython.core.display.Image object>"
      ]
     },
     "metadata": {},
     "output_type": "display_data"
    }
   ],
   "source": [
    "clear all, clc;\n",
    "\n",
    "x1= linspace(-2,2,5);\n",
    "x2=linspace(-2,2,10);\n",
    "x3=linspace(-2,2,30);\n",
    "x4=linspace(-2,2,100);\n",
    "\n",
    "y1= x1./(1+x1.^2);\n",
    "y2= x2./(1+x2.^2);\n",
    "y3= x3./(1+x3.^2);\n",
    "y4= x4./(1+x4.^2);\n",
    "plot(x1,y1,'-',x2,y2,'-',x3,y3,'-',x4,y4,'-')\n",
    "title('Grafos del ejercicio 3')"
   ]
  },
  {
   "cell_type": "markdown",
   "metadata": {},
   "source": [
    "Guardar el `script` como `factori.m` \n",
    "\n",
    "```\n",
    "% La función factori devuelve el factorial de un número entero no negativo.\n",
    "% \n",
    "% Características:\n",
    "% \n",
    "% Tiene solo un argumento de entrada (entero positivo) y una única salida (entero no negativo). \n",
    "% \n",
    "% Ejemplo:\n",
    "% Calcule el factorial de 5:\n",
    "% Procedimiento:\n",
    "% Desde la ventana de comandos digite: factori(n)\n",
    "% ans = n!\n",
    "\n",
    "function factori(n)\n",
    "if (n==fix(n)) & (n>=0)\n",
    "    if (n==0)  | (n==1)\n",
    "        factori=1\n",
    "    else\n",
    "        f=1;\n",
    "        for j=1:n\n",
    "            f=f*j;\n",
    "        end\n",
    "        factori = f\n",
    "    end\n",
    "else\n",
    "    disp('Valor debe ser entero y mayor igual a 0.')\n",
    "end\n",
    "```"
   ]
  },
  {
   "cell_type": "code",
   "execution_count": 53,
   "metadata": {},
   "outputs": [
    {
     "name": "stdout",
     "output_type": "stream",
     "text": [
      "factori =  120\n"
     ]
    }
   ],
   "source": [
    "factori(5)"
   ]
  }
 ],
 "metadata": {
  "kernelspec": {
   "display_name": "Octave",
   "language": "octave",
   "name": "octave"
  },
  "language_info": {
   "file_extension": ".m",
   "help_links": [
    {
     "text": "GNU Octave",
     "url": "https://www.gnu.org/software/octave/support.html"
    },
    {
     "text": "Octave Kernel",
     "url": "https://github.com/Calysto/octave_kernel"
    },
    {
     "text": "MetaKernel Magics",
     "url": "https://github.com/calysto/metakernel/blob/master/metakernel/magics/README.md"
    }
   ],
   "mimetype": "text/x-octave",
   "name": "octave",
   "version": "4.2.1"
  }
 },
 "nbformat": 4,
 "nbformat_minor": 2
}
