{
 "cells": [
  {
   "cell_type": "markdown",
   "metadata": {},
   "source": [
    "### Solución de los ejercicios 1-22 de la página 48 del Manual de Matlab de la matemática Luz Maria Pimentel Herrera. ###"
   ]
  },
  {
   "cell_type": "markdown",
   "metadata": {},
   "source": [
    "1. Crear los siguientes vectores:\n",
    "\n",
    "    a. $X=\\left[3\\quad\\sqrt{7}\\quad\\pi\\quad e^{12}\\right]$\n",
    "    \n",
    "    b. $Y=\\left[0\\quad0.1\\pi\\quad0.2\\pi\\quad0.3\\pi\\quad0.4\\pi\\quad0.5\\pi\\quad0.6\\pi\\quad0.7\\pi\\quad0.8\\pi\\quad0.9\\pi\\quad\\pi\\right]$\n",
    "    \n",
    "    c. $K=\\begin{bmatrix}\n",
    "    7 & 6 & 5\\\\\n",
    "    2 & 4 & 16\\\\\n",
    "    9 & 3 & 1\n",
    "    \\end{bmatrix}$"
   ]
  },
  {
   "cell_type": "code",
   "execution_count": 3,
   "metadata": {},
   "outputs": [
    {
     "name": "stdout",
     "output_type": "stream",
     "text": [
      "a.\n",
      "X =\n",
      "\n",
      "        3.00        2.65        3.14   162754.79\n",
      "\n",
      "Parte b:\n",
      "Y =\n",
      "\n",
      "   0.00   0.31   0.63   0.94   1.26   1.57   1.88   2.20   2.51   2.83   3.14\n",
      "\n",
      "Parte c:\n",
      "K =\n",
      "\n",
      "    7    6    5\n",
      "    2    4   16\n",
      "    9    3    1\n",
      "\n"
     ]
    }
   ],
   "source": [
    "clear; clc;\n",
    "format bank\n",
    "disp('a.')\n",
    "x1= 3; x2=sqrt(7); x3=pi; x4=exp(1)^12;\n",
    "X = [x1 x2 x3 x4] % Con dos decimales\n",
    "disp('Parte b:')\n",
    "y = [0:.1:1];\n",
    "Y=pi*y\n",
    "disp('Parte c:')\n",
    "format\n"
   ]
  }
 ],
 "metadata": {
  "kernelspec": {
   "display_name": "Octave",
   "language": "octave",
   "name": "octave"
  },
  "language_info": {
   "file_extension": ".m",
   "help_links": [
    {
     "text": "GNU Octave",
     "url": "https://www.gnu.org/software/octave/support.html"
    },
    {
     "text": "Octave Kernel",
     "url": "https://github.com/Calysto/octave_kernel"
    },
    {
     "text": "MetaKernel Magics",
     "url": "https://github.com/calysto/metakernel/blob/master/metakernel/magics/README.md"
    }
   ],
   "mimetype": "text/x-octave",
   "name": "octave",
   "version": "4.2.1"
  }
 },
 "nbformat": 4,
 "nbformat_minor": 2
}
