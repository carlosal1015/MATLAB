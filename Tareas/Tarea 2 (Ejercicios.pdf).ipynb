{
 "cells": [
  {
   "cell_type": "markdown",
   "metadata": {},
   "source": [
    "### Tarea del archivo `ejercicios.pdf` ###\n",
    "\n",
    "Nombres: Carlos Alonso\n",
    "\n",
    "Apellidos: Aznarán Laos\n",
    "\n",
    "Fecha: 28 de diciembre del 2017."
   ]
  },
  {
   "cell_type": "markdown",
   "metadata": {},
   "source": [
    "## Completar utilizando funciones de MATLAB: ##"
   ]
  },
  {
   "cell_type": "markdown",
   "metadata": {},
   "source": [
    "1. ¿Cuántos números pares hay en el vector $\\mathbf{R}$?\n",
    "\n",
    "    Asumiendo un vector con los valores siguientes:\n",
    "$$R=[1\\quad2\\quad3\\quad4\\quad5\\quad6\\quad7\\quad8\\quad9]$$\n",
    "\n",
    "2. Dado el vector $\\mathbf{R}$, obtener el vector $\\mathbf{F}$ que tiene los elementos invertidos.\n",
    "\n",
    "3. El promedio de los elementos del vector $\\mathbf{R}$, sin considerar el menor elemento.\n",
    "\n",
    "4. Formar el vector $\\mathbf{F}$, a partir de los elementos de índice impar del vector $\\mathbf{R}$.\n",
    "\n",
    "5. La mayor suma de filas de una matriz $\\mathbf{R}$.\n",
    "\n",
    "6. Dada la matriz cuadrada $\\mathbf{A}$, hallar la matriz $\\mathbf{B}$ tal que $\\mathbf{B}^2=\\mathbf{A}$."
   ]
  },
  {
   "cell_type": "code",
   "execution_count": 5,
   "metadata": {},
   "outputs": [
    {
     "name": "stdout",
     "output_type": "stream",
     "text": [
      "Ingrese un vector R:[1 2 3 4 5 6 7 8 9]\n",
      "R =\n",
      "\n",
      "   1   2   3   4   5   6   7   8   9\n",
      "\n",
      "parse error:\n",
      "\n",
      "  syntax error\n",
      "\n",
      ">>> F = 1/.R\n",
      "          ^\n",
      "\n"
     ]
    }
   ],
   "source": [
    "% Solución. Nombre del archivo myfunc.m\n",
    "R = input('Ingrese un vector R: ')\n",
    "\n",
    "F = 1/.R"
   ]
  }
 ],
 "metadata": {
  "kernelspec": {
   "display_name": "Octave",
   "language": "octave",
   "name": "octave"
  },
  "language_info": {
   "file_extension": ".m",
   "help_links": [
    {
     "text": "GNU Octave",
     "url": "https://www.gnu.org/software/octave/support.html"
    },
    {
     "text": "Octave Kernel",
     "url": "https://github.com/Calysto/octave_kernel"
    },
    {
     "text": "MetaKernel Magics",
     "url": "https://github.com/calysto/metakernel/blob/master/metakernel/magics/README.md"
    }
   ],
   "mimetype": "text/x-octave",
   "name": "octave",
   "version": "4.2.1"
  }
 },
 "nbformat": 4,
 "nbformat_minor": 2
}
