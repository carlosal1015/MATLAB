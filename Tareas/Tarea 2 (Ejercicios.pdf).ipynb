{
 "cells": [
  {
   "cell_type": "markdown",
   "metadata": {},
   "source": [
    "### Tarea del archivo `ejercicios.pdf` ###\n",
    "\n",
    "Nombres: Carlos Alonso\n",
    "\n",
    "Apellidos: Aznarán Laos\n",
    "\n",
    "Fecha: 28 de diciembre del 2017."
   ]
  },
  {
   "cell_type": "markdown",
   "metadata": {},
   "source": [
    "## Completar utilizando funciones de MATLAB: ##"
   ]
  },
  {
   "cell_type": "markdown",
   "metadata": {},
   "source": [
    "1. ¿Cuántos números pares hay en el vector $\\mathbf{R}$?\n",
    "\n",
    "    Asumiendo un vector con los valores siguientes:\n",
    "$$\\mathbf{R}=[1\\quad2\\quad3\\quad4\\quad5\\quad6\\quad7\\quad8\\quad9]$$\n",
    "\n",
    "2. Dado el vector $\\mathbf{R}$, obtener el vector $\\mathbf{F}$ que tiene los elementos invertidos.\n",
    "\n",
    "3. El promedio de los elementos del vector $\\mathbf{R}$, sin considerar el menor elemento.\n",
    "\n",
    "4. Formar el vector $\\mathbf{F}$, a partir de los elementos de índice impar del vector $\\mathbf{R}$.\n",
    "\n",
    "5. La mayor suma de filas de una matriz $\\mathbf{R}$.\n",
    "\n",
    "6. Dada la matriz cuadrada $\\mathbf{A}$, hallar la matriz $\\mathbf{B}$ tal que $\\mathbf{B}^2=\\mathbf{A}$."
   ]
  },
  {
   "cell_type": "code",
   "execution_count": 19,
   "metadata": {},
   "outputs": [
    {
     "name": "stdout",
     "output_type": "stream",
     "text": [
      "Pregunta 1:\n",
      "Ingrese un vector R:[1:9]\n",
      "R =\n",
      "\n",
      "   1   2   3   4   5   6   7   8   9\n",
      "\n",
      "par =  4\n",
      "Pregunta 2:\n",
      "F =\n",
      "\n",
      " Columns 1 through 7:\n",
      "\n",
      "          1        1/2        1/3        1/4        1/5        1/6        1/7\n",
      "\n",
      " Columns 8 and 9:\n",
      "\n",
      "        1/8        1/9\n",
      "\n",
      "Pregunta 3:\n",
      "promedio =  5.5000\n",
      "Pregunta 4:\n",
      "F =\n",
      "\n",
      "   1   3   5   7   9\n",
      "\n",
      "Pregunta 5:\n",
      "R =\n",
      "\n",
      "   1   2   3\n",
      "   4   5   6\n",
      "   7   8   9\n",
      "\n",
      "ans =  24\n",
      "Pregunta 6:\n",
      "A =\n",
      "\n",
      "   8   1   6\n",
      "   3   5   7\n",
      "   4   9   2\n",
      "\n",
      "B =\n",
      "\n",
      "   2.8284   1.0000   2.4495\n",
      "   1.7321   2.2361   2.6458\n",
      "   2.0000   3.0000   1.4142\n",
      "\n"
     ]
    }
   ],
   "source": [
    "% Solución. Nombre del script myfunc.m\n",
    "disp('Pregunta 1:')\n",
    "R = input('Ingrese un vector R: ')\n",
    "par = length(find(mod(R,2)==0))\n",
    "\n",
    "disp('Pregunta 2:')\n",
    "format rat\n",
    "F = 1./R\n",
    "\n",
    "disp('Pregunta 3:')\n",
    "format\n",
    "promedio = (sum(R(:))-min(R(:)))/(numel(R)-1)\n",
    "\n",
    "disp('Pregunta 4:')\n",
    "F = R(1:2:end)\n",
    "\n",
    "disp('Pregunta 5:')\n",
    "R=[1 2 3;\n",
    "   4 5 6;\n",
    "   7 8 9]\n",
    "a=find(R == max(R(:))); % Índice de valor máximo.\n",
    "R(a);\n",
    "\n",
    "B=sum(R,2);\n",
    "b = find(B == max(B(:)));\n",
    "B(b)\n",
    "%b=find(max(sum(R,2));\n",
    "disp('Pregunta 6:')\n",
    "A = magic(3)\n",
    "B = A.^0.5"
   ]
  },
  {
   "cell_type": "code",
   "execution_count": null,
   "metadata": {
    "collapsed": true
   },
   "outputs": [],
   "source": []
  }
 ],
 "metadata": {
  "kernelspec": {
   "display_name": "Octave",
   "language": "octave",
   "name": "octave"
  },
  "language_info": {
   "file_extension": ".m",
   "help_links": [
    {
     "text": "GNU Octave",
     "url": "https://www.gnu.org/software/octave/support.html"
    },
    {
     "text": "Octave Kernel",
     "url": "https://github.com/Calysto/octave_kernel"
    },
    {
     "text": "MetaKernel Magics",
     "url": "https://github.com/calysto/metakernel/blob/master/metakernel/magics/README.md"
    }
   ],
   "mimetype": "text/x-octave",
   "name": "octave",
   "version": "4.2.1"
  }
 },
 "nbformat": 4,
 "nbformat_minor": 2
}
