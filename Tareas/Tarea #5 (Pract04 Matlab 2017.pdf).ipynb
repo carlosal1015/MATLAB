{
 "cells": [
  {
   "cell_type": "markdown",
   "metadata": {
    "collapsed": true
   },
   "source": [
    "**Universidad Nacional de Ingeniería**\n",
    "\n",
    "**Centro de Extensión y Proyección Social**\n",
    "\n",
    "---------------------------------------------\n",
    "\n",
    "# Matlab Práctica #04 #\n",
    "\n",
    "1. Calcula y representa gráficamente la recta de regresión asociada a los siguientes datos:\n",
    "\n",
    "    x = (0, 2, 3, 5, 6, 8, 9, 11, 12, 14, 15)\n",
    "\n",
    "    y = (10, 20, 30, -10, 10, 10, 10, 5, 15, 50, 60, 85)\n",
    "\n",
    "2. Realizar un gráfico de sectores 2D y 3D en el cual se resalte el sector de Inca Kola y se indique la leyenda por el color del sector correspondiente.\n",
    "\n",
    "|Gasesosa   |Coca Cola|Guarana|Inca Kola|Kola Real|Pepsi|Otros|Total|\n",
    "|:---------:|:-------:|:-----:|:-------:|:-------:|:---:|:---:|:---:|\n",
    "|Preferencia|13       |     9 | 15      |   5     | 8   |3    | 53  |\n",
    "\n",
    "3. Graficar en una sola pantalla gráfica.\n",
    "4. Dibujar la gráfica de la curva $y=\\lambda\\sin(x)$ para varios valores de $\\lambda$ contenidos en el intervalo $[-1,1]$."
   ]
  },
  {
   "cell_type": "code",
   "execution_count": null,
   "metadata": {
    "collapsed": true
   },
   "outputs": [],
   "source": [
    "clear all, clc;\n",
    "x = [0,2,3,5,6,8,9,11,12,14,15];\n",
    "y = [10,20,30, -10,10,10,10.5,15,50,60,85];\n",
    "regression(x,y) % No definido en GNU Octave, a menos que se cargue el paquete optim con Octave-forge :)\n",
    "plotregression(x,y,'Regresión lineal simple') % No definido en GNU Octave"
   ]
  },
  {
   "cell_type": "code",
   "execution_count": null,
   "metadata": {
    "collapsed": true
   },
   "outputs": [],
   "source": []
  }
 ],
 "metadata": {
  "kernelspec": {
   "display_name": "Octave",
   "language": "octave",
   "name": "octave"
  },
  "language_info": {
   "file_extension": ".m",
   "help_links": [
    {
     "text": "GNU Octave",
     "url": "https://www.gnu.org/software/octave/support.html"
    },
    {
     "text": "Octave Kernel",
     "url": "https://github.com/Calysto/octave_kernel"
    },
    {
     "text": "MetaKernel Magics",
     "url": "https://github.com/calysto/metakernel/blob/master/metakernel/magics/README.md"
    }
   ],
   "mimetype": "text/x-octave",
   "name": "octave",
   "version": "4.2.1"
  }
 },
 "nbformat": 4,
 "nbformat_minor": 2
}
