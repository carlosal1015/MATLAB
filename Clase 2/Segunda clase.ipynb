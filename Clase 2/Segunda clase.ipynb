{
 "cells": [
  {
   "cell_type": "markdown",
   "metadata": {},
   "source": [
    "## Segunda clase ##\n",
    "\n",
    "Empezaremos con el estudio de más comandos. Durante nuestro aprendizaje es beneficioso conocer las opciones de ciertos comandos y con el comando *\"ayuda\"* `help` seguido del nombre de la acción deseada podemos conocer más, veamos: "
   ]
  },
  {
   "cell_type": "code",
   "execution_count": 33,
   "metadata": {},
   "outputs": [
    {
     "name": "stdout",
     "output_type": "stream",
     "text": [
      "'clear' is a built-in function from the file libinterp/corefcn/variables.cc\n",
      "\n",
      " -- clear [options] pattern ...\n",
      "     Delete the names matching the given patterns from the symbol table.\n",
      "\n",
      "     The pattern may contain the following special characters:\n",
      "\n",
      "     '?'\n",
      "          Match any single character.\n",
      "\n",
      "     '*'\n",
      "          Match zero or more characters.\n",
      "\n",
      "     '[ LIST ]'\n",
      "          Match the list of characters specified by LIST.  If the first\n",
      "          character is '!' or '^', match all characters except those\n",
      "          specified by LIST.  For example, the pattern '[a-zA-Z]' will\n",
      "          match all lowercase and uppercase alphabetic characters.\n",
      "\n",
      "     For example, the command\n",
      "\n",
      "          clear foo b*r\n",
      "\n",
      "     clears the name 'foo' and all names that begin with the letter 'b'\n",
      "     and end with the letter 'r'.\n",
      "\n",
      "     If 'clear' is called without any arguments, all user-defined\n",
      "     variables (local and global) are cleared from the symbol table.\n",
      "\n",
      "     If 'clear' is called with at least one argument, only the visible\n",
      "     names matching the arguments are cleared.  For example, suppose you\n",
      "     have defined a function 'foo', and then hidden it by performing the\n",
      "     assignment 'foo = 2'.  Executing the command 'clear foo' once will\n",
      "     clear the variable definition and restore the definition of 'foo'\n",
      "     as a function.  Executing 'clear foo' a second time will clear the\n",
      "     function definition.\n",
      "\n",
      "     The following options are available in both long and short form\n",
      "\n",
      "     '-all, -a'\n",
      "          Clear all local and global user-defined variables and all\n",
      "          functions from the symbol table.\n",
      "\n",
      "     '-exclusive, -x'\n",
      "          Clear the variables that don't match the following pattern.\n",
      "\n",
      "     '-functions, -f'\n",
      "          Clear the function names and the built-in symbols names.\n",
      "\n",
      "     '-global, -g'\n",
      "          Clear global symbol names.\n",
      "\n",
      "     '-variables, -v'\n",
      "          Clear local variable names.\n",
      "\n",
      "     '-classes, -c'\n",
      "          Clears the class structure table and clears all objects.\n",
      "\n",
      "     '-regexp, -r'\n",
      "          The arguments are treated as regular expressions as any\n",
      "          variables that match will be cleared.\n",
      "\n",
      "     With the exception of 'exclusive', all long options can be used\n",
      "     without the dash as well.\n",
      "\n",
      "     See also: who, whos, exist.\n",
      "\n",
      "Additional help for built-in functions and operators is\n",
      "available in the online version of the manual.  Use the command\n",
      "'doc <topic>' to search the manual index.\n",
      "\n",
      "Help and information about Octave is also available on the WWW\n",
      "at http://www.octave.org and via the help@octave.org\n",
      "mailing list.\n",
      "'format' is a built-in function from the file libinterp/corefcn/pr-output.cc\n",
      "\n",
      " -- format\n",
      " -- format options\n",
      "     Reset or specify the format of the output produced by 'disp' and\n",
      "     Octave's normal echoing mechanism.\n",
      "\n",
      "     This command only affects the display of numbers but not how they\n",
      "     are stored or computed.  To change the internal representation from\n",
      "     the default double use one of the conversion functions such as\n",
      "     'single', 'uint8', 'int64', etc.\n",
      "\n",
      "     By default, Octave displays 5 significant digits in a human\n",
      "     readable form (option 'short' paired with 'loose' format for\n",
      "     matrices).  If 'format' is invoked without any options, this\n",
      "     default format is restored.\n",
      "\n",
      "     Valid formats for floating point numbers are listed in the\n",
      "     following table.\n",
      "\n",
      "     'short'\n",
      "          Fixed point format with 5 significant figures in a field that\n",
      "          is a maximum of 10 characters wide.  (default).\n",
      "\n",
      "          If Octave is unable to format a matrix so that columns line up\n",
      "          on the decimal point and all numbers fit within the maximum\n",
      "          field width then it switches to an exponential 'e' format.\n",
      "\n",
      "     'long'\n",
      "          Fixed point format with 15 significant figures in a field that\n",
      "          is a maximum of 20 characters wide.\n",
      "\n",
      "          As with the 'short' format, Octave will switch to an\n",
      "          exponential 'e' format if it is unable to format a matrix\n",
      "          properly using the current format.\n",
      "\n",
      "     'short e'\n",
      "     'long e'\n",
      "          Exponential format.  The number to be represented is split\n",
      "          between a mantissa and an exponent (power of 10).  The\n",
      "          mantissa has 5 significant digits in the short format and 15\n",
      "          digits in the long format.  For example, with the 'short e'\n",
      "          format, 'pi' is displayed as '3.1416e+00'.\n",
      "\n",
      "     'short E'\n",
      "     'long E'\n",
      "          Identical to 'short e' or 'long e' but displays an uppercase\n",
      "          'E' to indicate the exponent.  For example, with the 'long E'\n",
      "          format, 'pi' is displayed as '3.14159265358979E+00'.\n",
      "\n",
      "     'short g'\n",
      "     'long g'\n",
      "          Optimally choose between fixed point and exponential format\n",
      "          based on the magnitude of the number.  For example, with the\n",
      "          'short g' format, 'pi .^ [2; 4; 8; 16; 32]' is displayed as\n",
      "\n",
      "               ans =\n",
      "\n",
      "                     9.8696\n",
      "                     97.409\n",
      "                     9488.5\n",
      "                 9.0032e+07\n",
      "                 8.1058e+15\n",
      "\n",
      "     'short eng'\n",
      "     'long eng'\n",
      "          Identical to 'short e' or 'long e' but displays the value\n",
      "          using an engineering format, where the exponent is divisible\n",
      "          by 3.  For example, with the 'short eng' format, '10 * pi' is\n",
      "          displayed as '31.4159e+00'.\n",
      "\n",
      "     'long G'\n",
      "     'short G'\n",
      "          Identical to 'short g' or 'long g' but displays an uppercase\n",
      "          'E' to indicate the exponent.\n",
      "\n",
      "     'free'\n",
      "     'none'\n",
      "          Print output in free format, without trying to line up columns\n",
      "          of matrices on the decimal point.  This also causes complex\n",
      "          numbers to be formatted as numeric pairs like this '(0.60419,\n",
      "          0.60709)' instead of like this '0.60419 + 0.60709i'.\n",
      "\n",
      "     The following formats affect all numeric output (floating point and\n",
      "     integer types).\n",
      "\n",
      "     '\"+\"'\n",
      "     '\"+\" CHARS'\n",
      "     'plus'\n",
      "     'plus CHARS'\n",
      "          Print a '+' symbol for matrix elements greater than zero, a\n",
      "          '-' symbol for elements less than zero and a space for zero\n",
      "          matrix elements.  This format can be very useful for examining\n",
      "          the structure of a large sparse matrix.\n",
      "\n",
      "          The optional argument CHARS specifies a list of 3 characters\n",
      "          to use for printing values greater than zero, less than zero\n",
      "          and equal to zero.  For example, with the '\"+\" \"+-.\"' format,\n",
      "          '[1, 0, -1; -1, 0, 1]' is displayed as\n",
      "\n",
      "               ans =\n",
      "\n",
      "               +.-\n",
      "               -.+\n",
      "\n",
      "     'bank'\n",
      "          Print in a fixed format with two digits to the right of the\n",
      "          decimal point.\n",
      "\n",
      "     'native-hex'\n",
      "          Print the hexadecimal representation of numbers as they are\n",
      "          stored in memory.  For example, on a workstation which stores\n",
      "          8 byte real values in IEEE format with the least significant\n",
      "          byte first, the value of 'pi' when printed in 'native-hex'\n",
      "          format is '400921fb54442d18'.\n",
      "\n",
      "     'hex'\n",
      "          The same as 'native-hex', but always print the most\n",
      "          significant byte first.\n",
      "\n",
      "     'native-bit'\n",
      "          Print the bit representation of numbers as stored in memory.\n",
      "          For example, the value of 'pi' is\n",
      "\n",
      "               01000000000010010010000111111011\n",
      "               01010100010001000010110100011000\n",
      "\n",
      "          (shown here in two 32 bit sections for typesetting purposes)\n",
      "          when printed in native-bit format on a workstation which\n",
      "          stores 8 byte real values in IEEE format with the least\n",
      "          significant byte first.\n",
      "\n",
      "     'bit'\n",
      "          The same as 'native-bit', but always print the most\n",
      "          significant bits first.\n",
      "\n",
      "     'rat'\n",
      "          Print a rational approximation, i.e., values are approximated\n",
      "          as the ratio of small integers.  For example, with the 'rat'\n",
      "          format, 'pi' is displayed as '355/113'.\n",
      "\n",
      "     The following two options affect the display of all matrices.\n",
      "\n",
      "     'compact'\n",
      "          Remove blank lines around column number labels and between\n",
      "          matrices producing more compact output with more data per\n",
      "          page.\n",
      "\n",
      "     'loose'\n",
      "          Insert blank lines above and below column number labels and\n",
      "          between matrices to produce a more readable output with less\n"
     ]
    },
    {
     "name": "stdout",
     "output_type": "stream",
     "text": [
      "          data per page.  (default).\n",
      "\n",
      "     See also: fixed_point_format, output_max_field_width,\n",
      "     output_precision, split_long_rows, print_empty_dimensions, rats.\n",
      "\n",
      "Additional help for built-in functions and operators is\n",
      "available in the online version of the manual.  Use the command\n",
      "'doc <topic>' to search the manual index.\n",
      "\n",
      "Help and information about Octave is also available on the WWW\n",
      "at http://www.octave.org and via the help@octave.org\n",
      "mailing list.\n"
     ]
    }
   ],
   "source": [
    "help clear\n",
    "help format"
   ]
  },
  {
   "cell_type": "markdown",
   "metadata": {},
   "source": [
    "## Función display ##\n",
    "\n",
    "`disp(X)` Muestra el valor de la variable `X` sin imprimir el nombre de la variable. Otra forma de mostrar una variable es escribir su nombre, que muestra una \"X =\" delante del valor. Si una variable contiene una matriz vacía, `disp` devuelve sin mostrar nada.\n",
    "\n",
    "**Mostrar valores de variables:**\n",
    "\n",
    "Crea una variable con números y otra variable con texto."
   ]
  },
  {
   "cell_type": "code",
   "execution_count": 42,
   "metadata": {},
   "outputs": [
    {
     "name": "stdout",
     "output_type": "stream",
     "text": [
      "    15   150\n",
      "Hello World.\n"
     ]
    }
   ],
   "source": [
    "A = [15 150];\n",
    "S = 'Hello World.';\n",
    "# disp muestra el valor de cada variable.\n",
    "disp(A)\n",
    "disp(S)"
   ]
  },
  {
   "cell_type": "markdown",
   "metadata": {},
   "source": [
    "**Mostrar matrices con etiquetas de columna:**\n",
    "\n",
    "Muestra una matriz y una etiqueta de las columnas tales como Linear Algebra, Real Analysis, Tail theory y Topology."
   ]
  },
  {
   "cell_type": "code",
   "execution_count": 62,
   "metadata": {},
   "outputs": [
    {
     "name": "stdout",
     "output_type": "stream",
     "text": [
      "My favorites math subjects are:   Linear Algebra   Real Analysis   Tail theory   Topology\n",
      "   0.46   0.02   0.10\n",
      "   0.86   0.77   0.25\n",
      "   0.97   1.00   0.36\n",
      "   0.39   0.69   0.53\n",
      "   0.37   0.44   0.12\n"
     ]
    }
   ],
   "source": [
    "format bank\n",
    "X = rand(5,3); % Matriz de 5x3 con números pseudoaleatorios entre 0 y 1 con dos decimales\n",
    "disp('My favorites math subjects are:   Linear Algebra   Real Analysis   Tail theory   Topology')\n",
    "disp(X)"
   ]
  },
  {
   "cell_type": "markdown",
   "metadata": {},
   "source": [
    "**Mostrar múltiples variables en la misma línea:**\n",
    "\n",
    "Aquí hay tres formas de mostrar múltiples valores de variables en la misma línea en la ventana de comandos. Concatene vectores de caracteres múltiples juntos usando el operador `[]`. Convierta cualquier valor numérico en caracteres usando la función `num2str`. Use `disp` para visualizar el resultado."
   ]
  },
  {
   "cell_type": "code",
   "execution_count": 63,
   "metadata": {},
   "outputs": [
    {
     "name": "stdout",
     "output_type": "stream",
     "text": [
      "Oromion tendrá 14 el próximo año.\n"
     ]
    }
   ],
   "source": [
    "name = 'Oromion';   \n",
    "age = 14;\n",
    "X = [name,' tendrá ',num2str(age),' el próximo año.'];\n",
    "disp(X)"
   ]
  },
  {
   "cell_type": "markdown",
   "metadata": {},
   "source": [
    "Use `sprintf` para crear un texto, y luego imprímalo con `disp`."
   ]
  },
  {
   "cell_type": "code",
   "execution_count": 64,
   "metadata": {},
   "outputs": [
    {
     "name": "stdout",
     "output_type": "stream",
     "text": [
      "Oromion tendrá 14 el próximo año.\n"
     ]
    }
   ],
   "source": [
    "name = 'Oromion';   \n",
    "age = 14;\n",
    "X = sprintf('%s tendrá %d el próximo año.',name,age);\n",
    "disp(X)"
   ]
  },
  {
   "cell_type": "markdown",
   "metadata": {},
   "source": [
    "Use `fprintf` to directly display the text without creating a variable. However, to terminate the display properly, you must end the text with the newline (\\n) metacharacter."
   ]
  },
  {
   "cell_type": "markdown",
   "metadata": {},
   "source": [
    "## Función sum ##\n",
    "\n",
    "`sum(x,y)`."
   ]
  },
  {
   "cell_type": "markdown",
   "metadata": {},
   "source": [
    "# Lista de ejercicios resueltos #\n",
    "\n",
    "Si desea puede guardar el script como `sd00X.m` y después ejecutarlo en GNU Octave."
   ]
  },
  {
   "cell_type": "markdown",
   "metadata": {},
   "source": [
    "### Ejercicio sd001.m ###\n",
    "\n",
    "**Instrucciones:**\n",
    "1. Crear una matriz mágica $\\mathbf{A}$ de orden 3.\n",
    "2. Ingresar una matriz $\\mathbf{B}$ de orden 3.\n",
    "3. Sume las matrices $\\mathbf{A}$ y $\\mathbf{B}$.\n",
    "4. Genere una matriz simétrica a partir de $\\mathbf{A}$.\n",
    "5. Genere una matriz antisimétrica a partir de $\\mathbf{B}$ con entradas fraccionarias.\n",
    "6. Regrese al formato con cuatro decimales."
   ]
  },
  {
   "cell_type": "code",
   "execution_count": 37,
   "metadata": {},
   "outputs": [
    {
     "name": "stdout",
     "output_type": "stream",
     "text": [
      "Suma de matrices:\n",
      "Suma =\n",
      "\n",
      "    9   -1    9\n",
      "    8    9   15\n",
      "    4   12   19\n",
      "\n",
      "Matriz simétrica\n",
      "ans =\n",
      "\n",
      "   8   2   5\n",
      "   2   5   8\n",
      "   5   8   2\n",
      "\n",
      "Matriz antisimétrica\n",
      "ans =\n",
      "\n",
      "          0       -7/2        3/2\n",
      "        7/2          0        5/2\n",
      "       -3/2       -5/2          0\n",
      "\n"
     ]
    }
   ],
   "source": [
    "clear all; clc;\n",
    "\n",
    "A = magic(3); % Step 1.\n",
    "B = [1 -2 3; 5 4 8; 0 3 17]; % Step 2.\n",
    "\n",
    "disp('Suma de matrices:');\n",
    "Suma = A + B % Step 3.\n",
    "\n",
    "disp('Matriz simétrica');\n",
    "(A+A.')/2' % Step 4.\n",
    "\n",
    "disp('Matriz antisimétrica');\n",
    "format rat % Step 5.a\n",
    "(B-B.')/2 % Step 5.b\n",
    "% Se almacena en la variable `ans` la última operación\n",
    "format % Regresa al formato con cuatro decimales."
   ]
  },
  {
   "cell_type": "markdown",
   "metadata": {},
   "source": [
    "### Ejercicio sd002.m ###\n",
    "\n",
    "**Instrucciones:**\n",
    "1. Crear una matriz mágica $\\mathbf{A}$ de orden 3.\n",
    "2. Crear una matriz $\\mathbf{B}$ de orden 3.\n",
    "3. Imprima la matriz producto $\\mathbf{M}=\\mathbf{A}\\mathbf{B}$. (Nótese que el producto usual está bien definido).\n",
    "4. Imprima la traza de $\\mathbf{M}$.\n",
    "5. Imprima la matriz $\\mathbf{M}$ como un vector columna."
   ]
  },
  {
   "cell_type": "code",
   "execution_count": 38,
   "metadata": {},
   "outputs": [
    {
     "name": "stdout",
     "output_type": "stream",
     "text": [
      "Producto de matrices, M=AxB:\n",
      "M =\n",
      "\n",
      "    13     6   134\n",
      "    28    35   168\n",
      "    49    34   118\n",
      "\n",
      "Suma de la diagonal principal, esto es, la traza de M:\n",
      " 166\n",
      "Imprimir la matriz M como un vector fila:\n",
      "    13    28    49     6    35    34   134   168   118\n"
     ]
    }
   ],
   "source": [
    "clear all; clc;\n",
    "\n",
    "A = magic (3); % Step 1.\n",
    "B = [1 -2 3; 5 4 8; 0 3 17]; % Step 2.\n",
    "\n",
    "disp('Producto de matrices, M=AxB:');\n",
    "M = A * B % Step 3.\n",
    "\n",
    "disp('Suma de la diagonal principal, esto es, la traza de M:');\n",
    "disp(trace(M)); % Step 4.\n",
    "\n",
    "disp('Imprimir la matriz M como un vector fila:');\n",
    "disp(M(:)') % Step 5."
   ]
  },
  {
   "cell_type": "markdown",
   "metadata": {},
   "source": [
    "### Ejercicio sd003.m ###\n",
    "\n",
    "**Instrucciones:**\n",
    "1. Crear una matriz $\\mathbf{A}$ de orden 3.\n",
    "2. Calcule la traza de $\\mathbf{A}$.\n",
    "3. Calcule la suma de los elementos de la contradiagonal de $\\mathbf{A}$.\n",
    "4. Muestre como un vector fila la suma de cada una de las columnas de $\\mathbf{A}$.\n",
    "5. Muestre como un vector columna la suma de cada una de las filas de $\\mathbf{A}$.\n",
    "6. Calcule el rango de la matriz $\\mathbf{A}$."
   ]
  },
  {
   "cell_type": "code",
   "execution_count": 17,
   "metadata": {},
   "outputs": [
    {
     "name": "stdout",
     "output_type": "stream",
     "text": [
      "La traza de la matriz A es 22.\n",
      "\n",
      "Matriz A de derecha a izquierda:\n",
      "    3   -2    1\n",
      "    8    4    5\n",
      "   17    3    0\n",
      "\n",
      "La suma de los elementos de la contradiagonal de A es 7.\n",
      "\n",
      "Matriz A de abajo hacia arriba:\n",
      "    0    3   17\n",
      "    5    4    8\n",
      "    1   -2    3\n",
      "La suma de la primera, segunda y tercera columna de A es:\n",
      "sumaColumna =\n",
      "\n",
      "    6    5   28\n",
      "\n",
      "La suma de la primera, segunda y tercera fila de A es:\n",
      "sumaFila =\n",
      "\n",
      "    2\n",
      "   17\n",
      "   20\n",
      "\n",
      "\n",
      "El rango de la matriz A es 3.\n",
      "\n",
      "Así se concluye que tiene la matriz A tiene tres vectores filas linealmente independientes, y su (función multilineal alternada) determinante es no nulo.\n"
     ]
    }
   ],
   "source": [
    "clear all; clc;\n",
    "\n",
    "A = [1 -2 3; 5 4 8; 0 3 17]; % Step 1.\n",
    "\n",
    "fprintf('La traza de la matriz A es %0.0f.\\n\\n', trace(A)) % Step 2.\n",
    "\n",
    "disp('Matriz A de derecha a izquierda:');\n",
    "\n",
    "disp(fliplr(A)); % Show flipped left right matrix.\n",
    "\n",
    "fprintf('\\nLa suma de los elementos de la contradiagonal de A es %0.0f.\\n\\n', trace (fliplr(A))) % Step 3.\n",
    "disp('Matriz A de abajo hacia arriba:');\n",
    "disp(flipud(A)); % Show flipped up down matrix.\n",
    "\n",
    "disp('La suma de la primera, segunda y tercera columna de A es:')\n",
    "sumaColumna = sum(A,1) % Step 4.\n",
    "disp('La suma de la primera, segunda y tercera fila de A es:')\n",
    "sumaFila = sum(A,2) % Step 5.\n",
    "\n",
    "fprintf('\\nEl rango de la matriz A es %0.0f.\\n\\n', rank (A)) % Step 6.\n",
    "disp('Así se concluye que tiene la matriz A tiene tres vectores filas linealmente independientes, y su (función multilineal alternada) determinante es no nulo.')"
   ]
  },
  {
   "cell_type": "markdown",
   "metadata": {},
   "source": [
    "### Ejercicio sd004.m ###\n",
    "\n",
    "**Instrucciones:**\n",
    "1. Crear una matriz $\\mathbf{A}$ de orden 3.\n",
    "2. Calcule la traza de $\\mathbf{A}$.\n",
    "3. Calcule la suma."
   ]
  }
 ],
 "metadata": {
  "kernelspec": {
   "display_name": "Octave",
   "language": "octave",
   "name": "octave"
  },
  "language_info": {
   "file_extension": ".m",
   "help_links": [
    {
     "text": "GNU Octave",
     "url": "https://www.gnu.org/software/octave/support.html"
    },
    {
     "text": "Octave Kernel",
     "url": "https://github.com/Calysto/octave_kernel"
    },
    {
     "text": "MetaKernel Magics",
     "url": "https://github.com/calysto/metakernel/blob/master/metakernel/magics/README.md"
    }
   ],
   "mimetype": "text/x-octave",
   "name": "octave",
   "version": "4.2.1"
  }
 },
 "nbformat": 4,
 "nbformat_minor": 2
}
